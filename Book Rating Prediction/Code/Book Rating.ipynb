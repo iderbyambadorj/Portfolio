{
 "cells": [
  {
   "attachments": {},
   "cell_type": "markdown",
   "metadata": {},
   "source": [
    "# COMP30027 Project 2 Code\n",
    "### Student Name: Ider Byambadorj\n",
    "### Student ID: 1198613\n",
    "Acknowledgement: Some functions from sklearn have been implemented in this code. Doc2Vec vector matrices provided with the assignment has been used in this code."
   ]
  },
  {
   "attachments": {},
   "cell_type": "markdown",
   "metadata": {},
   "source": [
    "# Training Phase\n",
    "## Read the training data"
   ]
  },
  {
   "cell_type": "code",
   "execution_count": 1,
   "metadata": {},
   "outputs": [
    {
     "name": "stdout",
     "output_type": "stream",
     "text": [
      "(23063, 10)\n"
     ]
    }
   ],
   "source": [
    "import pandas as pd\n",
    "import numpy as np\n",
    "\n",
    "train_data = pd.read_csv(r\"book_rating_train.csv\", index_col = False, delimiter = ',', header=0)\n",
    "print(train_data.shape)"
   ]
  },
  {
   "attachments": {},
   "cell_type": "markdown",
   "metadata": {},
   "source": [
    "### Doc2vec matrices"
   ]
  },
  {
   "cell_type": "code",
   "execution_count": 2,
   "metadata": {},
   "outputs": [],
   "source": [
    "\n",
    "train_name = pd.read_csv(r\"train_name_doc2vec100.csv\", index_col = False, delimiter = ',', header=None)\n",
    "train_author = pd.read_csv(r\"train_authors_doc2vec20.csv\", index_col = False, delimiter = ',', header=None)\n",
    "train_desc = pd.read_csv(r\"train_desc_doc2vec100.csv\", index_col = False, delimiter = ',', header=None)\n",
    "\n",
    "name_dict = {}\n",
    "author_dict = {}\n",
    "desc_dict = {}\n",
    "\n",
    "# all column names in the doc2vec matrices are 0-100 or 0-20. We need to change\n",
    "# the column names.\n",
    "for i in range(100):\n",
    "    name_dict[i] = \"name_\" + str(i)\n",
    "    desc_dict[i] = \"desc_\" + str(i)\n",
    "    if i < 20:\n",
    "        author_dict[i] = \"author_\" + str(i)\n",
    "\n",
    "train_name.rename(columns=name_dict, inplace=True)\n",
    "train_author.rename(columns=author_dict, inplace=True)\n",
    "train_desc.rename(columns=desc_dict, inplace=True)"
   ]
  },
  {
   "attachments": {},
   "cell_type": "markdown",
   "metadata": {},
   "source": [
    "## Preprocessing"
   ]
  },
  {
   "attachments": {},
   "cell_type": "markdown",
   "metadata": {},
   "source": [
    "### Feature Selection\n",
    "1. Drop Language\n",
    "2. Drop Name, Authors, Desc\n",
    "3. Encode Publisher\n",
    "4. Concat everything"
   ]
  },
  {
   "cell_type": "code",
   "execution_count": 3,
   "metadata": {},
   "outputs": [
    {
     "name": "stdout",
     "output_type": "stream",
     "text": [
      "Name                0\n",
      "Authors             0\n",
      "PublishYear         0\n",
      "PublishMonth        0\n",
      "PublishDay          0\n",
      "Publisher         148\n",
      "Language        17202\n",
      "pagesNumber         0\n",
      "Description         0\n",
      "rating_label        0\n",
      "dtype: int64\n",
      "eng    5450\n",
      "fre     154\n",
      "spa     149\n",
      "ger      59\n",
      "jpn       8\n",
      "Name: Language, dtype: int64\n"
     ]
    }
   ],
   "source": [
    "print(train_data.isna().sum())\n",
    "print(train_data['Language'].value_counts().head())"
   ]
  },
  {
   "attachments": {},
   "cell_type": "markdown",
   "metadata": {},
   "source": [
    "From the output above, the feature **Language** has too many missing values. Intuitively, the language of the book doesn't provide any reasonable explanation for the rating. Since it is not a numerical variable, but categorical variable, we don't have any reasonable ways to impute the missing values. In addition, most of the books in the dataset is written in english, so the distribution of the dataset is too biased towards one language. Therefore, it doesn't provide any useful information to the classifier. Considering all these factors, we remove the feature 'Language' during the preprocessing phase."
   ]
  },
  {
   "cell_type": "code",
   "execution_count": 4,
   "metadata": {},
   "outputs": [
    {
     "name": "stdout",
     "output_type": "stream",
     "text": [
      "(22915, 2259)\n"
     ]
    }
   ],
   "source": [
    "from sklearn.preprocessing import OneHotEncoder\n",
    "\n",
    "# Feature selection\n",
    "train_data.drop(['Language', 'Name', 'Authors', 'Description'], axis=1, inplace=True)\n",
    "\n",
    "# Encode the Publisher feature\n",
    "encoder = OneHotEncoder(handle_unknown='ignore', sparse_output=False, min_frequency=2)\n",
    "publisher_encoded = encoder.fit_transform(train_data[['Publisher']])\n",
    "publisher_encoded_df = pd.DataFrame(publisher_encoded, columns=encoder.get_feature_names_out(['Publisher']))\n",
    "\n",
    "data_encoded = pd.concat([train_data, train_name, train_author, train_desc, publisher_encoded_df], axis=1)\n",
    "\n",
    "# Remove any more missing values before separating X and y to keep order of indexes.\n",
    "data_encoded.dropna(inplace=True)\n",
    "\n",
    "# Remove publisher because we have already encoded this feature\n",
    "data_encoded.drop(['Publisher'], axis=1, inplace=True)\n",
    "\n",
    "y_train = data_encoded['rating_label']\n",
    "X_train = data_encoded.drop(['rating_label'], axis=1)\n",
    "X_train.columns = X_train.columns.astype(str)\n",
    "print(X_train.shape)"
   ]
  },
  {
   "cell_type": "code",
   "execution_count": 5,
   "metadata": {},
   "outputs": [
    {
     "name": "stdout",
     "output_type": "stream",
     "text": [
      "4.0    16108\n",
      "3.0     5827\n",
      "5.0      980\n",
      "Name: rating_label, dtype: int64\n"
     ]
    }
   ],
   "source": [
    "print(y_train.value_counts())"
   ]
  },
  {
   "attachments": {},
   "cell_type": "markdown",
   "metadata": {},
   "source": [
    "The target variable is imbalanced."
   ]
  },
  {
   "attachments": {},
   "cell_type": "markdown",
   "metadata": {},
   "source": [
    "## Training the model"
   ]
  },
  {
   "cell_type": "code",
   "execution_count": 6,
   "metadata": {},
   "outputs": [],
   "source": [
    "from sklearn.neural_network import MLPClassifier\n",
    "from sklearn.neighbors import KNeighborsClassifier\n",
    "from sklearn.linear_model import LogisticRegression\n",
    "from sklearn.preprocessing import StandardScaler\n",
    "from sklearn.pipeline import Pipeline"
   ]
  },
  {
   "attachments": {},
   "cell_type": "markdown",
   "metadata": {},
   "source": [
    "## Optimizing Hyperparameters\n",
    "### kNN\n",
    "Note: This part is optional to run. It takes long time to run each step. Since the parameters have already been tuned, it is unnecessary to run. If you want to run this part of the code, uncomment all the codes below."
   ]
  },
  {
   "cell_type": "code",
   "execution_count": 7,
   "metadata": {},
   "outputs": [],
   "source": [
    "# from sklearn.model_selection import GridSearchCV\n",
    "\n",
    "# scaler = StandardScaler()\n",
    "\n",
    "# knn = KNeighborsClassifier()\n",
    "# knn_pipeline = Pipeline([('scaler', scaler), ('knn', knn)])\n",
    "\n",
    "# kValues = [2, 3, 5, 7, 10, 20, 25, 30, 40, 50]\n",
    "# knn_param_grid = {'knn__n_neighbors': kValues}\n",
    "\n",
    "# gs = GridSearchCV(knn_pipeline,\n",
    "#                   param_grid=knn_param_grid,\n",
    "#                   scoring='accuracy',\n",
    "#                   cv=2,\n",
    "#                   n_jobs=-1,\n",
    "#                   verbose=1)\n",
    "# gs.fit(X_train, y_train)\n",
    "# best_params = gs.best_params_\n",
    "# print('Best Parameter for kNN:', best_params)"
   ]
  },
  {
   "cell_type": "code",
   "execution_count": 8,
   "metadata": {},
   "outputs": [],
   "source": [
    "# from sklearn.model_selection import cross_val_score\n",
    "# import matplotlib.pyplot as plt\n",
    "# k_values = [2, 3, 5, 7, 10, 20, 25, 30, 40, 50]\n",
    "# acc_values = []\n",
    "# for k in k_values:\n",
    "#     knn_clf = KNeighborsClassifier(n_neighbors=k)\n",
    "#     pipeline2 = Pipeline([('scaler', scaler), ('estimator', knn_clf)])\n",
    "#     result = cross_val_score(pipeline2, X_train, y_train, cv=3)\n",
    "#     acc_values.append(np.mean(result))\n",
    "\n",
    "# plt.plot(k_values, acc_values)\n",
    "# plt.xlabel(\"Different k-values for k-NN classifier\")\n",
    "# plt.ylabel(\"Accuracy score\")\n",
    "# plt.title(\"Accuracy vs. k-values in k-NN classifier\")\n",
    "# plt.show()\n"
   ]
  },
  {
   "attachments": {},
   "cell_type": "markdown",
   "metadata": {},
   "source": [
    "From the plot and GridSearch, we can see that **k=30** is the appropriate value for our k-NN classifier. Next we try to optimise the hyperparameters for our MLPClassifier."
   ]
  },
  {
   "attachments": {},
   "cell_type": "markdown",
   "metadata": {},
   "source": [
    "### Neural Network - MLP\n",
    "Optimize the activation function and solver."
   ]
  },
  {
   "cell_type": "code",
   "execution_count": 9,
   "metadata": {},
   "outputs": [],
   "source": [
    "# mlp = MLPClassifier()\n",
    "# pipeline = Pipeline([('scaler', scaler), ('mlp', mlp)])\n",
    "\n",
    "# mlp_param_grid = {'mlp__activation': ['relu', 'logistic', 'tanh'], \n",
    "#                   'mlp__solver': ['adam', 'sgd'],\n",
    "#                   'mlp__learning_rate': ['constant','adaptive']}\n",
    "\n",
    "# gs = GridSearchCV(pipeline,\n",
    "#                   param_grid=mlp_param_grid,\n",
    "#                   scoring='accuracy',\n",
    "#                   cv=2,\n",
    "#                   n_jobs=-1,\n",
    "#                   verbose=1)\n",
    "\n",
    "# gs.fit(X_train, y_train)\n",
    "\n",
    "# best_params = gs.best_params_\n",
    "# print('Best parameters for MLP: ', best_params)"
   ]
  },
  {
   "attachments": {},
   "cell_type": "markdown",
   "metadata": {},
   "source": [
    "From the GridSearchCV over the activation function and solver, we found that the optimal parameters are **activation=logistic** **solver=sgd** and **learning_rate=adaptive** . Next, we optimize the alpha and hidden_layer_sizes values."
   ]
  },
  {
   "cell_type": "code",
   "execution_count": 10,
   "metadata": {},
   "outputs": [],
   "source": [
    "# mlp = MLPClassifier(activation='logistic', solver='sgd', learning_rate='adaptive')\n",
    "# pipeline = Pipeline([('scaler', scaler), ('mlp', mlp)])\n",
    "\n",
    "# mlp_param_grid = {'mlp__hidden_layer_sizes': [(100,), (50,50,50), (10,10)], \n",
    "#                   'mlp__alpha': [0.0001, 0.001, 0.1, 1, 10]}\n",
    "\n",
    "# gs = GridSearchCV(pipeline,\n",
    "#                   param_grid=mlp_param_grid,\n",
    "#                   scoring='accuracy',\n",
    "#                   cv=2,\n",
    "#                   n_jobs=-1,\n",
    "#                   verbose=1)\n",
    "\n",
    "# gs.fit(X_train, y_train)\n",
    "\n",
    "# best_params = gs.best_params_\n",
    "# print('Best Parameters for MLP: ', best_params)"
   ]
  },
  {
   "attachments": {},
   "cell_type": "markdown",
   "metadata": {},
   "source": [
    "From this search, the best parameters for MLP are: **alpha=10** and **hidden_layer_sizes=[100]**"
   ]
  },
  {
   "attachments": {},
   "cell_type": "markdown",
   "metadata": {},
   "source": [
    "### Logistic Regression"
   ]
  },
  {
   "attachments": {},
   "cell_type": "markdown",
   "metadata": {},
   "source": [
    "No parameter was exclusively set for Logistic Regression. We only set max_iter = 1000"
   ]
  },
  {
   "attachments": {},
   "cell_type": "markdown",
   "metadata": {},
   "source": [
    "## Evaluation\n",
    "Using the parameters obtained from GridSearch above, we now compare and evaluate the models on the training data. The metrics will be accuracy, precision, and recall scores."
   ]
  },
  {
   "cell_type": "code",
   "execution_count": 11,
   "metadata": {},
   "outputs": [
    {
     "name": "stdout",
     "output_type": "stream",
     "text": [
      "kNN - acc: 0.7048658 pre: 0.6548536 time: 13.68782\n",
      "MLP-NN - acc: 0.7042112 pre: 0.6403735 time: 916.37323\n",
      "LR - acc: 0.6953087 pre: 0.6579908 time: 132.89717\n",
      "Zero-R - acc: 0.7029457 pre: 0.4941326 time: 0.51078\n"
     ]
    }
   ],
   "source": [
    "from sklearn.model_selection import cross_validate\n",
    "from sklearn.dummy import DummyClassifier\n",
    "import time\n",
    "import warnings\n",
    "warnings.filterwarnings(action='ignore')\n",
    "\n",
    "scaler = StandardScaler()\n",
    "\n",
    "knn_clf = KNeighborsClassifier(n_neighbors=30)\n",
    "mlp_clf = MLPClassifier(activation='logistic', solver='sgd', learning_rate='adaptive', alpha=10, hidden_layer_sizes=(100,))\n",
    "lgc_clf = LogisticRegression(max_iter = 1000)\n",
    "dummy = DummyClassifier(strategy=\"most_frequent\")\n",
    "\n",
    "knn_pipeline = Pipeline([('scaler', scaler), ('estimator', knn_clf)])\n",
    "mlp_pipeline = Pipeline([('scaler', scaler), ('estimator', mlp_clf)])\n",
    "lgc_pipeline = Pipeline([('scaler', scaler), ('estimator', lgc_clf)])\n",
    "\n",
    "\n",
    "classifiers = [knn_pipeline, mlp_pipeline, lgc_pipeline, dummy]\n",
    "titles = [\"kNN\", \"MLP-NN\", \"LR\", \"Zero-R\"]\n",
    "for title, model in zip(titles, classifiers):\n",
    "    start = time.time()\n",
    "    result = cross_validate(model, X_train, y_train, cv=5, scoring=('accuracy', 'precision_weighted'))\n",
    "    end = time.time()\n",
    "\n",
    "    acc = round(np.mean(result['test_accuracy']), 7)\n",
    "    precision = round(np.mean(result['test_precision_weighted']), 7)\n",
    "\n",
    "    print(title, \"- acc:\", acc, \"pre:\", precision, \"time:\", round(end-start, 5))"
   ]
  },
  {
   "attachments": {},
   "cell_type": "markdown",
   "metadata": {},
   "source": [
    "It should be noted that since the cross validation is random, we can get different results everytime, however the difference or the relationship between these metrics were seen in all runs. Thus, it is generalisable."
   ]
  },
  {
   "attachments": {},
   "cell_type": "markdown",
   "metadata": {},
   "source": [
    "### Confusion Matrix for kNN"
   ]
  },
  {
   "cell_type": "code",
   "execution_count": 12,
   "metadata": {},
   "outputs": [
    {
     "data": {
      "text/plain": [
       "<sklearn.metrics._plot.confusion_matrix.ConfusionMatrixDisplay at 0x146aef6a0>"
      ]
     },
     "execution_count": 12,
     "metadata": {},
     "output_type": "execute_result"
    },
    {
     "data": {
      "image/png": "[encoded data removed]",
      "text/plain": [
       "<Figure size 640x480 with 2 Axes>"
      ]
     },
     "metadata": {},
     "output_type": "display_data"
    }
   ],
   "source": [
    "from sklearn.metrics import confusion_matrix, ConfusionMatrixDisplay\n",
    "from sklearn.model_selection import train_test_split\n",
    "\n",
    "train_x, test_x, train_y, test_y = train_test_split(X_train, y_train, test_size=0.33, shuffle=True, random_state=2)\n",
    "\n",
    "knn_pipeline.fit(train_x, train_y)\n",
    "pred_y = knn_pipeline.predict(test_x)\n",
    "cm = confusion_matrix(test_y, pred_y, labels=knn_pipeline.classes_)\n",
    "disp = ConfusionMatrixDisplay(confusion_matrix=cm, display_labels=knn_pipeline.classes_)\n",
    "disp.plot()"
   ]
  },
  {
   "attachments": {},
   "cell_type": "markdown",
   "metadata": {},
   "source": [
    "### Confusion Matrix for MLP - NN"
   ]
  },
  {
   "cell_type": "code",
   "execution_count": 13,
   "metadata": {},
   "outputs": [
    {
     "data": {
      "text/plain": [
       "<sklearn.metrics._plot.confusion_matrix.ConfusionMatrixDisplay at 0x14516fee0>"
      ]
     },
     "execution_count": 13,
     "metadata": {},
     "output_type": "execute_result"
    },
    {
     "data": {
      "image/png": "[encoded data removed]",
      "text/plain": [
       "<Figure size 640x480 with 2 Axes>"
      ]
     },
     "metadata": {},
     "output_type": "display_data"
    }
   ],
   "source": [
    "mlp_pipeline.fit(train_x, train_y)\n",
    "pred_y = mlp_pipeline.predict(test_x)\n",
    "cm = confusion_matrix(test_y, pred_y, labels=mlp_pipeline.classes_)\n",
    "disp = ConfusionMatrixDisplay(confusion_matrix=cm, display_labels=mlp_pipeline.classes_)\n",
    "disp.plot()"
   ]
  },
  {
   "attachments": {},
   "cell_type": "markdown",
   "metadata": {},
   "source": [
    "### Confusion Matrix for Logistic Regression"
   ]
  },
  {
   "cell_type": "code",
   "execution_count": 14,
   "metadata": {},
   "outputs": [
    {
     "name": "stdout",
     "output_type": "stream",
     "text": [
      "4.0    6255\n",
      "3.0    1103\n",
      "5.0     204\n",
      "dtype: int64\n"
     ]
    },
    {
     "data": {
      "image/png": "[encoded data removed]",
      "text/plain": [
       "<Figure size 640x480 with 2 Axes>"
      ]
     },
     "metadata": {},
     "output_type": "display_data"
    }
   ],
   "source": [
    "lgc_pipeline.fit(train_x, train_y)\n",
    "pred_y = lgc_pipeline.predict(test_x)\n",
    "cm = confusion_matrix(test_y, pred_y, labels=lgc_pipeline.classes_)\n",
    "disp = ConfusionMatrixDisplay(confusion_matrix=cm, display_labels=lgc_pipeline.classes_)\n",
    "disp.plot()\n",
    "print(pd.Series(pred_y).value_counts())\n"
   ]
  },
  {
   "attachments": {},
   "cell_type": "markdown",
   "metadata": {},
   "source": [
    "# Test phase\n",
    "### Read the test data"
   ]
  },
  {
   "cell_type": "code",
   "execution_count": 15,
   "metadata": {},
   "outputs": [],
   "source": [
    "test_orig = pd.read_csv(r\"book_rating_test.csv\", index_col = False, delimiter = ',', header=0)\n",
    "test_name = pd.read_csv(r\"test_name_doc2vec100.csv\", index_col = False, delimiter = ',', header=None)\n",
    "test_author = pd.read_csv(r\"test_authors_doc2vec20.csv\", index_col = False, delimiter = ',', header=None)\n",
    "test_desc = pd.read_csv(r\"test_desc_doc2vec100.csv\", index_col = False, delimiter = ',', header=None)\n",
    "\n",
    "test_name.rename(columns=name_dict, inplace=True)\n",
    "test_author.rename(columns=author_dict, inplace=True)\n",
    "test_desc.rename(columns=desc_dict, inplace=True)"
   ]
  },
  {
   "attachments": {},
   "cell_type": "markdown",
   "metadata": {},
   "source": [
    "### Preprocess the test data\n",
    "1. Drop Language\n",
    "2. Drop Name, Authors, Desc\n",
    "3. Encode Publisher\n",
    "4. Concat everything"
   ]
  },
  {
   "cell_type": "code",
   "execution_count": 16,
   "metadata": {},
   "outputs": [],
   "source": [
    "test_data = test_orig.drop(['Language', 'Name', 'Authors', 'Description'], axis=1)\n",
    "\n",
    "transformed_test = encoder.transform(test_data[['Publisher']])\n",
    "transformed_df_test = pd.DataFrame(transformed_test, columns=encoder.get_feature_names_out(['Publisher']))\n",
    "\n",
    "df_encoded_test = pd.concat([test_data, test_name, test_author, test_desc, transformed_df_test], axis=1)\n",
    "X_test = df_encoded_test.drop(['Publisher'], axis=1)\n",
    "X_test.columns = X_test.columns.astype(str)"
   ]
  },
  {
   "attachments": {},
   "cell_type": "markdown",
   "metadata": {},
   "source": [
    "### Testing on the test data"
   ]
  },
  {
   "attachments": {},
   "cell_type": "markdown",
   "metadata": {},
   "source": [
    "See report for more details on the final model selection."
   ]
  },
  {
   "cell_type": "code",
   "execution_count": 18,
   "metadata": {},
   "outputs": [],
   "source": [
    "scaler = StandardScaler()\n",
    "\n",
    "knn_clf = KNeighborsClassifier(n_neighbors=30)\n",
    "mlp_clf = MLPClassifier(activation='logistic', solver='sgd', learning_rate='adaptive', alpha=10, hidden_layer_sizes=(100,))\n",
    "lgc_clf = LogisticRegression(max_iter = 1000)\n",
    "\n",
    "classifiers = [knn_clf, mlp_clf, lgc_clf]\n",
    "titles = ['knn', 'nn', 'lgc']\n",
    "\n",
    "for title, clf in zip(titles, classifiers):\n",
    "    pipeline = Pipeline([('scaler', scaler), ('estimator', clf)])\n",
    "    pipeline.fit(X_train, y_train)\n",
    "    y_pred = pipeline.predict(X_test)\n",
    "    filename = title + \"_predictions.csv\"\n",
    "\n",
    "    y_pred_df = pd.DataFrame(y_pred)\n",
    "    y_pred_df.index += 1\n",
    "    y_pred_df.columns=[\"rating_label\"]\n",
    "    y_pred_df.to_csv(filename, index_label=\"id\")"
   ]
  }
 ],
 "metadata": {
  "kernelspec": {
   "display_name": "Python 3",
   "language": "python",
   "name": "python3"
  },
  "language_info": {
   "codemirror_mode": {
    "name": "ipython",
    "version": 3
   },
   "file_extension": ".py",
   "mimetype": "text/x-python",
   "name": "python",
   "nbconvert_exporter": "python",
   "pygments_lexer": "ipython3",
   "version": "3.10.6"
  },
  "orig_nbformat": 4
 },
 "nbformat": 4,
 "nbformat_minor": 2
}
