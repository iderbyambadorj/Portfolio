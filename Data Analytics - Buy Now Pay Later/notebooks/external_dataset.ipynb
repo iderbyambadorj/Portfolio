{
 "cells": [
  {
   "cell_type": "markdown",
   "id": "4f510561",
   "metadata": {},
   "source": [
    "# External datasets: retrieval and preprocessing"
   ]
  },
  {
   "cell_type": "code",
   "execution_count": 4,
   "id": "a367d11c-3793-49a8-8e71-5d1c84e2363e",
   "metadata": {},
   "outputs": [],
   "source": [
    "# required libraries\n",
    "import pandas as pd\n",
    "import numpy as np\n",
    "import os\n",
    "os.environ['USE_PYGEOS'] = '0'\n",
    "import geopandas as gpd\n",
    "import matplotlib.pyplot as plt\n",
    "from urllib.request import urlretrieve\n",
    "import requests, zipfile, io\n",
    "import openpyxl\n",
    "import ssl\n",
    "from urllib.request import urlopen, Request"
   ]
  },
  {
   "cell_type": "code",
   "execution_count": 7,
   "id": "018bba78-1760-455e-b360-27810f27d291",
   "metadata": {},
   "outputs": [],
   "source": [
    "ssl._create_default_https_context = ssl._create_unverified_context"
   ]
  },
  {
   "cell_type": "markdown",
   "id": "32e8a118",
   "metadata": {},
   "source": [
    "Set up directories used in this notebook for data retrival and storage."
   ]
  },
  {
   "cell_type": "code",
   "execution_count": 11,
   "id": "58ee48ba-4b90-4ab5-bafc-8c7aa2efc660",
   "metadata": {},
   "outputs": [],
   "source": [
    "output_relative_dir = '../data/landing/'\n",
    "target_dir = '../data/landing'\n",
    "if not os.path.exists(output_relative_dir):\n",
    "    os.makedirs(output_relative_dir)"
   ]
  },
  {
   "cell_type": "code",
   "execution_count": 12,
   "id": "ae461437-8c17-4f9a-8e6e-485698888e4f",
   "metadata": {},
   "outputs": [],
   "source": [
    "output_relative_dir = '../data/raw/'\n",
    "if not os.path.exists(output_relative_dir):\n",
    "    os.makedirs(output_relative_dir)"
   ]
  },
  {
   "cell_type": "code",
   "execution_count": 13,
   "id": "dd507224-d6a1-4973-bfd0-a01ab0db99ed",
   "metadata": {},
   "outputs": [],
   "source": [
    "output_relative_dir = '../data/landing/'\n",
    "target_dir = \"sa2_zones\"\n",
    "if not os.path.exists(output_relative_dir + target_dir):\n",
    "    os.makedirs(output_relative_dir + target_dir)"
   ]
  },
  {
   "cell_type": "code",
   "execution_count": 3,
   "id": "67d6a295",
   "metadata": {},
   "outputs": [],
   "source": [
    "output_relative_dir = '../data/landing/'\n",
    "target_dir = \"sa2_data\"\n",
    "if not os.path.exists(output_relative_dir + target_dir):\n",
    "    os.makedirs(output_relative_dir + target_dir)"
   ]
  },
  {
   "cell_type": "code",
   "execution_count": 14,
   "id": "21800965-646a-4ee6-b117-324813b74c98",
   "metadata": {},
   "outputs": [],
   "source": [
    "output_relative_dir = '../data/landing/'\n",
    "target_dir = \"postalArea\"\n",
    "if not os.path.exists(output_relative_dir + target_dir):\n",
    "    os.makedirs(output_relative_dir + target_dir)"
   ]
  },
  {
   "cell_type": "code",
   "execution_count": 15,
   "id": "0f365e48-86ce-4e82-ba26-d879de3bfb81",
   "metadata": {},
   "outputs": [],
   "source": [
    "output_relative_dir = '../data/raw/'\n",
    "target_dir = \"sa2_data\"\n",
    "if not os.path.exists(output_relative_dir + target_dir):\n",
    "    os.makedirs(output_relative_dir + target_dir)"
   ]
  },
  {
   "cell_type": "code",
   "execution_count": 16,
   "id": "b457c7f8-eaaf-4e5e-add2-982815c6579b",
   "metadata": {},
   "outputs": [],
   "source": [
    "output_relative_dir = '../data/raw/'\n",
    "target_dir = \"addedInfo_transaction\"\n",
    "if not os.path.exists(output_relative_dir + target_dir):\n",
    "    os.makedirs(output_relative_dir + target_dir)"
   ]
  },
  {
   "cell_type": "markdown",
   "id": "21151207-ab7a-400c-ba87-340154c10f45",
   "metadata": {},
   "source": [
    "## 1. SA2 District Boundaries (shape file)"
   ]
  },
  {
   "cell_type": "markdown",
   "id": "0c32c0f1",
   "metadata": {},
   "source": [
    "SA2 (Statistical Area Level 2)is a medium sized geographical areas defined by the Australian Bureau of Statistics (ABS) for statistical purposes. Census data is provided by ABS for each SA2, which is going to be utilized in this project.\n",
    "\n",
    "The SA2 boundaries as shape file was obtained from the link below."
   ]
  },
  {
   "cell_type": "markdown",
   "id": "86993ddc-b40d-4df1-9af5-1304b0cb5aec",
   "metadata": {},
   "source": [
    "source: https://www.abs.gov.au/statistics/standards/australian-statistical-geography-standard-asgs-edition-3/jul2021-jun2026/access-and-downloads/digital-boundary-files"
   ]
  },
  {
   "cell_type": "code",
   "execution_count": 5,
   "id": "a1fa813e-48af-429d-aef3-5e0a6a434147",
   "metadata": {},
   "outputs": [],
   "source": [
    "# retrive SA2 boundary data from the url above.\n",
    "zip_file_url = \"https://www.abs.gov.au/statistics/standards/australian-statistical-geography-standard-asgs-edition-3/jul2021-jun2026/access-and-downloads/digital-boundary-files/SA2_2021_AUST_SHP_GDA2020.zip\"\n",
    "output_dir = '../data/landing/sa2_zones/'\n",
    "r = requests.get(zip_file_url)\n",
    "z = zipfile.ZipFile(io.BytesIO(r.content))\n",
    "# save to the directory\n",
    "z.extractall(output_dir)"
   ]
  },
  {
   "cell_type": "code",
   "execution_count": 29,
   "id": "0d75f806-61e5-4674-a71b-b6a7909df270",
   "metadata": {},
   "outputs": [
    {
     "data": {
      "text/plain": [
       "2473"
      ]
     },
     "execution_count": 29,
     "metadata": {},
     "output_type": "execute_result"
    }
   ],
   "source": [
    "sf1 = gpd.read_file(\"../data/landing/sa2_zones/SA2_2021_AUST_GDA2020.shp\")\n",
    "SA2_list = list(set(sf1['SA2_CODE21']))\n",
    "len(SA2_list)"
   ]
  },
  {
   "cell_type": "markdown",
   "id": "4a773ed2-54be-440d-8877-9fcac6ea5d4f",
   "metadata": {},
   "source": [
    "## 2. Tbl consumer dataset"
   ]
  },
  {
   "cell_type": "markdown",
   "id": "10f89582",
   "metadata": {},
   "source": [
    "TBL consumer dataset provides information about all the consumers, including their name, address, postcode, etc.\n",
    "\n",
    "The addresses are not real but the postcodes are, therefore postcode will be used to merge this consumer dataset to the external datasets obtained in the following sections."
   ]
  },
  {
   "cell_type": "code",
   "execution_count": 34,
   "id": "84a0dee2-498c-4113-841d-9d0e670d5091",
   "metadata": {},
   "outputs": [
    {
     "data": {
      "text/html": [
       "<div>\n",
       "<style scoped>\n",
       "    .dataframe tbody tr th:only-of-type {\n",
       "        vertical-align: middle;\n",
       "    }\n",
       "\n",
       "    .dataframe tbody tr th {\n",
       "        vertical-align: top;\n",
       "    }\n",
       "\n",
       "    .dataframe thead th {\n",
       "        text-align: right;\n",
       "    }\n",
       "</style>\n",
       "<table border=\"1\" class=\"dataframe\">\n",
       "  <thead>\n",
       "    <tr style=\"text-align: right;\">\n",
       "      <th></th>\n",
       "      <th>name</th>\n",
       "      <th>address</th>\n",
       "      <th>state</th>\n",
       "      <th>postcode</th>\n",
       "      <th>gender</th>\n",
       "      <th>consumer_id</th>\n",
       "    </tr>\n",
       "  </thead>\n",
       "  <tbody>\n",
       "    <tr>\n",
       "      <th>0</th>\n",
       "      <td>Yolanda Williams</td>\n",
       "      <td>413 Haney Gardens Apt. 742</td>\n",
       "      <td>WA</td>\n",
       "      <td>6935</td>\n",
       "      <td>Female</td>\n",
       "      <td>1195503</td>\n",
       "    </tr>\n",
       "    <tr>\n",
       "      <th>1</th>\n",
       "      <td>Mary Smith</td>\n",
       "      <td>3764 Amber Oval</td>\n",
       "      <td>NSW</td>\n",
       "      <td>2782</td>\n",
       "      <td>Female</td>\n",
       "      <td>179208</td>\n",
       "    </tr>\n",
       "    <tr>\n",
       "      <th>2</th>\n",
       "      <td>Jill Jones MD</td>\n",
       "      <td>40693 Henry Greens</td>\n",
       "      <td>NT</td>\n",
       "      <td>862</td>\n",
       "      <td>Female</td>\n",
       "      <td>1194530</td>\n",
       "    </tr>\n",
       "  </tbody>\n",
       "</table>\n",
       "</div>"
      ],
      "text/plain": [
       "               name                     address state  postcode  gender  \\\n",
       "0  Yolanda Williams  413 Haney Gardens Apt. 742    WA      6935  Female   \n",
       "1        Mary Smith             3764 Amber Oval   NSW      2782  Female   \n",
       "2     Jill Jones MD          40693 Henry Greens    NT       862  Female   \n",
       "\n",
       "   consumer_id  \n",
       "0      1195503  \n",
       "1       179208  \n",
       "2      1194530  "
      ]
     },
     "execution_count": 34,
     "metadata": {},
     "output_type": "execute_result"
    }
   ],
   "source": [
    "# obtain the consumer dataset and show the first 3 rows\n",
    "tbl_consumer = pd.read_csv(\"../data/tables/tbl_consumer.csv\", sep='|')\n",
    "tbl_consumer.head(3)"
   ]
  },
  {
   "cell_type": "markdown",
   "id": "b29d2364-faa0-455d-94ec-a31ae2717b61",
   "metadata": {},
   "source": [
    "## 3. SA2 income data"
   ]
  },
  {
   "cell_type": "markdown",
   "id": "c4e24178",
   "metadata": {},
   "source": [
    "Income data such as median income, sum income for each SA2 is provided in census data by ABS. Those data were obtained from the link below."
   ]
  },
  {
   "cell_type": "markdown",
   "id": "feadda4b-615c-4c68-9ee3-c7f8e0f8c302",
   "metadata": {},
   "source": [
    "Source: https://www.abs.gov.au/statistics/labour/earnings-and-working-conditions/personal-income-australia/latest-release"
   ]
  },
  {
   "cell_type": "code",
   "execution_count": 8,
   "id": "cdbf1ad4-3bba-4302-8b2c-4d4885cdaf39",
   "metadata": {},
   "outputs": [
    {
     "data": {
      "text/plain": [
       "('../data/landing/sa2_data/sa2_income.xlsx',\n",
       " <http.client.HTTPMessage at 0x17276e090>)"
      ]
     },
     "execution_count": 8,
     "metadata": {},
     "output_type": "execute_result"
    }
   ],
   "source": [
    "# retrive income data from the url above, then save to directry\n",
    "url = \"https://www.abs.gov.au/statistics/labour/earnings-and-working-conditions/personal-income-australia/2015-16-2019-20/6524055002_DO001.xlsx\"\n",
    "output_dir = '../data/landing/sa2_data/sa2_income.xlsx'\n",
    "urlretrieve(url, output_dir)"
   ]
  },
  {
   "cell_type": "markdown",
   "id": "7daf6e18-08e8-4474-b9c5-9fdecb937f85",
   "metadata": {},
   "source": [
    "### 3. i) Drop unnecessary rows and columns"
   ]
  },
  {
   "cell_type": "code",
   "execution_count": 12,
   "id": "23e820ff-6dad-44b5-9cf8-c601d3afd326",
   "metadata": {},
   "outputs": [],
   "source": [
    "# read in the income data\n",
    "sa2_income = pd.read_excel(\"../data/landing/sa2_data/sa2_income.xlsx\", sheet_name=f'Table 1.4')\n",
    "# drop unnecessary rows\n",
    "sa2_income = sa2_income.drop([0,1,2,3,4,5]).reset_index(drop=True)\n",
    "sa2_income = sa2_income.drop(sa2_income.tail(3).index)\n",
    "# extract only the columns of interest and rename them for readability\n",
    "sa2_income = sa2_income[['            Australian Bureau of Statistics', 'Unnamed: 1', 'Unnamed: 6', 'Unnamed: 11', 'Unnamed: 16', 'Unnamed: 21', 'Unnamed: 26']]\n",
    "new_column_names = ['sa2_code2016', 'sa2_name2016', 'num_earners','medianAge_earners', 'sum_income', 'median_income', 'mean_income']\n",
    "sa2_income.columns = new_column_names\n",
    "# drop rows with Nan values which are the invalid rows (not missing values)\n",
    "sa2_income = sa2_income.dropna()"
   ]
  },
  {
   "cell_type": "code",
   "execution_count": 13,
   "id": "e8deb37d-498c-4242-bfd3-85b833482692",
   "metadata": {},
   "outputs": [
    {
     "data": {
      "text/html": [
       "<div>\n",
       "<style scoped>\n",
       "    .dataframe tbody tr th:only-of-type {\n",
       "        vertical-align: middle;\n",
       "    }\n",
       "\n",
       "    .dataframe tbody tr th {\n",
       "        vertical-align: top;\n",
       "    }\n",
       "\n",
       "    .dataframe thead th {\n",
       "        text-align: right;\n",
       "    }\n",
       "</style>\n",
       "<table border=\"1\" class=\"dataframe\">\n",
       "  <thead>\n",
       "    <tr style=\"text-align: right;\">\n",
       "      <th></th>\n",
       "      <th>sa2_code2016</th>\n",
       "      <th>sa2_name2016</th>\n",
       "      <th>num_earners</th>\n",
       "      <th>medianAge_earners</th>\n",
       "      <th>sum_income</th>\n",
       "      <th>median_income</th>\n",
       "      <th>mean_income</th>\n",
       "    </tr>\n",
       "  </thead>\n",
       "  <tbody>\n",
       "    <tr>\n",
       "      <th>2</th>\n",
       "      <td>101021007</td>\n",
       "      <td>Braidwood</td>\n",
       "      <td>2426</td>\n",
       "      <td>50</td>\n",
       "      <td>149794037</td>\n",
       "      <td>44246</td>\n",
       "      <td>61745</td>\n",
       "    </tr>\n",
       "    <tr>\n",
       "      <th>3</th>\n",
       "      <td>101021008</td>\n",
       "      <td>Karabar</td>\n",
       "      <td>5128</td>\n",
       "      <td>42</td>\n",
       "      <td>345342749</td>\n",
       "      <td>62946</td>\n",
       "      <td>67345</td>\n",
       "    </tr>\n",
       "    <tr>\n",
       "      <th>4</th>\n",
       "      <td>101021009</td>\n",
       "      <td>Queanbeyan</td>\n",
       "      <td>6778</td>\n",
       "      <td>39</td>\n",
       "      <td>455997821</td>\n",
       "      <td>61724</td>\n",
       "      <td>67276</td>\n",
       "    </tr>\n",
       "    <tr>\n",
       "      <th>5</th>\n",
       "      <td>101021010</td>\n",
       "      <td>Queanbeyan - East</td>\n",
       "      <td>3360</td>\n",
       "      <td>40</td>\n",
       "      <td>241148449</td>\n",
       "      <td>64010</td>\n",
       "      <td>71770</td>\n",
       "    </tr>\n",
       "    <tr>\n",
       "      <th>6</th>\n",
       "      <td>101021011</td>\n",
       "      <td>Queanbeyan Region</td>\n",
       "      <td>13502</td>\n",
       "      <td>44</td>\n",
       "      <td>1151756047</td>\n",
       "      <td>74042</td>\n",
       "      <td>85303</td>\n",
       "    </tr>\n",
       "    <tr>\n",
       "      <th>...</th>\n",
       "      <td>...</td>\n",
       "      <td>...</td>\n",
       "      <td>...</td>\n",
       "      <td>...</td>\n",
       "      <td>...</td>\n",
       "      <td>...</td>\n",
       "      <td>...</td>\n",
       "    </tr>\n",
       "    <tr>\n",
       "      <th>2292</th>\n",
       "      <td>801101137</td>\n",
       "      <td>Molonglo</td>\n",
       "      <td>np</td>\n",
       "      <td>np</td>\n",
       "      <td>np</td>\n",
       "      <td>np</td>\n",
       "      <td>np</td>\n",
       "    </tr>\n",
       "    <tr>\n",
       "      <th>2293</th>\n",
       "      <td>801101138</td>\n",
       "      <td>Molonglo - North</td>\n",
       "      <td>np</td>\n",
       "      <td>np</td>\n",
       "      <td>np</td>\n",
       "      <td>np</td>\n",
       "      <td>np</td>\n",
       "    </tr>\n",
       "    <tr>\n",
       "      <th>2294</th>\n",
       "      <td>801101139</td>\n",
       "      <td>Wright</td>\n",
       "      <td>2226</td>\n",
       "      <td>35</td>\n",
       "      <td>193715001</td>\n",
       "      <td>80498</td>\n",
       "      <td>87024</td>\n",
       "    </tr>\n",
       "    <tr>\n",
       "      <th>2295</th>\n",
       "      <td>801111140</td>\n",
       "      <td>ACT - South West</td>\n",
       "      <td>354</td>\n",
       "      <td>40</td>\n",
       "      <td>27364728</td>\n",
       "      <td>68987</td>\n",
       "      <td>77301</td>\n",
       "    </tr>\n",
       "    <tr>\n",
       "      <th>2296</th>\n",
       "      <td>801111141</td>\n",
       "      <td>Namadgi</td>\n",
       "      <td>11</td>\n",
       "      <td>34</td>\n",
       "      <td>414260</td>\n",
       "      <td>32923</td>\n",
       "      <td>37660</td>\n",
       "    </tr>\n",
       "  </tbody>\n",
       "</table>\n",
       "<p>2288 rows × 7 columns</p>\n",
       "</div>"
      ],
      "text/plain": [
       "     sa2_code2016       sa2_name2016 num_earners medianAge_earners  \\\n",
       "2       101021007          Braidwood        2426                50   \n",
       "3       101021008            Karabar        5128                42   \n",
       "4       101021009         Queanbeyan        6778                39   \n",
       "5       101021010  Queanbeyan - East        3360                40   \n",
       "6       101021011  Queanbeyan Region       13502                44   \n",
       "...           ...                ...         ...               ...   \n",
       "2292    801101137           Molonglo          np                np   \n",
       "2293    801101138   Molonglo - North          np                np   \n",
       "2294    801101139             Wright        2226                35   \n",
       "2295    801111140   ACT - South West         354                40   \n",
       "2296    801111141            Namadgi          11                34   \n",
       "\n",
       "      sum_income median_income mean_income  \n",
       "2      149794037         44246       61745  \n",
       "3      345342749         62946       67345  \n",
       "4      455997821         61724       67276  \n",
       "5      241148449         64010       71770  \n",
       "6     1151756047         74042       85303  \n",
       "...          ...           ...         ...  \n",
       "2292          np            np          np  \n",
       "2293          np            np          np  \n",
       "2294   193715001         80498       87024  \n",
       "2295    27364728         68987       77301  \n",
       "2296      414260         32923       37660  \n",
       "\n",
       "[2288 rows x 7 columns]"
      ]
     },
     "execution_count": 13,
     "metadata": {},
     "output_type": "execute_result"
    }
   ],
   "source": [
    "sa2_income"
   ]
  },
  {
   "cell_type": "markdown",
   "id": "e6d7402c-308a-4b3d-8499-f31273bcabfc",
   "metadata": {},
   "source": [
    "### 3. ii) Convert from SA2_2016 to SA2_2021"
   ]
  },
  {
   "cell_type": "markdown",
   "id": "81136ad0-0dfd-4d05-9a3a-41dcdff9e02a",
   "metadata": {},
   "source": [
    "SA2 has changed from 2016 to 2021 and its discrepancies can cause conflicts in further merging steps.\n",
    "\n",
    "The income data we have is using 2016 SA2 representation, but we aim to convert this into 2021 representation.\n",
    "\n",
    "We got the dataset for the correspondences from the source below.\n",
    "\n",
    "Source: https://www.abs.gov.au/statistics/standards/australian-statistical-geography-standard-asgs-edition-3/jul2021-jun2026/access-and-downloads/correspondences"
   ]
  },
  {
   "cell_type": "code",
   "execution_count": 15,
   "id": "cf4f8763-842d-4b8a-8fa8-ca5f9155cdcf",
   "metadata": {},
   "outputs": [
    {
     "data": {
      "text/plain": [
       "('../data/landing/sa2_2016_2021.csv', <http.client.HTTPMessage at 0x1727b33d0>)"
      ]
     },
     "execution_count": 15,
     "metadata": {},
     "output_type": "execute_result"
    }
   ],
   "source": [
    "# get the correspondences data from the url above and save to directry\n",
    "url = \"https://www.abs.gov.au/statistics/standards/australian-statistical-geography-standard-asgs-edition-3/jul2021-jun2026/access-and-downloads/correspondences/CG_SA2_2016_SA2_2021.csv\"\n",
    "output_dir = '../data/landing/sa2_2016_2021.csv'\n",
    "urlretrieve(url, output_dir)"
   ]
  },
  {
   "cell_type": "code",
   "execution_count": 20,
   "id": "557dc410-ed2f-4ce2-a0d3-af828888cd3f",
   "metadata": {},
   "outputs": [],
   "source": [
    "# read in the correspondences data\n",
    "sa2_2016_2021 = pd.read_csv('../data/landing/sa2_2016_2021.csv')\n",
    "# extract only the columns of interest\n",
    "sa2_2016_2021 = sa2_2016_2021[['SA2_MAINCODE_2016', 'SA2_CODE_2021', 'SA2_NAME_2021']]"
   ]
  },
  {
   "cell_type": "code",
   "execution_count": 21,
   "id": "47a90358-0fe8-4bb7-ade9-ecb2a544323d",
   "metadata": {},
   "outputs": [
    {
     "data": {
      "text/html": [
       "<div>\n",
       "<style scoped>\n",
       "    .dataframe tbody tr th:only-of-type {\n",
       "        vertical-align: middle;\n",
       "    }\n",
       "\n",
       "    .dataframe tbody tr th {\n",
       "        vertical-align: top;\n",
       "    }\n",
       "\n",
       "    .dataframe thead th {\n",
       "        text-align: right;\n",
       "    }\n",
       "</style>\n",
       "<table border=\"1\" class=\"dataframe\">\n",
       "  <thead>\n",
       "    <tr style=\"text-align: right;\">\n",
       "      <th></th>\n",
       "      <th>SA2_MAINCODE_2016</th>\n",
       "      <th>SA2_CODE_2021</th>\n",
       "      <th>SA2_NAME_2021</th>\n",
       "    </tr>\n",
       "  </thead>\n",
       "  <tbody>\n",
       "    <tr>\n",
       "      <th>638</th>\n",
       "      <td>128011531.0</td>\n",
       "      <td>NaN</td>\n",
       "      <td>NaN</td>\n",
       "    </tr>\n",
       "    <tr>\n",
       "      <th>2283</th>\n",
       "      <td>604031094.0</td>\n",
       "      <td>NaN</td>\n",
       "      <td>NaN</td>\n",
       "    </tr>\n",
       "    <tr>\n",
       "      <th>2503</th>\n",
       "      <td>NaN</td>\n",
       "      <td>ZZZZZZZZZ</td>\n",
       "      <td>Outside Australia</td>\n",
       "    </tr>\n",
       "  </tbody>\n",
       "</table>\n",
       "</div>"
      ],
      "text/plain": [
       "      SA2_MAINCODE_2016 SA2_CODE_2021      SA2_NAME_2021\n",
       "638         128011531.0           NaN                NaN\n",
       "2283        604031094.0           NaN                NaN\n",
       "2503                NaN     ZZZZZZZZZ  Outside Australia"
      ]
     },
     "execution_count": 21,
     "metadata": {},
     "output_type": "execute_result"
    }
   ],
   "source": [
    "# Some SA2 from 2016 doesn't exist at 2021\n",
    "sa2_2016_2021[sa2_2016_2021.isnull().any(axis=1)]"
   ]
  },
  {
   "cell_type": "code",
   "execution_count": 22,
   "id": "7ec2f6da-fdb4-4df2-b0ab-da7bbd5b68c0",
   "metadata": {},
   "outputs": [],
   "source": [
    "# for every SA2_2021, we want the corresponding SA2_2016 representation and the income data\n",
    "sa2_income_2021 = pd.merge(sa2_2016_2021, sa2_income, left_on='SA2_MAINCODE_2016', right_on='sa2_code2016', how = \"left\")\n",
    "\n",
    "# not all the SA2s were registered in income data, remove missing values from merging\n",
    "sa2_income_2021 = sa2_income_2021.dropna()\n",
    "\n",
    "# drop SA2 representation in 2016 since we are using SA2 representation in 2021 for further steps\n",
    "sa2_income_2021 = sa2_income_2021.drop(['SA2_MAINCODE_2016', 'sa2_code2016', 'sa2_name2016'], axis=1)\n",
    "\n",
    "# some SA2_2021 are linked with multiple SA2_2016 -> drop the duplicates\n",
    "sa2_income_2021 = sa2_income_2021.drop_duplicates(subset='SA2_CODE_2021')\n"
   ]
  },
  {
   "cell_type": "code",
   "execution_count": 26,
   "id": "d6c7b080-e4b0-4d62-a998-4c0596d2103a",
   "metadata": {},
   "outputs": [],
   "source": [
    "# These missing values are mostly because not all the SA2 income data were available in the dataset\n",
    "# sa2_income_2021[sa2_income_2021.isnull().any(axis=1)].head(5)"
   ]
  },
  {
   "cell_type": "code",
   "execution_count": 23,
   "id": "14335704-336b-426a-ab76-fecb3e3f31ec",
   "metadata": {},
   "outputs": [
    {
     "data": {
      "text/html": [
       "<div>\n",
       "<style scoped>\n",
       "    .dataframe tbody tr th:only-of-type {\n",
       "        vertical-align: middle;\n",
       "    }\n",
       "\n",
       "    .dataframe tbody tr th {\n",
       "        vertical-align: top;\n",
       "    }\n",
       "\n",
       "    .dataframe thead th {\n",
       "        text-align: right;\n",
       "    }\n",
       "</style>\n",
       "<table border=\"1\" class=\"dataframe\">\n",
       "  <thead>\n",
       "    <tr style=\"text-align: right;\">\n",
       "      <th></th>\n",
       "      <th>SA2_CODE_2021</th>\n",
       "      <th>SA2_NAME_2021</th>\n",
       "      <th>num_earners</th>\n",
       "      <th>medianAge_earners</th>\n",
       "      <th>sum_income</th>\n",
       "      <th>median_income</th>\n",
       "      <th>mean_income</th>\n",
       "    </tr>\n",
       "  </thead>\n",
       "  <tbody>\n",
       "    <tr>\n",
       "      <th>0</th>\n",
       "      <td>101021007</td>\n",
       "      <td>Braidwood</td>\n",
       "      <td>2426</td>\n",
       "      <td>50</td>\n",
       "      <td>149794037</td>\n",
       "      <td>44246</td>\n",
       "      <td>61745</td>\n",
       "    </tr>\n",
       "    <tr>\n",
       "      <th>1</th>\n",
       "      <td>101021008</td>\n",
       "      <td>Karabar</td>\n",
       "      <td>5128</td>\n",
       "      <td>42</td>\n",
       "      <td>345342749</td>\n",
       "      <td>62946</td>\n",
       "      <td>67345</td>\n",
       "    </tr>\n",
       "    <tr>\n",
       "      <th>2</th>\n",
       "      <td>101021009</td>\n",
       "      <td>Queanbeyan</td>\n",
       "      <td>6778</td>\n",
       "      <td>39</td>\n",
       "      <td>455997821</td>\n",
       "      <td>61724</td>\n",
       "      <td>67276</td>\n",
       "    </tr>\n",
       "    <tr>\n",
       "      <th>3</th>\n",
       "      <td>101021010</td>\n",
       "      <td>Queanbeyan - East</td>\n",
       "      <td>3360</td>\n",
       "      <td>40</td>\n",
       "      <td>241148449</td>\n",
       "      <td>64010</td>\n",
       "      <td>71770</td>\n",
       "    </tr>\n",
       "    <tr>\n",
       "      <th>4</th>\n",
       "      <td>101021610</td>\n",
       "      <td>Googong</td>\n",
       "      <td>13502</td>\n",
       "      <td>44</td>\n",
       "      <td>1151756047</td>\n",
       "      <td>74042</td>\n",
       "      <td>85303</td>\n",
       "    </tr>\n",
       "  </tbody>\n",
       "</table>\n",
       "</div>"
      ],
      "text/plain": [
       "  SA2_CODE_2021      SA2_NAME_2021 num_earners medianAge_earners  sum_income  \\\n",
       "0     101021007          Braidwood        2426                50   149794037   \n",
       "1     101021008            Karabar        5128                42   345342749   \n",
       "2     101021009         Queanbeyan        6778                39   455997821   \n",
       "3     101021010  Queanbeyan - East        3360                40   241148449   \n",
       "4     101021610            Googong       13502                44  1151756047   \n",
       "\n",
       "  median_income mean_income  \n",
       "0         44246       61745  \n",
       "1         62946       67345  \n",
       "2         61724       67276  \n",
       "3         64010       71770  \n",
       "4         74042       85303  "
      ]
     },
     "execution_count": 23,
     "metadata": {},
     "output_type": "execute_result"
    }
   ],
   "source": [
    "sa2_income_2021.head(5)"
   ]
  },
  {
   "cell_type": "markdown",
   "id": "03b8c44e-51f7-44bf-99a9-9bf1d403bbcb",
   "metadata": {},
   "source": [
    "### 3. iii) Values with 'np' (not published)"
   ]
  },
  {
   "cell_type": "markdown",
   "id": "901e08b2-4847-4cb0-919a-c746572fac1a",
   "metadata": {},
   "source": [
    "The value 'np' in this dataset means that the data is not published to protect the confidentiality of individuals or businesses.\n",
    "\n",
    "48 SA2s (rows) out of 2473 are having 'np' values.\n",
    "\n",
    "We decided to impute these with median instead of removing to retain sample size."
   ]
  },
  {
   "cell_type": "code",
   "execution_count": 31,
   "id": "0ea9bc57-5a40-49e5-bad9-076d14733776",
   "metadata": {},
   "outputs": [
    {
     "data": {
      "text/plain": [
       "(48, 7)"
      ]
     },
     "execution_count": 31,
     "metadata": {},
     "output_type": "execute_result"
    }
   ],
   "source": [
    "# numbers of SA2s with 'np' values\n",
    "sa2_income_2021[sa2_income_2021.eq('np').any(axis=1)].shape"
   ]
  },
  {
   "cell_type": "markdown",
   "id": "8ef1a25a-937a-40ac-b392-002fa19b116f",
   "metadata": {},
   "source": [
    "-> total of 48 SA2 (as defined in 2021) are misssing income data due to privacy concerns."
   ]
  },
  {
   "cell_type": "code",
   "execution_count": 35,
   "id": "d3a0c088-9b20-4ae1-b35b-affe74a88d21",
   "metadata": {},
   "outputs": [],
   "source": [
    "# replace the value \"np\" with Nan for convenience\n",
    "sa2_income_2021 = sa2_income_2021.replace('np', np.NaN)\n",
    "\n",
    "# add 2 SA2s that are included in tbl consumer dataset but not present in our income dataset,\n",
    "#  for the ease of merging between these 2 datasets in later steps.\n",
    "new_row = pd.DataFrame({'SA2_CODE_2021': '901011001', 'SA2_NAME_2021': 'Christmas Island'}, index=[0])\n",
    "new_row2 = pd.DataFrame({'SA2_CODE_2021': '901021002', 'SA2_NAME_2021': 'Cocos (Keeling) Islands'}, index=[0])\n",
    "sa2_income_2021 = pd.concat([new_row,sa2_income_2021.loc[:]]).reset_index(drop=True)\n",
    "sa2_income_2021 = pd.concat([new_row2,sa2_income_2021.loc[:]]).reset_index(drop=True)"
   ]
  },
  {
   "cell_type": "code",
   "execution_count": 36,
   "id": "78b5e8f0-930e-490e-89a3-b02ed6d5a043",
   "metadata": {},
   "outputs": [
    {
     "data": {
      "text/plain": [
       "(50, 7)"
      ]
     },
     "execution_count": 36,
     "metadata": {},
     "output_type": "execute_result"
    }
   ],
   "source": [
    "sa2_income_2021[sa2_income_2021.isnull().any(axis=1)].shape"
   ]
  },
  {
   "cell_type": "markdown",
   "id": "b526de2b-ef11-44b3-bb90-9a678a53d9f3",
   "metadata": {},
   "source": [
    "Check distribution of each numerical features to see that median is representitive of the dataset and therefore appropriate for missing values imputation."
   ]
  },
  {
   "cell_type": "code",
   "execution_count": 41,
   "id": "89776274-f087-4839-b938-6f9fd718880d",
   "metadata": {},
   "outputs": [
    {
     "data": {
      "image/png": "[encoded data removed]",
      "text/plain": [
       "<Figure size 640x480 with 1 Axes>"
      ]
     },
     "metadata": {},
     "output_type": "display_data"
    }
   ],
   "source": [
    "# plot boxplot of the attribute 'medianAge_earners'\n",
    "lst = list(sa2_income_2021['medianAge_earners'])\n",
    "filtered_lst = [x for x in lst if str(x) != 'nan']\n",
    "plt.boxplot(filtered_lst)\n",
    "plt.title('Distribution of medianAge_earners')\n",
    "plt.ylabel('Values')\n",
    "plt.show()"
   ]
  },
  {
   "cell_type": "code",
   "execution_count": 42,
   "id": "cf3a4e1d-e2f4-4f67-97ee-3433fc9e0aa3",
   "metadata": {},
   "outputs": [
    {
     "data": {
      "image/png": "[encoded data removed]",
      "text/plain": [
       "<Figure size 640x480 with 1 Axes>"
      ]
     },
     "metadata": {},
     "output_type": "display_data"
    }
   ],
   "source": [
    "# plot boxplot of the attribute 'median_income'\n",
    "lst = list(sa2_income_2021['median_income'])\n",
    "filtered_lst = [x for x in lst if str(x) != 'nan']\n",
    "plt.boxplot(filtered_lst)\n",
    "plt.title('Distribution of median_income')\n",
    "plt.ylabel('Values')\n",
    "plt.show()"
   ]
  },
  {
   "cell_type": "code",
   "execution_count": 43,
   "id": "e3bb37f4-98ec-4e47-9410-e08c54b3f7f1",
   "metadata": {},
   "outputs": [],
   "source": [
    "sa2_income_imputed = sa2_income_2021.copy()\n",
    "# features with missing values (and therefore want to impute)\n",
    "nan_columns = ['num_earners', 'medianAge_earners', 'sum_income', 'median_income', 'mean_income']\n",
    "for feature in nan_columns:\n",
    "    # for each feature, calculate median and impute Nan values with that value\n",
    "    median = sa2_income_imputed[feature].median()\n",
    "    sa2_income_imputed[feature].fillna(median, inplace=True)"
   ]
  },
  {
   "cell_type": "code",
   "execution_count": 44,
   "id": "a7fcbcbf-cfb0-40de-a697-800a0d66b546",
   "metadata": {},
   "outputs": [],
   "source": [
    "sa2_income_imputed.to_csv(r'../data/raw/sa2_data/sa2_income_imputed.csv', index=False)"
   ]
  },
  {
   "cell_type": "markdown",
   "id": "79b774fe-04ae-4826-832c-8677fd394910",
   "metadata": {},
   "source": [
    "## 4. Get SA2 demographic data"
   ]
  },
  {
   "cell_type": "markdown",
   "id": "63c377a0",
   "metadata": {},
   "source": [
    "Demographic data such as population, population density can be obtained for each SA2 from the census data by ABS.\n",
    "\n",
    "The data was obtained from the link below."
   ]
  },
  {
   "cell_type": "markdown",
   "id": "80402873-fe0a-4209-87ec-508c56c49012",
   "metadata": {},
   "source": [
    "source: https://www.abs.gov.au/statistics/people/population/regional-population/latest-release"
   ]
  },
  {
   "cell_type": "code",
   "execution_count": 45,
   "id": "3c758c12-4913-4b2b-ab46-500d79d705ae",
   "metadata": {},
   "outputs": [
    {
     "data": {
      "text/plain": [
       "('../data/landing/sa2_data/sa2_population.xlsx',\n",
       " <http.client.HTTPMessage at 0x172db1d10>)"
      ]
     },
     "execution_count": 45,
     "metadata": {},
     "output_type": "execute_result"
    }
   ],
   "source": [
    "# retrieve  data from the above url and save to directory\n",
    "url = \"https://www.abs.gov.au/statistics/people/population/regional-population/2021-22/32180DS0001_2021-22.xlsx\"\n",
    "output_dir = output_relative_dir + 'sa2_data/sa2_population.xlsx'\n",
    "urlretrieve(url, output_dir)"
   ]
  },
  {
   "cell_type": "markdown",
   "id": "a12f174d-1edb-4dc9-8026-ba2e0335f2fc",
   "metadata": {},
   "source": [
    "### Preprocess demographic data"
   ]
  },
  {
   "cell_type": "markdown",
   "id": "96d8e7bb",
   "metadata": {},
   "source": [
    "Since the data were spread on 10 different pages in xlsx file, data from each page were processed separately via iteration as follows."
   ]
  },
  {
   "cell_type": "code",
   "execution_count": 46,
   "id": "c2c1681c-6f10-48a5-bf64-98a6a26b76eb",
   "metadata": {},
   "outputs": [],
   "source": [
    "# Data from each page were accessed via iteration, then processed and saved to the following dictionary.\n",
    "sa2_population_dict = {}\n",
    "new_column_names = ['S/T code', 'S/T name', 'GCCSA code','GCCSA name', 'SA4 code', 'SA4 name', 'SA3 code', 'SA3 name', 'SA2 code', 'SA2 name', '2021ERP', '2022ERP','ERPchange#', 'ERPchange%', 'Area', 'popDensity2022']\n",
    "subset_columns = ['SA2 code', 'SA2 name', '2021ERP', '2022ERP','ERPchange#', 'ERPchange%', 'Area', 'popDensity2022']\n",
    "for i in range(1, 10):\n",
    "    # read in the demographic data in page i\n",
    "    sa2_population = pd.read_excel(\"../data/landing/sa2_data/sa2_population.xlsx\", sheet_name=f'Table {str(i)}')\n",
    "    # drop empty rows and columns\n",
    "    sa2_population = sa2_population.drop([0,1,2,3,4,5,7]).reset_index(drop=True)\n",
    "    sa2_population = sa2_population.drop(['Unnamed: 12', 'Unnamed: 15', 'Unnamed: 16', 'Unnamed: 17', 'Unnamed: 18', 'Unnamed: 19'], axis=1)\n",
    "    # rename the columns\n",
    "    sa2_population.columns = new_column_names\n",
    "    # drop few more rows without data\n",
    "    sa2_population = sa2_population.drop([0]).reset_index(drop=True)\n",
    "    sa2_population = sa2_population.drop(sa2_population.tail(7).index)\n",
    "    # extract features of interest\n",
    "    sa2_population = sa2_population[subset_columns]\n",
    "    # save into dictionary\n",
    "    sa2_population_dict[i] = sa2_population"
   ]
  },
  {
   "cell_type": "code",
   "execution_count": 48,
   "id": "d31a4aba-e845-44bd-9a5e-caca4e4c8ab2",
   "metadata": {},
   "outputs": [],
   "source": [
    "# merge all the data from different page into one dataframe\n",
    "for i in range(1, 10):\n",
    "    if i==1:\n",
    "        concat_df = sa2_population_dict[i]\n",
    "    else:\n",
    "        concat_df = pd.concat([sa2_population_dict[i], concat_df], axis=0)"
   ]
  },
  {
   "cell_type": "code",
   "execution_count": 51,
   "id": "cfabbe02-8d39-4b06-ba85-9039efbcbe8e",
   "metadata": {},
   "outputs": [
    {
     "data": {
      "text/plain": [
       "2454"
      ]
     },
     "execution_count": 51,
     "metadata": {},
     "output_type": "execute_result"
    }
   ],
   "source": [
    "# demographic data for all the SA2s\n",
    "len(concat_df)"
   ]
  },
  {
   "cell_type": "code",
   "execution_count": 92,
   "id": "9ff012bf-cfd8-4cca-ab0c-7db1ebc25e06",
   "metadata": {},
   "outputs": [],
   "source": [
    "concat_df.to_csv(r'../data/raw/sa2_data/sa2_population.csv', index=False)"
   ]
  },
  {
   "cell_type": "markdown",
   "id": "08a59dea-d6d4-4c61-9b7a-b3e4606c2823",
   "metadata": {},
   "source": [
    "## 5. Australian postcodes"
   ]
  },
  {
   "cell_type": "markdown",
   "id": "514b448d",
   "metadata": {},
   "source": [
    "As mentioned earlier, postcodes in tbl consumer dataset will be used to merge it with the external datasets obtained above, which are in SA2 units. \n",
    "\n",
    "We used spatial join to make correspondencies between SA2 boundaries and postcodes.\n",
    "\n",
    "The location of all the postcodes in Australia was obtained from the link below."
   ]
  },
  {
   "cell_type": "markdown",
   "id": "84ef1fe8-d6fc-4433-89ac-b6f91e669379",
   "metadata": {},
   "source": [
    "Source: https://www.matthewproctor.com/australian_postcodes#downloadlinks"
   ]
  },
  {
   "cell_type": "code",
   "execution_count": 52,
   "id": "263e0a3b-8d5b-45c2-ae9a-66930f38baab",
   "metadata": {},
   "outputs": [
    {
     "data": {
      "text/plain": [
       "7764836"
      ]
     },
     "execution_count": 52,
     "metadata": {},
     "output_type": "execute_result"
    }
   ],
   "source": [
    "# retrive postcode data from the above url and save to the directory\n",
    "headers = {'User-Agent': 'Mozilla/5.0 (Windows NT 6.1) AppleWebKit/537.36 (KHTML, like Gecko) Chrome/41.0.2228.0 Safari/537.3'}\n",
    "url = \"https://www.matthewproctor.com/Content/postcodes/australian_postcodes.csv\"\n",
    "output_dir = '../data/landing/postCode_sa2Code.csv'\n",
    "r = requests.get(url, headers=headers,allow_redirects=True)\n",
    "open(output_dir, 'wb').write(r.content)"
   ]
  },
  {
   "cell_type": "markdown",
   "id": "c01211c7-bb66-4387-8694-42d78686d7cc",
   "metadata": {},
   "source": [
    "### 6. i) preprocess postcode data"
   ]
  },
  {
   "cell_type": "code",
   "execution_count": 53,
   "id": "cee2ecf0-5b98-44a0-8f70-1c16c0e02b38",
   "metadata": {},
   "outputs": [],
   "source": [
    "# read in postcode data\n",
    "postcode_sa2 = pd.read_csv('../data/landing/postCode_sa2Code.csv')\n",
    "\n",
    "# extract the columns of interest\n",
    "postCode = postcode_sa2[['postcode', 'lat', 'long']]\n",
    "\n",
    "# remove the duplicate rows\n",
    "postCode_2 = postCode.drop_duplicates(\n",
    "  subset = ['postcode'],\n",
    "  keep = 'last').reset_index(drop = True)"
   ]
  },
  {
   "cell_type": "markdown",
   "id": "92c35a82",
   "metadata": {},
   "source": [
    "There are 6 postcodes in the dataset with invalid location of longtitude=latitude=0.\n",
    "\n",
    "After checking that there are no tbl consumers with those postcodes, we removed those entries."
   ]
  },
  {
   "cell_type": "code",
   "execution_count": 103,
   "id": "f975d175-2e95-40e1-a152-02ee73ebe580",
   "metadata": {},
   "outputs": [
    {
     "data": {
      "text/html": [
       "<div>\n",
       "<style scoped>\n",
       "    .dataframe tbody tr th:only-of-type {\n",
       "        vertical-align: middle;\n",
       "    }\n",
       "\n",
       "    .dataframe tbody tr th {\n",
       "        vertical-align: top;\n",
       "    }\n",
       "\n",
       "    .dataframe thead th {\n",
       "        text-align: right;\n",
       "    }\n",
       "</style>\n",
       "<table border=\"1\" class=\"dataframe\">\n",
       "  <thead>\n",
       "    <tr style=\"text-align: right;\">\n",
       "      <th></th>\n",
       "      <th>postcode</th>\n",
       "      <th>lat</th>\n",
       "      <th>long</th>\n",
       "    </tr>\n",
       "  </thead>\n",
       "  <tbody>\n",
       "    <tr>\n",
       "      <th>3</th>\n",
       "      <td>803</td>\n",
       "      <td>0.0</td>\n",
       "      <td>0.0</td>\n",
       "    </tr>\n",
       "    <tr>\n",
       "      <th>238</th>\n",
       "      <td>1405</td>\n",
       "      <td>0.0</td>\n",
       "      <td>0.0</td>\n",
       "    </tr>\n",
       "    <tr>\n",
       "      <th>313</th>\n",
       "      <td>1874</td>\n",
       "      <td>0.0</td>\n",
       "      <td>0.0</td>\n",
       "    </tr>\n",
       "    <tr>\n",
       "      <th>2508</th>\n",
       "      <td>5801</td>\n",
       "      <td>0.0</td>\n",
       "      <td>0.0</td>\n",
       "    </tr>\n",
       "    <tr>\n",
       "      <th>3158</th>\n",
       "      <td>8438</td>\n",
       "      <td>0.0</td>\n",
       "      <td>0.0</td>\n",
       "    </tr>\n",
       "    <tr>\n",
       "      <th>3159</th>\n",
       "      <td>8511</td>\n",
       "      <td>0.0</td>\n",
       "      <td>0.0</td>\n",
       "    </tr>\n",
       "  </tbody>\n",
       "</table>\n",
       "</div>"
      ],
      "text/plain": [
       "      postcode  lat  long\n",
       "3          803  0.0   0.0\n",
       "238       1405  0.0   0.0\n",
       "313       1874  0.0   0.0\n",
       "2508      5801  0.0   0.0\n",
       "3158      8438  0.0   0.0\n",
       "3159      8511  0.0   0.0"
      ]
     },
     "execution_count": 103,
     "metadata": {},
     "output_type": "execute_result"
    }
   ],
   "source": [
    "# postcodes with invalid location: long=lat=0\n",
    "postCode_2[postCode_2.eq(0).any(axis=1)]"
   ]
  },
  {
   "cell_type": "code",
   "execution_count": 54,
   "id": "8082482c-8310-44e6-9cbe-e251d1b59ca3",
   "metadata": {},
   "outputs": [
    {
     "name": "stdout",
     "output_type": "stream",
     "text": [
      "False\n",
      "False\n",
      "False\n",
      "False\n",
      "False\n",
      "False\n"
     ]
    }
   ],
   "source": [
    "# check that those postcodes with invalid locations are not included in tbl consumer dataset\n",
    "print(803 in list(set(tbl_consumer['postcode'])))\n",
    "print(1405 in list(set(tbl_consumer['postcode'])))\n",
    "print(1874 in list(set(tbl_consumer['postcode'])))\n",
    "print(5801 in list(set(tbl_consumer['postcode'])))\n",
    "print(8438 in list(set(tbl_consumer['postcode'])))\n",
    "print(8511 in list(set(tbl_consumer['postcode'])))"
   ]
  },
  {
   "cell_type": "code",
   "execution_count": 56,
   "id": "e8f7f7c3-69f0-4f3b-ad9a-345931727961",
   "metadata": {},
   "outputs": [],
   "source": [
    "# remove those postcodes with invalid location from the dataset\n",
    "null_postcode = [803, 1405, 1874, 5801, 8438, 8511]\n",
    "postCode_3 = postCode_2[~postCode_2['postcode'].isin(null_postcode)]"
   ]
  },
  {
   "cell_type": "markdown",
   "id": "f88ec577",
   "metadata": {},
   "source": [
    "Also, we found that postcode '2755' is not included in our postcode dataset while there are tbl consumers with this postcode.\n",
    "\n",
    "Since the location of this postcode could be easily obtained from google map, we manually added that postcode as a new entry."
   ]
  },
  {
   "cell_type": "code",
   "execution_count": 57,
   "id": "e4d49bac-d93b-47d2-a65f-ce10ef4700bd",
   "metadata": {},
   "outputs": [],
   "source": [
    "# add the data entry for missing post code, 2755 which exists in tbl consumer dataset but not in our postcode dataset\n",
    "# The postcode 2755 corresponds to Richmond, New South Wales.\n",
    "new_row = pd.DataFrame({'postcode': 2755, 'lat':-33.597328, 'long':150.755451}, index=[0])\n",
    "postCode_4 = pd.concat([new_row,postCode_3.loc[:]]).reset_index(drop=True)"
   ]
  },
  {
   "cell_type": "code",
   "execution_count": 58,
   "id": "5ad41596-3a6a-4054-82a3-98d467a0d84a",
   "metadata": {},
   "outputs": [],
   "source": [
    "# save the cleaned postcode dataset\n",
    "postCode_4.to_csv(r'../data/raw/postCode.csv', index=False)"
   ]
  },
  {
   "cell_type": "markdown",
   "id": "7373bad3-ad2f-4c11-a257-00e347877f17",
   "metadata": {},
   "source": [
    "### 6. ii) Spatial join between postcodes and SA2 zones"
   ]
  },
  {
   "cell_type": "markdown",
   "id": "4053171a",
   "metadata": {},
   "source": [
    "Spatial join was done by identifying SA2 that contains the point in location of each postcode, obtained from the above dataset.\n",
    "\n",
    "Some postcodes were having point of location showing ocean (coastal areas, etc), while there postcode could not be merged with SA2 in the above method.\n",
    "\n",
    "For those postcodes, nearest SA2 zone was identified."
   ]
  },
  {
   "cell_type": "code",
   "execution_count": 60,
   "id": "e403061b-10a0-4114-a105-5e4c401c9d31",
   "metadata": {},
   "outputs": [
    {
     "data": {
      "text/html": [
       "<div>\n",
       "<style scoped>\n",
       "    .dataframe tbody tr th:only-of-type {\n",
       "        vertical-align: middle;\n",
       "    }\n",
       "\n",
       "    .dataframe tbody tr th {\n",
       "        vertical-align: top;\n",
       "    }\n",
       "\n",
       "    .dataframe thead th {\n",
       "        text-align: right;\n",
       "    }\n",
       "</style>\n",
       "<table border=\"1\" class=\"dataframe\">\n",
       "  <thead>\n",
       "    <tr style=\"text-align: right;\">\n",
       "      <th></th>\n",
       "      <th>postcode</th>\n",
       "      <th>lat</th>\n",
       "      <th>long</th>\n",
       "      <th>geometry</th>\n",
       "    </tr>\n",
       "  </thead>\n",
       "  <tbody>\n",
       "    <tr>\n",
       "      <th>0</th>\n",
       "      <td>2755</td>\n",
       "      <td>-33.597328</td>\n",
       "      <td>150.755451</td>\n",
       "      <td>POINT (150.75545 -33.59733)</td>\n",
       "    </tr>\n",
       "    <tr>\n",
       "      <th>1</th>\n",
       "      <td>200</td>\n",
       "      <td>-35.277700</td>\n",
       "      <td>149.118900</td>\n",
       "      <td>POINT (149.11890 -35.27770)</td>\n",
       "    </tr>\n",
       "    <tr>\n",
       "      <th>2</th>\n",
       "      <td>800</td>\n",
       "      <td>-12.458684</td>\n",
       "      <td>130.836680</td>\n",
       "      <td>POINT (130.83668 -12.45868)</td>\n",
       "    </tr>\n",
       "    <tr>\n",
       "      <th>3</th>\n",
       "      <td>801</td>\n",
       "      <td>-12.458684</td>\n",
       "      <td>130.836680</td>\n",
       "      <td>POINT (130.83668 -12.45868)</td>\n",
       "    </tr>\n",
       "    <tr>\n",
       "      <th>4</th>\n",
       "      <td>804</td>\n",
       "      <td>-12.428017</td>\n",
       "      <td>130.873315</td>\n",
       "      <td>POINT (130.87331 -12.42802)</td>\n",
       "    </tr>\n",
       "    <tr>\n",
       "      <th>...</th>\n",
       "      <td>...</td>\n",
       "      <td>...</td>\n",
       "      <td>...</td>\n",
       "      <td>...</td>\n",
       "    </tr>\n",
       "    <tr>\n",
       "      <th>3163</th>\n",
       "      <td>9013</td>\n",
       "      <td>-27.603479</td>\n",
       "      <td>152.823141</td>\n",
       "      <td>POINT (152.82314 -27.60348)</td>\n",
       "    </tr>\n",
       "    <tr>\n",
       "      <th>3164</th>\n",
       "      <td>9015</td>\n",
       "      <td>-27.603479</td>\n",
       "      <td>152.823141</td>\n",
       "      <td>POINT (152.82314 -27.60348)</td>\n",
       "    </tr>\n",
       "    <tr>\n",
       "      <th>3165</th>\n",
       "      <td>9464</td>\n",
       "      <td>-27.397055</td>\n",
       "      <td>153.074982</td>\n",
       "      <td>POINT (153.07498 -27.39706)</td>\n",
       "    </tr>\n",
       "    <tr>\n",
       "      <th>3166</th>\n",
       "      <td>9726</td>\n",
       "      <td>-28.008783</td>\n",
       "      <td>153.412197</td>\n",
       "      <td>POINT (153.41220 -28.00878)</td>\n",
       "    </tr>\n",
       "    <tr>\n",
       "      <th>3167</th>\n",
       "      <td>9999</td>\n",
       "      <td>-37.817403</td>\n",
       "      <td>144.956776</td>\n",
       "      <td>POINT (144.95678 -37.81740)</td>\n",
       "    </tr>\n",
       "  </tbody>\n",
       "</table>\n",
       "<p>3168 rows × 4 columns</p>\n",
       "</div>"
      ],
      "text/plain": [
       "      postcode        lat        long                     geometry\n",
       "0         2755 -33.597328  150.755451  POINT (150.75545 -33.59733)\n",
       "1          200 -35.277700  149.118900  POINT (149.11890 -35.27770)\n",
       "2          800 -12.458684  130.836680  POINT (130.83668 -12.45868)\n",
       "3          801 -12.458684  130.836680  POINT (130.83668 -12.45868)\n",
       "4          804 -12.428017  130.873315  POINT (130.87331 -12.42802)\n",
       "...        ...        ...         ...                          ...\n",
       "3163      9013 -27.603479  152.823141  POINT (152.82314 -27.60348)\n",
       "3164      9015 -27.603479  152.823141  POINT (152.82314 -27.60348)\n",
       "3165      9464 -27.397055  153.074982  POINT (153.07498 -27.39706)\n",
       "3166      9726 -28.008783  153.412197  POINT (153.41220 -28.00878)\n",
       "3167      9999 -37.817403  144.956776  POINT (144.95678 -37.81740)\n",
       "\n",
       "[3168 rows x 4 columns]"
      ]
     },
     "execution_count": 60,
     "metadata": {},
     "output_type": "execute_result"
    }
   ],
   "source": [
    "# read in the shape file of SA2 boundaries\n",
    "sf1 = gpd.read_file(\"../data/landing/sa2_zones/SA2_2021_AUST_GDA2020.shp\")\n",
    "\n",
    "# geodataframe of SA2 boundaries\n",
    "sf1['geometry'] = sf1['geometry'].to_crs(\"EPSG:4326\")\n",
    "\n",
    "# make another geodataframe of postcodes with point in location as 'geometry' column\n",
    "gdf = gpd.GeoDataFrame(\n",
    "    postCode_4, geometry=gpd.points_from_xy(postCode_4.long, postCode_4.lat), crs=\"EPSG:4326\"\n",
    ")\n",
    "gdf.set_geometry(\"geometry\")"
   ]
  },
  {
   "cell_type": "code",
   "execution_count": 61,
   "id": "b2da52a3-ea05-4d7a-ba67-2164972141ed",
   "metadata": {},
   "outputs": [],
   "source": [
    "# spatial join between SA2s and postcodes\n",
    "join=gpd.sjoin(gdf, sf1, how='left',predicate='intersects')\n",
    "\n",
    "# retain only the necessary columns\n",
    "postcode_sa2 = join[['postcode', 'SA2_CODE21', 'SA2_NAME21']]"
   ]
  },
  {
   "cell_type": "code",
   "execution_count": 62,
   "id": "4ec7180c-9c6e-406c-a50e-b4dc3164641c",
   "metadata": {},
   "outputs": [
    {
     "data": {
      "text/html": [
       "<div>\n",
       "<style scoped>\n",
       "    .dataframe tbody tr th:only-of-type {\n",
       "        vertical-align: middle;\n",
       "    }\n",
       "\n",
       "    .dataframe tbody tr th {\n",
       "        vertical-align: top;\n",
       "    }\n",
       "\n",
       "    .dataframe thead th {\n",
       "        text-align: right;\n",
       "    }\n",
       "</style>\n",
       "<table border=\"1\" class=\"dataframe\">\n",
       "  <thead>\n",
       "    <tr style=\"text-align: right;\">\n",
       "      <th></th>\n",
       "      <th>postcode</th>\n",
       "      <th>SA2_CODE21</th>\n",
       "      <th>SA2_NAME21</th>\n",
       "    </tr>\n",
       "  </thead>\n",
       "  <tbody>\n",
       "    <tr>\n",
       "      <th>500</th>\n",
       "      <td>2206</td>\n",
       "      <td>119021662</td>\n",
       "      <td>Earlwood</td>\n",
       "    </tr>\n",
       "    <tr>\n",
       "      <th>501</th>\n",
       "      <td>2207</td>\n",
       "      <td>119041669</td>\n",
       "      <td>Bexley - North</td>\n",
       "    </tr>\n",
       "    <tr>\n",
       "      <th>502</th>\n",
       "      <td>2208</td>\n",
       "      <td>119041377</td>\n",
       "      <td>Kingsgrove (South) - Bardwell Park</td>\n",
       "    </tr>\n",
       "    <tr>\n",
       "      <th>503</th>\n",
       "      <td>2209</td>\n",
       "      <td>119031370</td>\n",
       "      <td>Narwee - Beverly Hills</td>\n",
       "    </tr>\n",
       "    <tr>\n",
       "      <th>504</th>\n",
       "      <td>2210</td>\n",
       "      <td>119031372</td>\n",
       "      <td>Peakhurst - Lugarno</td>\n",
       "    </tr>\n",
       "    <tr>\n",
       "      <th>505</th>\n",
       "      <td>2211</td>\n",
       "      <td>119011358</td>\n",
       "      <td>Padstow</td>\n",
       "    </tr>\n",
       "    <tr>\n",
       "      <th>506</th>\n",
       "      <td>2212</td>\n",
       "      <td>119011360</td>\n",
       "      <td>Revesby</td>\n",
       "    </tr>\n",
       "    <tr>\n",
       "      <th>507</th>\n",
       "      <td>2213</td>\n",
       "      <td>119011658</td>\n",
       "      <td>Panania (South) - Picnic Point</td>\n",
       "    </tr>\n",
       "    <tr>\n",
       "      <th>508</th>\n",
       "      <td>2214</td>\n",
       "      <td>119011657</td>\n",
       "      <td>Panania (North) - Milperra</td>\n",
       "    </tr>\n",
       "    <tr>\n",
       "      <th>509</th>\n",
       "      <td>2216</td>\n",
       "      <td>119041381</td>\n",
       "      <td>Rockdale - Banksia</td>\n",
       "    </tr>\n",
       "  </tbody>\n",
       "</table>\n",
       "</div>"
      ],
      "text/plain": [
       "     postcode SA2_CODE21                          SA2_NAME21\n",
       "500      2206  119021662                            Earlwood\n",
       "501      2207  119041669                      Bexley - North\n",
       "502      2208  119041377  Kingsgrove (South) - Bardwell Park\n",
       "503      2209  119031370              Narwee - Beverly Hills\n",
       "504      2210  119031372                 Peakhurst - Lugarno\n",
       "505      2211  119011358                             Padstow\n",
       "506      2212  119011360                             Revesby\n",
       "507      2213  119011658      Panania (South) - Picnic Point\n",
       "508      2214  119011657          Panania (North) - Milperra\n",
       "509      2216  119041381                  Rockdale - Banksia"
      ]
     },
     "execution_count": 62,
     "metadata": {},
     "output_type": "execute_result"
    }
   ],
   "source": [
    "# check that the postcode is linked with the corresponding SA2 zone\n",
    "postcode_sa2[500:510]"
   ]
  },
  {
   "cell_type": "code",
   "execution_count": 64,
   "id": "61246f42-b3af-4075-aebb-2f6dc0388ef7",
   "metadata": {},
   "outputs": [
    {
     "data": {
      "text/html": [
       "<div>\n",
       "<style scoped>\n",
       "    .dataframe tbody tr th:only-of-type {\n",
       "        vertical-align: middle;\n",
       "    }\n",
       "\n",
       "    .dataframe tbody tr th {\n",
       "        vertical-align: top;\n",
       "    }\n",
       "\n",
       "    .dataframe thead th {\n",
       "        text-align: right;\n",
       "    }\n",
       "</style>\n",
       "<table border=\"1\" class=\"dataframe\">\n",
       "  <thead>\n",
       "    <tr style=\"text-align: right;\">\n",
       "      <th></th>\n",
       "      <th>postcode</th>\n",
       "      <th>lat</th>\n",
       "      <th>long</th>\n",
       "      <th>geometry</th>\n",
       "    </tr>\n",
       "  </thead>\n",
       "  <tbody>\n",
       "    <tr>\n",
       "      <th>317</th>\n",
       "      <td>2000</td>\n",
       "      <td>-33.859953</td>\n",
       "      <td>151.256649</td>\n",
       "      <td>POINT (151.25665 -33.85995)</td>\n",
       "    </tr>\n",
       "    <tr>\n",
       "      <th>361</th>\n",
       "      <td>2047</td>\n",
       "      <td>-33.853924</td>\n",
       "      <td>151.165735</td>\n",
       "      <td>POINT (151.16574 -33.85392)</td>\n",
       "    </tr>\n",
       "    <tr>\n",
       "      <th>392</th>\n",
       "      <td>2083</td>\n",
       "      <td>-33.525322</td>\n",
       "      <td>151.194452</td>\n",
       "      <td>POINT (151.19445 -33.52532)</td>\n",
       "    </tr>\n",
       "    <tr>\n",
       "      <th>531</th>\n",
       "      <td>2256</td>\n",
       "      <td>-33.482123</td>\n",
       "      <td>151.331154</td>\n",
       "      <td>POINT (151.33115 -33.48212)</td>\n",
       "    </tr>\n",
       "    <tr>\n",
       "      <th>541</th>\n",
       "      <td>2267</td>\n",
       "      <td>-33.086545</td>\n",
       "      <td>151.591728</td>\n",
       "      <td>POINT (151.59173 -33.08655)</td>\n",
       "    </tr>\n",
       "    <tr>\n",
       "      <th>544</th>\n",
       "      <td>2281</td>\n",
       "      <td>-33.089963</td>\n",
       "      <td>151.668857</td>\n",
       "      <td>POINT (151.66886 -33.08996)</td>\n",
       "    </tr>\n",
       "    <tr>\n",
       "      <th>708</th>\n",
       "      <td>2502</td>\n",
       "      <td>-34.494723</td>\n",
       "      <td>150.873081</td>\n",
       "      <td>POINT (150.87308 -34.49472)</td>\n",
       "    </tr>\n",
       "    <tr>\n",
       "      <th>709</th>\n",
       "      <td>2505</td>\n",
       "      <td>-34.466406</td>\n",
       "      <td>150.943899</td>\n",
       "      <td>POINT (150.94390 -34.46641)</td>\n",
       "    </tr>\n",
       "    <tr>\n",
       "      <th>1657</th>\n",
       "      <td>3921</td>\n",
       "      <td>-38.419488</td>\n",
       "      <td>145.367079</td>\n",
       "      <td>POINT (145.36708 -38.41949)</td>\n",
       "    </tr>\n",
       "    <tr>\n",
       "      <th>1688</th>\n",
       "      <td>3960</td>\n",
       "      <td>-39.140761</td>\n",
       "      <td>146.360412</td>\n",
       "      <td>POINT (146.36041 -39.14076)</td>\n",
       "    </tr>\n",
       "    <tr>\n",
       "      <th>1705</th>\n",
       "      <td>3989</td>\n",
       "      <td>49.180500</td>\n",
       "      <td>-2.103230</td>\n",
       "      <td>POINT (-2.10323 49.18050)</td>\n",
       "    </tr>\n",
       "    <tr>\n",
       "      <th>1752</th>\n",
       "      <td>4068</td>\n",
       "      <td>-27.506907</td>\n",
       "      <td>152.976926</td>\n",
       "      <td>POINT (152.97693 -27.50691)</td>\n",
       "    </tr>\n",
       "    <tr>\n",
       "      <th>2039</th>\n",
       "      <td>4680</td>\n",
       "      <td>-23.446826</td>\n",
       "      <td>151.917285</td>\n",
       "      <td>POINT (151.91728 -23.44683)</td>\n",
       "    </tr>\n",
       "    <tr>\n",
       "      <th>2046</th>\n",
       "      <td>4702</td>\n",
       "      <td>-23.279639</td>\n",
       "      <td>150.885772</td>\n",
       "      <td>POINT (150.88577 -23.27964)</td>\n",
       "    </tr>\n",
       "    <tr>\n",
       "      <th>2142</th>\n",
       "      <td>4873</td>\n",
       "      <td>-16.347037</td>\n",
       "      <td>145.420626</td>\n",
       "      <td>POINT (145.42063 -16.34704)</td>\n",
       "    </tr>\n",
       "    <tr>\n",
       "      <th>2300</th>\n",
       "      <td>5211</td>\n",
       "      <td>-35.566153</td>\n",
       "      <td>138.627975</td>\n",
       "      <td>POINT (138.62797 -35.56615)</td>\n",
       "    </tr>\n",
       "    <tr>\n",
       "      <th>2891</th>\n",
       "      <td>6726</td>\n",
       "      <td>-17.950181</td>\n",
       "      <td>122.196423</td>\n",
       "      <td>POINT (122.19642 -17.95018)</td>\n",
       "    </tr>\n",
       "    <tr>\n",
       "      <th>2985</th>\n",
       "      <td>6958</td>\n",
       "      <td>47.751100</td>\n",
       "      <td>-120.740000</td>\n",
       "      <td>POINT (-120.74000 47.75110)</td>\n",
       "    </tr>\n",
       "    <tr>\n",
       "      <th>3030</th>\n",
       "      <td>7021</td>\n",
       "      <td>-42.906796</td>\n",
       "      <td>147.480017</td>\n",
       "      <td>POINT (147.48002 -42.90680)</td>\n",
       "    </tr>\n",
       "    <tr>\n",
       "      <th>3065</th>\n",
       "      <td>7177</td>\n",
       "      <td>-42.884195</td>\n",
       "      <td>147.976495</td>\n",
       "      <td>POINT (147.97649 -42.88419)</td>\n",
       "    </tr>\n",
       "    <tr>\n",
       "      <th>3067</th>\n",
       "      <td>7179</td>\n",
       "      <td>-43.033826</td>\n",
       "      <td>147.944957</td>\n",
       "      <td>POINT (147.94496 -43.03383)</td>\n",
       "    </tr>\n",
       "    <tr>\n",
       "      <th>3074</th>\n",
       "      <td>7187</td>\n",
       "      <td>-43.027742</td>\n",
       "      <td>147.848028</td>\n",
       "      <td>POINT (147.84803 -43.02774)</td>\n",
       "    </tr>\n",
       "  </tbody>\n",
       "</table>\n",
       "</div>"
      ],
      "text/plain": [
       "      postcode        lat        long                     geometry\n",
       "317       2000 -33.859953  151.256649  POINT (151.25665 -33.85995)\n",
       "361       2047 -33.853924  151.165735  POINT (151.16574 -33.85392)\n",
       "392       2083 -33.525322  151.194452  POINT (151.19445 -33.52532)\n",
       "531       2256 -33.482123  151.331154  POINT (151.33115 -33.48212)\n",
       "541       2267 -33.086545  151.591728  POINT (151.59173 -33.08655)\n",
       "544       2281 -33.089963  151.668857  POINT (151.66886 -33.08996)\n",
       "708       2502 -34.494723  150.873081  POINT (150.87308 -34.49472)\n",
       "709       2505 -34.466406  150.943899  POINT (150.94390 -34.46641)\n",
       "1657      3921 -38.419488  145.367079  POINT (145.36708 -38.41949)\n",
       "1688      3960 -39.140761  146.360412  POINT (146.36041 -39.14076)\n",
       "1705      3989  49.180500   -2.103230    POINT (-2.10323 49.18050)\n",
       "1752      4068 -27.506907  152.976926  POINT (152.97693 -27.50691)\n",
       "2039      4680 -23.446826  151.917285  POINT (151.91728 -23.44683)\n",
       "2046      4702 -23.279639  150.885772  POINT (150.88577 -23.27964)\n",
       "2142      4873 -16.347037  145.420626  POINT (145.42063 -16.34704)\n",
       "2300      5211 -35.566153  138.627975  POINT (138.62797 -35.56615)\n",
       "2891      6726 -17.950181  122.196423  POINT (122.19642 -17.95018)\n",
       "2985      6958  47.751100 -120.740000  POINT (-120.74000 47.75110)\n",
       "3030      7021 -42.906796  147.480017  POINT (147.48002 -42.90680)\n",
       "3065      7177 -42.884195  147.976495  POINT (147.97649 -42.88419)\n",
       "3067      7179 -43.033826  147.944957  POINT (147.94496 -43.03383)\n",
       "3074      7187 -43.027742  147.848028  POINT (147.84803 -43.02774)"
      ]
     },
     "execution_count": 64,
     "metadata": {},
     "output_type": "execute_result"
    }
   ],
   "source": [
    "# some postcodes didn't get merged properly with SA2 zones\n",
    "missed_postcode = list(set(postcode_sa2[postcode_sa2.isnull().any(axis=1)]['postcode']))\n",
    "gdf_missed = gdf[gdf['postcode'].isin(missed_postcode)]\n",
    "gdf_missed"
   ]
  },
  {
   "cell_type": "code",
   "execution_count": 66,
   "id": "1bcb7e1f-bfa6-4ece-9ad7-14ae7e71ea04",
   "metadata": {},
   "outputs": [
    {
     "name": "stderr",
     "output_type": "stream",
     "text": [
      "/Library/Frameworks/Python.framework/Versions/3.11/lib/python3.11/site-packages/geopandas/array.py:364: UserWarning: Geometry is in a geographic CRS. Results from 'sjoin_nearest' are likely incorrect. Use 'GeoSeries.to_crs()' to re-project geometries to a projected CRS before this operation.\n",
      "\n",
      "  warnings.warn(\n"
     ]
    }
   ],
   "source": [
    "# The above 22 postcodes didn't intersect with SA2 zones because the point in latitude and longtitude were in ocean \n",
    "# (slightly off from land)\n",
    "# thus use sjoin_nearest instead to join those postcode with SA2\n",
    "join_2=gpd.sjoin_nearest(gdf_missed, sf1, how='left')\n",
    "postcode_sa2_2 = join_2[['postcode', 'SA2_CODE21', 'SA2_NAME21']]\n",
    "\n",
    "# replace nan entries with the newly joined entires with sjoin_nearest\n",
    "postcode_sa2_3 = postcode_sa2.dropna()\n",
    "postcode_sa2_4 = pd.concat([postcode_sa2_3, postcode_sa2_2])"
   ]
  },
  {
   "cell_type": "code",
   "execution_count": 68,
   "id": "87fa757c-dd96-47dc-9561-4f3b7a6e3ce8",
   "metadata": {},
   "outputs": [],
   "source": [
    "postcode_sa2_4.to_csv(r'../data/raw/postCode_sa2.csv', index=False)"
   ]
  },
  {
   "cell_type": "markdown",
   "id": "4e517258-2dd3-4081-ad91-b195401c23de",
   "metadata": {},
   "source": [
    "## 7. Merge tbl consumer data and demographic, income datasets"
   ]
  },
  {
   "cell_type": "code",
   "execution_count": 69,
   "id": "10f6ec93-2347-4680-9bd5-c46ea9162b03",
   "metadata": {},
   "outputs": [],
   "source": [
    "# read in all the datasets ready to merge\n",
    "sa2_population = pd.read_csv('../data/raw/sa2_data/sa2_population.csv')\n",
    "postCode_sa2 = pd.read_csv(r'../data/raw/postCode_sa2.csv')\n",
    "tbl_consumer = pd.read_csv(\"../data/tables/tbl_consumer.csv\", sep='|')\n",
    "sa2_income = pd.read_csv('../data/raw/sa2_data/sa2_income_imputed.csv')"
   ]
  },
  {
   "cell_type": "code",
   "execution_count": 70,
   "id": "b54466c2-544a-42b9-996f-bf92f83e731b",
   "metadata": {},
   "outputs": [],
   "source": [
    "# merge consumer dataset and the correspondencies dataset between postcode and SA2\n",
    "# -> all the consumer now have location in postcode but also in SA2\n",
    "tbl_consumer_sa2 = pd.merge(tbl_consumer, postCode_sa2, on = ['postcode'], how = \"left\")"
   ]
  },
  {
   "cell_type": "code",
   "execution_count": 72,
   "id": "d2276363-d747-4bc7-8c6b-486e11c80a43",
   "metadata": {},
   "outputs": [],
   "source": [
    "# merge the dataset above with the demographic data\n",
    "tbl_consumer_pop = pd.merge(tbl_consumer_sa2, sa2_population, left_on='SA2_CODE21', right_on='SA2 code', how = \"left\")\n",
    "\n",
    "# drop the redundant columns\n",
    "tbl_consumer_pop_2 = tbl_consumer_pop.drop(['SA2 code', 'SA2 name'], axis=1)"
   ]
  },
  {
   "cell_type": "code",
   "execution_count": 79,
   "id": "333ca07f-8c78-4ad8-87bb-f65a3e185acb",
   "metadata": {},
   "outputs": [
    {
     "data": {
      "text/html": [
       "<div>\n",
       "<style scoped>\n",
       "    .dataframe tbody tr th:only-of-type {\n",
       "        vertical-align: middle;\n",
       "    }\n",
       "\n",
       "    .dataframe tbody tr th {\n",
       "        vertical-align: top;\n",
       "    }\n",
       "\n",
       "    .dataframe thead th {\n",
       "        text-align: right;\n",
       "    }\n",
       "</style>\n",
       "<table border=\"1\" class=\"dataframe\">\n",
       "  <thead>\n",
       "    <tr style=\"text-align: right;\">\n",
       "      <th></th>\n",
       "      <th>name</th>\n",
       "      <th>address</th>\n",
       "      <th>state</th>\n",
       "      <th>postcode</th>\n",
       "      <th>gender</th>\n",
       "      <th>consumer_id</th>\n",
       "      <th>SA2_CODE21</th>\n",
       "      <th>SA2_NAME21</th>\n",
       "      <th>2021ERP</th>\n",
       "      <th>2022ERP</th>\n",
       "      <th>ERPchange#</th>\n",
       "      <th>ERPchange%</th>\n",
       "      <th>Area</th>\n",
       "      <th>popDensity2022</th>\n",
       "    </tr>\n",
       "  </thead>\n",
       "  <tbody>\n",
       "  </tbody>\n",
       "</table>\n",
       "</div>"
      ],
      "text/plain": [
       "Empty DataFrame\n",
       "Columns: [name, address, state, postcode, gender, consumer_id, SA2_CODE21, SA2_NAME21, 2021ERP, 2022ERP, ERPchange#, ERPchange%, Area, popDensity2022]\n",
       "Index: []"
      ]
     },
     "execution_count": 79,
     "metadata": {},
     "output_type": "execute_result"
    }
   ],
   "source": [
    "# check that there are no Nan values arising from merging the datasets\n",
    "tbl_consumer_pop_2[tbl_consumer_pop_2.isnull().any(axis=1)]"
   ]
  },
  {
   "cell_type": "code",
   "execution_count": 150,
   "id": "afca1e6b-3bfd-4944-ad42-72030c1e2e1f",
   "metadata": {},
   "outputs": [],
   "source": [
    "\n",
    "# tbl_consumer_pop_2.to_csv(r'../data/raw/addedInfo_transaction/tbl_consumer_demographics.csv', index=False)"
   ]
  },
  {
   "cell_type": "code",
   "execution_count": 77,
   "id": "a2c2fa38",
   "metadata": {},
   "outputs": [
    {
     "data": {
      "text/html": [
       "<div>\n",
       "<style scoped>\n",
       "    .dataframe tbody tr th:only-of-type {\n",
       "        vertical-align: middle;\n",
       "    }\n",
       "\n",
       "    .dataframe tbody tr th {\n",
       "        vertical-align: top;\n",
       "    }\n",
       "\n",
       "    .dataframe thead th {\n",
       "        text-align: right;\n",
       "    }\n",
       "</style>\n",
       "<table border=\"1\" class=\"dataframe\">\n",
       "  <thead>\n",
       "    <tr style=\"text-align: right;\">\n",
       "      <th></th>\n",
       "      <th>SA2_CODE_2021</th>\n",
       "      <th>SA2_NAME_2021</th>\n",
       "      <th>num_earners</th>\n",
       "      <th>medianAge_earners</th>\n",
       "      <th>sum_income</th>\n",
       "      <th>median_income</th>\n",
       "      <th>mean_income</th>\n",
       "    </tr>\n",
       "  </thead>\n",
       "  <tbody>\n",
       "    <tr>\n",
       "      <th>0</th>\n",
       "      <td>901021002</td>\n",
       "      <td>Cocos (Keeling) Islands</td>\n",
       "      <td>5913.5</td>\n",
       "      <td>43.0</td>\n",
       "      <td>374124368.0</td>\n",
       "      <td>52109.5</td>\n",
       "      <td>62078.5</td>\n",
       "    </tr>\n",
       "  </tbody>\n",
       "</table>\n",
       "</div>"
      ],
      "text/plain": [
       "   SA2_CODE_2021            SA2_NAME_2021  num_earners  medianAge_earners  \\\n",
       "0      901021002  Cocos (Keeling) Islands       5913.5               43.0   \n",
       "\n",
       "    sum_income  median_income  mean_income  \n",
       "0  374124368.0        52109.5      62078.5  "
      ]
     },
     "execution_count": 77,
     "metadata": {},
     "output_type": "execute_result"
    }
   ],
   "source": [
    "sa2_income.head(1)"
   ]
  },
  {
   "cell_type": "code",
   "execution_count": 82,
   "id": "2cedfd8b",
   "metadata": {},
   "outputs": [],
   "source": [
    "# merge the dataset above with the income dataset\n",
    "tbl_consumer_demo_income = pd.merge(tbl_consumer_pop_2, sa2_income, left_on=['SA2_CODE21', 'SA2_NAME21'], \n",
    "                                    right_on=['SA2_CODE_2021', 'SA2_NAME_2021'], how = \"left\")"
   ]
  },
  {
   "cell_type": "code",
   "execution_count": 86,
   "id": "8f3f9872-7f3f-4c68-9883-86a6a3772d2b",
   "metadata": {},
   "outputs": [
    {
     "data": {
      "text/html": [
       "<div>\n",
       "<style scoped>\n",
       "    .dataframe tbody tr th:only-of-type {\n",
       "        vertical-align: middle;\n",
       "    }\n",
       "\n",
       "    .dataframe tbody tr th {\n",
       "        vertical-align: top;\n",
       "    }\n",
       "\n",
       "    .dataframe thead th {\n",
       "        text-align: right;\n",
       "    }\n",
       "</style>\n",
       "<table border=\"1\" class=\"dataframe\">\n",
       "  <thead>\n",
       "    <tr style=\"text-align: right;\">\n",
       "      <th></th>\n",
       "      <th>name</th>\n",
       "      <th>address</th>\n",
       "      <th>state</th>\n",
       "      <th>postcode</th>\n",
       "      <th>gender</th>\n",
       "      <th>consumer_id</th>\n",
       "      <th>SA2_CODE21</th>\n",
       "      <th>SA2_NAME21</th>\n",
       "      <th>2021ERP</th>\n",
       "      <th>2022ERP</th>\n",
       "      <th>...</th>\n",
       "      <th>ERPchange%</th>\n",
       "      <th>Area</th>\n",
       "      <th>popDensity2022</th>\n",
       "      <th>SA2_CODE_2021</th>\n",
       "      <th>SA2_NAME_2021</th>\n",
       "      <th>num_earners</th>\n",
       "      <th>medianAge_earners</th>\n",
       "      <th>sum_income</th>\n",
       "      <th>median_income</th>\n",
       "      <th>mean_income</th>\n",
       "    </tr>\n",
       "  </thead>\n",
       "  <tbody>\n",
       "    <tr>\n",
       "      <th>0</th>\n",
       "      <td>Yolanda Williams</td>\n",
       "      <td>413 Haney Gardens Apt. 742</td>\n",
       "      <td>WA</td>\n",
       "      <td>6935</td>\n",
       "      <td>Female</td>\n",
       "      <td>1195503</td>\n",
       "      <td>504011045</td>\n",
       "      <td>Bayswater - Embleton - Bedford</td>\n",
       "      <td>25418</td>\n",
       "      <td>25546</td>\n",
       "      <td>...</td>\n",
       "      <td>0.5</td>\n",
       "      <td>13.8</td>\n",
       "      <td>1849.6</td>\n",
       "      <td>504011045</td>\n",
       "      <td>Bayswater - Embleton - Bedford</td>\n",
       "      <td>14888.0</td>\n",
       "      <td>41.0</td>\n",
       "      <td>1.081631e+09</td>\n",
       "      <td>60592.0</td>\n",
       "      <td>72651.0</td>\n",
       "    </tr>\n",
       "    <tr>\n",
       "      <th>1</th>\n",
       "      <td>Mary Smith</td>\n",
       "      <td>3764 Amber Oval</td>\n",
       "      <td>NSW</td>\n",
       "      <td>2782</td>\n",
       "      <td>Female</td>\n",
       "      <td>179208</td>\n",
       "      <td>124011455</td>\n",
       "      <td>Wentworth Falls</td>\n",
       "      <td>6436</td>\n",
       "      <td>6311</td>\n",
       "      <td>...</td>\n",
       "      <td>-1.9</td>\n",
       "      <td>21.0</td>\n",
       "      <td>300.0</td>\n",
       "      <td>124011455</td>\n",
       "      <td>Wentworth Falls</td>\n",
       "      <td>3601.0</td>\n",
       "      <td>52.0</td>\n",
       "      <td>2.262885e+08</td>\n",
       "      <td>46276.0</td>\n",
       "      <td>62840.0</td>\n",
       "    </tr>\n",
       "    <tr>\n",
       "      <th>2</th>\n",
       "      <td>Jill Jones MD</td>\n",
       "      <td>40693 Henry Greens</td>\n",
       "      <td>NT</td>\n",
       "      <td>862</td>\n",
       "      <td>Female</td>\n",
       "      <td>1194530</td>\n",
       "      <td>702021055</td>\n",
       "      <td>Barkly</td>\n",
       "      <td>2516</td>\n",
       "      <td>2522</td>\n",
       "      <td>...</td>\n",
       "      <td>0.2</td>\n",
       "      <td>303169.1</td>\n",
       "      <td>0.0</td>\n",
       "      <td>702021055</td>\n",
       "      <td>Barkly</td>\n",
       "      <td>342.0</td>\n",
       "      <td>36.0</td>\n",
       "      <td>1.594369e+07</td>\n",
       "      <td>38830.0</td>\n",
       "      <td>46619.0</td>\n",
       "    </tr>\n",
       "    <tr>\n",
       "      <th>3</th>\n",
       "      <td>Lindsay Jimenez</td>\n",
       "      <td>00653 Davenport Crossroad</td>\n",
       "      <td>NSW</td>\n",
       "      <td>2780</td>\n",
       "      <td>Female</td>\n",
       "      <td>154128</td>\n",
       "      <td>124021456</td>\n",
       "      <td>Blue Mountains - South</td>\n",
       "      <td>7</td>\n",
       "      <td>7</td>\n",
       "      <td>...</td>\n",
       "      <td>0.0</td>\n",
       "      <td>2456.9</td>\n",
       "      <td>0.0</td>\n",
       "      <td>124021456</td>\n",
       "      <td>Blue Mountains - South</td>\n",
       "      <td>5913.5</td>\n",
       "      <td>43.0</td>\n",
       "      <td>3.741244e+08</td>\n",
       "      <td>52109.5</td>\n",
       "      <td>62078.5</td>\n",
       "    </tr>\n",
       "    <tr>\n",
       "      <th>4</th>\n",
       "      <td>Rebecca Blanchard</td>\n",
       "      <td>9271 Michael Manors Suite 651</td>\n",
       "      <td>WA</td>\n",
       "      <td>6355</td>\n",
       "      <td>Female</td>\n",
       "      <td>712975</td>\n",
       "      <td>509031247</td>\n",
       "      <td>Kulin</td>\n",
       "      <td>4374</td>\n",
       "      <td>4339</td>\n",
       "      <td>...</td>\n",
       "      <td>-0.8</td>\n",
       "      <td>28626.2</td>\n",
       "      <td>0.2</td>\n",
       "      <td>509031247</td>\n",
       "      <td>Kulin</td>\n",
       "      <td>2915.0</td>\n",
       "      <td>47.0</td>\n",
       "      <td>1.588879e+08</td>\n",
       "      <td>45336.0</td>\n",
       "      <td>54507.0</td>\n",
       "    </tr>\n",
       "  </tbody>\n",
       "</table>\n",
       "<p>5 rows × 21 columns</p>\n",
       "</div>"
      ],
      "text/plain": [
       "                name                        address state  postcode  gender  \\\n",
       "0   Yolanda Williams     413 Haney Gardens Apt. 742    WA      6935  Female   \n",
       "1         Mary Smith                3764 Amber Oval   NSW      2782  Female   \n",
       "2      Jill Jones MD             40693 Henry Greens    NT       862  Female   \n",
       "3    Lindsay Jimenez      00653 Davenport Crossroad   NSW      2780  Female   \n",
       "4  Rebecca Blanchard  9271 Michael Manors Suite 651    WA      6355  Female   \n",
       "\n",
       "   consumer_id  SA2_CODE21                      SA2_NAME21  2021ERP  2022ERP  \\\n",
       "0      1195503   504011045  Bayswater - Embleton - Bedford    25418    25546   \n",
       "1       179208   124011455                 Wentworth Falls     6436     6311   \n",
       "2      1194530   702021055                          Barkly     2516     2522   \n",
       "3       154128   124021456          Blue Mountains - South        7        7   \n",
       "4       712975   509031247                           Kulin     4374     4339   \n",
       "\n",
       "   ...  ERPchange%      Area  popDensity2022  SA2_CODE_2021  \\\n",
       "0  ...         0.5      13.8          1849.6      504011045   \n",
       "1  ...        -1.9      21.0           300.0      124011455   \n",
       "2  ...         0.2  303169.1             0.0      702021055   \n",
       "3  ...         0.0    2456.9             0.0      124021456   \n",
       "4  ...        -0.8   28626.2             0.2      509031247   \n",
       "\n",
       "                    SA2_NAME_2021 num_earners  medianAge_earners  \\\n",
       "0  Bayswater - Embleton - Bedford     14888.0               41.0   \n",
       "1                 Wentworth Falls      3601.0               52.0   \n",
       "2                          Barkly       342.0               36.0   \n",
       "3          Blue Mountains - South      5913.5               43.0   \n",
       "4                           Kulin      2915.0               47.0   \n",
       "\n",
       "     sum_income  median_income  mean_income  \n",
       "0  1.081631e+09        60592.0      72651.0  \n",
       "1  2.262885e+08        46276.0      62840.0  \n",
       "2  1.594369e+07        38830.0      46619.0  \n",
       "3  3.741244e+08        52109.5      62078.5  \n",
       "4  1.588879e+08        45336.0      54507.0  \n",
       "\n",
       "[5 rows x 21 columns]"
      ]
     },
     "execution_count": 86,
     "metadata": {},
     "output_type": "execute_result"
    }
   ],
   "source": [
    "# check that the final dataset has all the consumer details, demographic attributes and income attributes\n",
    "tbl_consumer_demo_income.head(5)"
   ]
  },
  {
   "cell_type": "code",
   "execution_count": 87,
   "id": "25a1b6d9-c0f7-4e6e-8bda-350c7becd590",
   "metadata": {},
   "outputs": [
    {
     "data": {
      "text/html": [
       "<div>\n",
       "<style scoped>\n",
       "    .dataframe tbody tr th:only-of-type {\n",
       "        vertical-align: middle;\n",
       "    }\n",
       "\n",
       "    .dataframe tbody tr th {\n",
       "        vertical-align: top;\n",
       "    }\n",
       "\n",
       "    .dataframe thead th {\n",
       "        text-align: right;\n",
       "    }\n",
       "</style>\n",
       "<table border=\"1\" class=\"dataframe\">\n",
       "  <thead>\n",
       "    <tr style=\"text-align: right;\">\n",
       "      <th></th>\n",
       "      <th>name</th>\n",
       "      <th>address</th>\n",
       "      <th>state</th>\n",
       "      <th>postcode</th>\n",
       "      <th>gender</th>\n",
       "      <th>consumer_id</th>\n",
       "      <th>SA2_CODE21</th>\n",
       "      <th>SA2_NAME21</th>\n",
       "      <th>2021ERP</th>\n",
       "      <th>2022ERP</th>\n",
       "      <th>...</th>\n",
       "      <th>ERPchange%</th>\n",
       "      <th>Area</th>\n",
       "      <th>popDensity2022</th>\n",
       "      <th>SA2_CODE_2021</th>\n",
       "      <th>SA2_NAME_2021</th>\n",
       "      <th>num_earners</th>\n",
       "      <th>medianAge_earners</th>\n",
       "      <th>sum_income</th>\n",
       "      <th>median_income</th>\n",
       "      <th>mean_income</th>\n",
       "    </tr>\n",
       "  </thead>\n",
       "  <tbody>\n",
       "  </tbody>\n",
       "</table>\n",
       "<p>0 rows × 21 columns</p>\n",
       "</div>"
      ],
      "text/plain": [
       "Empty DataFrame\n",
       "Columns: [name, address, state, postcode, gender, consumer_id, SA2_CODE21, SA2_NAME21, 2021ERP, 2022ERP, ERPchange#, ERPchange%, Area, popDensity2022, SA2_CODE_2021, SA2_NAME_2021, num_earners, medianAge_earners, sum_income, median_income, mean_income]\n",
       "Index: []\n",
       "\n",
       "[0 rows x 21 columns]"
      ]
     },
     "execution_count": 87,
     "metadata": {},
     "output_type": "execute_result"
    }
   ],
   "source": [
    "# check that there are no Nan values arising from merging the datasets\n",
    "tbl_consumer_demo_income[tbl_consumer_demo_income.isnull().any(axis=1)].head(5)"
   ]
  },
  {
   "cell_type": "code",
   "execution_count": 88,
   "id": "f4953ba0-5cd2-4204-9b42-3a1ae8aa7ddf",
   "metadata": {},
   "outputs": [],
   "source": [
    "tbl_consumer_demo_income.to_csv(r'../data/raw/addedInfo_transaction/tbl_consumer_demo_income.csv', index=False)"
   ]
  },
  {
   "cell_type": "code",
   "execution_count": null,
   "id": "7a949ab4-5350-44cb-92d5-f0d6d6281529",
   "metadata": {},
   "outputs": [],
   "source": []
  },
  {
   "cell_type": "code",
   "execution_count": null,
   "id": "48e78da4-845d-41f8-b7a4-63d22f9e7c36",
   "metadata": {},
   "outputs": [],
   "source": []
  },
  {
   "cell_type": "code",
   "execution_count": null,
   "id": "4905c2d1-8c00-449e-bae2-ec7ff7747f98",
   "metadata": {},
   "outputs": [],
   "source": []
  }
 ],
 "metadata": {
  "kernelspec": {
   "display_name": "Python 3 (ipykernel)",
   "language": "python",
   "name": "python3"
  },
  "language_info": {
   "codemirror_mode": {
    "name": "ipython",
    "version": 3
   },
   "file_extension": ".py",
   "mimetype": "text/x-python",
   "name": "python",
   "nbconvert_exporter": "python",
   "pygments_lexer": "ipython3",
   "version": "3.11.4"
  }
 },
 "nbformat": 4,
 "nbformat_minor": 5
}
