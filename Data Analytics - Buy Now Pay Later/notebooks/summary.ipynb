{
 "cells": [
  {
   "cell_type": "markdown",
   "metadata": {},
   "source": [
    "# Summary notebook:"
   ]
  },
  {
   "cell_type": "markdown",
   "metadata": {},
   "source": [
    "This notebook aims to present the key findings from the research in the following sections: \n",
    "1. dataset\n",
    "\n",
    "2. modelling\n",
    "\n",
    "3. implementation of the ranking system\n",
    "\n",
    "4. results and recommendations\n",
    "\n",
    "At the same time, it explains the methodology taken in each step, as well as the assumptions/limitations that have to be considered."
   ]
  },
  {
   "cell_type": "code",
   "execution_count": 8,
   "metadata": {},
   "outputs": [],
   "source": [
    "import pandas as pd\n",
    "from collections import Counter\n",
    "import matplotlib.pyplot as plt\n",
    "import numpy as np\n",
    "from IPython import display\n",
    "import plotly.graph_objects as go\n",
    "from pyspark.sql import SparkSession\n",
    "from pyspark.sql.functions import *\n",
    "from pyspark.sql.types import *"
   ]
  },
  {
   "cell_type": "code",
   "execution_count": 9,
   "metadata": {},
   "outputs": [],
   "source": [
    "# Create a spark session (which will run spark jobs)\n",
    "spark = (\n",
    "    SparkSession.builder.appName(\"MAST30034 Project 2\")\n",
    "    .config(\"spark.sql.repl.eagerEval.enabled\", True)\n",
    "    .config(\"spark.sql.parquet.cacheMetadata\", \"true\")\n",
    "    .config(\"spark.sql.session.timeZone\", \"Etc/UTC\")\n",
    "    .config('spark.driver.memory', '4g')\n",
    "    .config('spark.executor.memory', '2g')\n",
    "    .getOrCreate()\n",
    ")"
   ]
  },
  {
   "cell_type": "markdown",
   "metadata": {},
   "source": [
    "## 1. Datasets"
   ]
  },
  {
   "cell_type": "markdown",
   "metadata": {},
   "source": [
    "**Given datasets**\n",
    "\n",
    "There are four major types of business related datasets as follows that we were given.\n",
    "\n",
    "- transaction data \n",
    "\n",
    "    - around 14,000,000 instances of transaction were recorded, from Feb 2021 to Oct 2022\n",
    "     \n",
    "\n",
    "- merchant details\n",
    "\n",
    "    - around 4,000  merchants, from various industries with different take rate\n",
    "\n",
    "- consumer datails\n",
    "\n",
    "    - around 500,000 consumers. Postcode and gender were revealed.\n",
    "\n",
    "- fraud data\n",
    "\n",
    "    - around 4,000 instances for merchant fraud, 80,000 instances for consumer fraud with the fraud probabilities."
   ]
  },
  {
   "cell_type": "markdown",
   "metadata": {},
   "source": [
    "**External Dataset**\n",
    "\n",
    "Demographic and Income datasets were obtained from a census data published by Australian Bureau of Statistics. These data were provided in SA2 levels, where SA2 (Statistical Area Level 2)is a geographical areas defined by ABS for statistical purposes. \n",
    "\n",
    "Postcodes in consumer dataset were used to merge the SA2 data, while those correspondencies between postcodes and SA2 might be inaccurate to certain extent.\n",
    "\n",
    "- Demographic data\n",
    "\n",
    "    - 2021 and 2022 population and population density at each SA2.\n",
    "\n",
    "- Income data\n",
    "\n",
    "    - median age of earners in each SA2\n",
    "\n",
    "    - median and sum income of each SA2"
   ]
  },
  {
   "cell_type": "code",
   "execution_count": 10,
   "metadata": {},
   "outputs": [],
   "source": [
    "# Upon running ETL script, the data below is created which combines all the given datasets into trasaction dataset\n",
    "# (each row is an unique transaction, with all the details about the associaated merchant and consumer included)\n",
    "data = spark.read.parquet('../data/raw/transactions_data/')\n",
    "\n",
    "# merge with the external datasets\n",
    "consumer_external = spark.read.format(\"csv\") \\\n",
    "                .options(header=True, delimiter=\",\") \\\n",
    "                .load('../data/raw/addedInfo_transaction/tbl_consumer_demo_income.csv') \\\n",
    "                .withColumnRenamed(\"name\", \"consumer_name\")\n",
    "data = data.join(consumer_external, \n",
    "                 on=['consumer_id', 'consumer_name', 'address', 'state', 'postcode', 'gender'], \n",
    "                 how='inner')"
   ]
  },
  {
   "cell_type": "code",
   "execution_count": 11,
   "metadata": {},
   "outputs": [
    {
     "name": "stderr",
     "output_type": "stream",
     "text": [
      "[Stage 36:>                                                         (0 + 1) / 1]\r"
     ]
    },
    {
     "name": "stdout",
     "output_type": "stream",
     "text": [
      "+-----------+-------------+--------------------+-----+--------+------+------------+--------------+-------+-----------------+--------------------+-------------------+--------------------+--------------------+-------------+--------------------+------------------+-------------------+----------+--------------------+-------+-------+----------+----------+----+--------------+-----------+-----------------+-----------+-------------+-----------+\n",
      "|consumer_id|consumer_name|             address|state|postcode|gender|merchant_abn|order_datetime|user_id|     dollar_value|            order_id|consumer_fraud_prob|       merchant_name|                tags|merchant_desc|merchant_revenue_lvl|merchant_take_rate|merchant_fraud_prob|SA2_CODE21|          SA2_NAME21|2021ERP|2022ERP|ERPchange#|ERPchange%|Area|popDensity2022|num_earners|medianAge_earners| sum_income|median_income|mean_income|\n",
      "+-----------+-------------+--------------------+-----+--------+------+------------+--------------+-------+-----------------+--------------------+-------------------+--------------------+--------------------+-------------+--------------------+------------------+-------------------+----------+--------------------+-------+-------+----------+----------+----+--------------+-----------+-----------------+-----------+-------------+-----------+\n",
      "|    1000031| Pamela Olsen|024 Hood Summit S...|  NSW|    2177|Female| 86662713230|    2022-08-11|  12606|26.53316308361773|50ad85ec-9f43-4de...|               null|Vestibulum Accums...|[[watch, clock, a...|        watch|                   a|              6.41|               null| 127021509|Bonnyrigg Heights...|  17195|  17122|       -73|      -0.4| 5.2|        3299.9|     8023.0|             39.0|431787326.0|      49045.0|    53819.0|\n",
      "+-----------+-------------+--------------------+-----+--------+------+------------+--------------+-------+-----------------+--------------------+-------------------+--------------------+--------------------+-------------+--------------------+------------------+-------------------+----------+--------------------+-------+-------+----------+----------+----+--------------+-----------+-----------------+-----------+-------------+-----------+\n",
      "only showing top 1 row\n",
      "\n"
     ]
    },
    {
     "name": "stderr",
     "output_type": "stream",
     "text": [
      "                                                                                \r"
     ]
    }
   ],
   "source": [
    "# Example of one transaction after merging \n",
    "data.show(1)"
   ]
  },
  {
   "cell_type": "markdown",
   "metadata": {},
   "source": [
    "### 1. i) Preprocessing"
   ]
  },
  {
   "cell_type": "markdown",
   "metadata": {},
   "source": [
    "Now, there are some merchants who don't have any information about itself registered in the dataset, such as name, industry type, etc.\n",
    "\n",
    "Since those merchants with no information are probably not are clients, we removed those merchants from the dataset."
   ]
  },
  {
   "cell_type": "code",
   "execution_count": 12,
   "metadata": {},
   "outputs": [
    {
     "name": "stderr",
     "output_type": "stream",
     "text": [
      "[Stage 41:=========================================>               (8 + 3) / 11]\r"
     ]
    },
    {
     "name": "stdout",
     "output_type": "stream",
     "text": [
      "+-------------------------------+\n",
      "|# of merchants with information|\n",
      "+-------------------------------+\n",
      "|                           4026|\n",
      "+-------------------------------+\n",
      "\n"
     ]
    },
    {
     "name": "stderr",
     "output_type": "stream",
     "text": [
      "                                                                                \r"
     ]
    }
   ],
   "source": [
    "# print out number of merchant without any information\n",
    "filtered = data.filter(col('merchant_name').isNotNull())\n",
    "filtered.agg(*[countDistinct(col('merchant_abn')).alias('# of merchants with information')]).show()"
   ]
  },
  {
   "cell_type": "markdown",
   "metadata": {},
   "source": [
    "Consequently, we removed around 580,000 transactions from our dataset associated with those merchants without any information"
   ]
  },
  {
   "cell_type": "code",
   "execution_count": 13,
   "metadata": {},
   "outputs": [
    {
     "name": "stderr",
     "output_type": "stream",
     "text": [
      "[Stage 55:==================================>                      (9 + 6) / 15]\r"
     ]
    },
    {
     "name": "stdout",
     "output_type": "stream",
     "text": [
      "+-------------+\n",
      "|merchant_name|\n",
      "+-------------+\n",
      "|       580830|\n",
      "+-------------+\n",
      "\n"
     ]
    },
    {
     "name": "stderr",
     "output_type": "stream",
     "text": [
      "                                                                                \r"
     ]
    }
   ],
   "source": [
    "# print out number of transaction without any merchant information\n",
    "# (transactions made by the merchants shown above)\n",
    "columns_to_inspect = ['merchant_name']\n",
    "data.select([count(when(col(c).isNull(), c)).alias(c) for c in columns_to_inspect]).show()"
   ]
  },
  {
   "cell_type": "markdown",
   "metadata": {},
   "source": [
    "### 1. ii) Preliminary analysis with visualizations"
   ]
  },
  {
   "cell_type": "markdown",
   "metadata": {},
   "source": [
    "<div>\n",
    "<img src=\"../plots/numbers_of_transaction_in_date.png\" width=\"600\"/>\n",
    "</div>"
   ]
  },
  {
   "cell_type": "markdown",
   "metadata": {},
   "source": [
    "Observations:\n",
    "\n",
    "- evidence of annual trend -> prediction should be made on yearly basis\n",
    "\n",
    "- there is a spike in the number of transactions from 2021/11~2022/1, which corresponds to the holiday season"
   ]
  },
  {
   "cell_type": "markdown",
   "metadata": {},
   "source": [
    "<div>\n",
    "<img src=\"../plots/revenue_IndustryComparison.png\" width=\"600\"/>\n",
    "</div>"
   ]
  },
  {
   "cell_type": "markdown",
   "metadata": {},
   "source": [
    "Observation:\n",
    "- computer and tent industry is generating exceptionary high total revenue compared to other industry, meaning that a lot of money is being transferred in these two industries from consumers to the merchants\n",
    "\n",
    "- potential benefit for the BNPL company to approach to these industries in specific"
   ]
  },
  {
   "cell_type": "markdown",
   "metadata": {},
   "source": [
    "<div>\n",
    "<img src='../plots/merchantFraud_IndustryComparison.png' width=\"600\"/>\n",
    "</div>"
   ]
  },
  {
   "cell_type": "markdown",
   "metadata": {},
   "source": [
    "Observation:\n",
    "\n",
    "- antique and jewely are the two industries with most merchant fraudulent transactions\n",
    "\n",
    "- the two industries are both in luxury segments with high average revenue per transaction, therefore single fraud can cause big benefit to the cheater, while making big loss to the other side.\n",
    "\n",
    "- merchants from these industries should be treated with special attention"
   ]
  },
  {
   "cell_type": "markdown",
   "metadata": {},
   "source": [
    "## 2. Models"
   ]
  },
  {
   "cell_type": "markdown",
   "metadata": {},
   "source": [
    "**Approach taken:**\n",
    "- Forecast model\n",
    "    - predict revenue, number of transactions and number of consumers in 2023 for each merchant, based on 2021 and 2022 data\n",
    "\n",
    "    - missing months data were imputed using average and time series model (2021/1~2 and 2022/11~12)\n",
    "\n",
    "    - implemented with linear regression\n",
    "\n",
    "- Fraud Detection model\n",
    "    - classify whether the transaction is suspicious or not\n",
    "\n",
    "    - transactions with raud probability over 50% were labelled as 'suspicious' (true) to ensure enough sample size to train the model on\n",
    "    \n",
    "    - implemented with random forest classifier"
   ]
  },
  {
   "cell_type": "markdown",
   "metadata": {},
   "source": [
    "**Assumptions and Limitations:**\n",
    "- Assumptions:\n",
    "    - transactions follow similar patter every year\n",
    "\n",
    "    - Distribution of fraud dataset is representiive of the whole transaction dataset\n",
    "\n",
    "- Limitations:\n",
    "    - Limited amount of transaction and fraud data\n",
    "    \n",
    "    - Conversion between SA2 and postcode were approximated, and there external features are also an approximate"
   ]
  },
  {
   "cell_type": "markdown",
   "metadata": {},
   "source": [
    "<!-- **Steps for implementation:**\n",
    "1. Prepare training and test dataset for forecast and fraud detection model\n",
    "    \n",
    "    - Forecast model: missing months imputation\n",
    "\n",
    "    - Fraud Detection model: put labels on fraud dataset\n",
    "\n",
    "2. Train the models on the training dataset\n",
    "\n",
    "3. Test the models on the test dataset\n",
    "    \n",
    "    - Forecast model: use R^2, MSE, etc\n",
    "    \n",
    "    - Fraud Detection model: use Precision, Recall, F1, etc \n",
    "\n",
    "4. Make predictions\n",
    "\n",
    "    - Forecast model: predict 2023 data\n",
    "    \n",
    "    - Fraud Detection model: predict suspicious transactions among all the past transactions -->"
   ]
  },
  {
   "cell_type": "markdown",
   "metadata": {},
   "source": [
    "### 2. i) Forecast model: Linear model"
   ]
  },
  {
   "cell_type": "markdown",
   "metadata": {},
   "source": [
    "**Missing months imputation:**\n",
    "\n",
    "We need 2 years of historical data to train and test the linear regression model, but following 4 months are missing.\n",
    "\n",
    "- Jan, Feb of 2021: As there is no prior data, impute with average of following 3 months\n",
    "\n",
    "- Nov, Dec of 2022: Fitted ARIMA model with seasonal component on every merchant\n"
   ]
  },
  {
   "cell_type": "markdown",
   "metadata": {},
   "source": [
    "Revenue prediction example|User count prediction example|Transaction count prediction example\n",
    "-|-|-\n",
    "![Alt Text](../plots/rev_pred.png) | ![Alt Text](../plots/user_count_pred.png) | ![Alt Text](../plots/trans_count_pred.png)"
   ]
  },
  {
   "cell_type": "markdown",
   "metadata": {},
   "source": [
    "**Fitting linear model:**\n",
    "\n",
    "After imputing missing months, linear model was fit on the following features to predict 2023 data:\n",
    "- Previous year's revenue, user count, transaction count\n",
    "\n",
    "- Category of the merchant\n",
    "\n",
    "- Take rate\n",
    "\n",
    "- Demographic / Income features of the consumer base\n",
    "\n",
    "The performance of the model against the benchmark 1R model is shown below."
   ]
  },
  {
   "cell_type": "markdown",
   "metadata": {},
   "source": [
    "<center>\n",
    "<img src=\"../plots/Linear_model_perf.png\" width=\"400\" />\n",
    "</center>"
   ]
  },
  {
   "cell_type": "markdown",
   "metadata": {},
   "source": [
    "It shows that the linear model in blue color, is performing signifanctly better than the 1R bench mark in red color as it got smaller MAE."
   ]
  },
  {
   "cell_type": "markdown",
   "metadata": {},
   "source": [
    "### 2. ii) Fraud detection model: Random Forest Classifier\n",
    "\n",
    "**Model setup:**\n",
    "\n",
    "- The Fraud detection model is trained on 12 features, including transaction details, consumer details, merchant details, demographic and income data. \n",
    "\n",
    "- There are two types of fraud probability: consumer fraud and merchant fraud, which are assumed to be different in property. Therefore, two separate models were trained on each.\n",
    "\n",
    "- All transactions with fraud probability greater than 50% was labelled 'Fraudulent' (is_fraud=True) in order to ensure there is enough data to train the model on. "
   ]
  },
  {
   "cell_type": "markdown",
   "metadata": {},
   "source": [
    "**Results**\n",
    "\n",
    "After training the models on the fraud datasets, we have predicted labels for all transactions data. \n",
    "\n",
    "The following dataframe contains all the predictions with the following attributes: \n",
    "- order_id as the primary key, for every transaction\n",
    "- consumer_is_fraud and merchant_is_fraud, indicating the labels for is_fraud according to consumer and merchant models respectively."
   ]
  },
  {
   "cell_type": "code",
   "execution_count": 14,
   "metadata": {},
   "outputs": [
    {
     "data": {
      "text/html": [
       "<div>\n",
       "<style scoped>\n",
       "    .dataframe tbody tr th:only-of-type {\n",
       "        vertical-align: middle;\n",
       "    }\n",
       "\n",
       "    .dataframe tbody tr th {\n",
       "        vertical-align: top;\n",
       "    }\n",
       "\n",
       "    .dataframe thead th {\n",
       "        text-align: right;\n",
       "    }\n",
       "</style>\n",
       "<table border=\"1\" class=\"dataframe\">\n",
       "  <thead>\n",
       "    <tr style=\"text-align: right;\">\n",
       "      <th></th>\n",
       "      <th>order_id</th>\n",
       "      <th>consumer_is_fraud</th>\n",
       "      <th>merchant_is_fraud</th>\n",
       "    </tr>\n",
       "  </thead>\n",
       "  <tbody>\n",
       "    <tr>\n",
       "      <th>0</th>\n",
       "      <td>50ad85ec-9f43-4dee-b429-8a2f82fdc27f</td>\n",
       "      <td>False</td>\n",
       "      <td>False</td>\n",
       "    </tr>\n",
       "    <tr>\n",
       "      <th>1</th>\n",
       "      <td>d90fee6a-06e8-4b1a-8259-e756a04eb21c</td>\n",
       "      <td>False</td>\n",
       "      <td>False</td>\n",
       "    </tr>\n",
       "    <tr>\n",
       "      <th>2</th>\n",
       "      <td>9623bf34-90e1-41c6-a679-33102ef4a18c</td>\n",
       "      <td>False</td>\n",
       "      <td>False</td>\n",
       "    </tr>\n",
       "    <tr>\n",
       "      <th>3</th>\n",
       "      <td>765be87d-700f-43f3-8962-37e6f9a17558</td>\n",
       "      <td>False</td>\n",
       "      <td>False</td>\n",
       "    </tr>\n",
       "    <tr>\n",
       "      <th>4</th>\n",
       "      <td>715a2510-5798-4c35-bcac-4fe84fcfdd45</td>\n",
       "      <td>False</td>\n",
       "      <td>False</td>\n",
       "    </tr>\n",
       "  </tbody>\n",
       "</table>\n",
       "</div>"
      ],
      "text/plain": [
       "                               order_id  consumer_is_fraud  merchant_is_fraud\n",
       "0  50ad85ec-9f43-4dee-b429-8a2f82fdc27f              False              False\n",
       "1  d90fee6a-06e8-4b1a-8259-e756a04eb21c              False              False\n",
       "2  9623bf34-90e1-41c6-a679-33102ef4a18c              False              False\n",
       "3  765be87d-700f-43f3-8962-37e6f9a17558              False              False\n",
       "4  715a2510-5798-4c35-bcac-4fe84fcfdd45              False              False"
      ]
     },
     "execution_count": 14,
     "metadata": {},
     "output_type": "execute_result"
    }
   ],
   "source": [
    "# printing some examples of fraud predictions\n",
    "fraud_prediction = pd.read_parquet('../data/raw/transactions_fraud')\n",
    "fraud_prediction.head(5)"
   ]
  },
  {
   "cell_type": "code",
   "execution_count": 15,
   "metadata": {},
   "outputs": [
    {
     "name": "stdout",
     "output_type": "stream",
     "text": [
      "Consumer Fraud model:\n",
      "3209 instances labelled as suspicious and 13610452 labelled otherwise.\n",
      "Proportion of fraudulent data: 0.02%\n",
      "\n",
      "Merchant Fraud model:\n",
      "510611 instances labelled as suspicious and 13103050 labelled otherwise.\n",
      "Proportion of fraudulent data: 3.75%\n"
     ]
    }
   ],
   "source": [
    "# print the proportion of transactions labelled as suspicious by consumer fraud model, out of the entire transactions\n",
    "sus_count_c = (fraud_prediction['consumer_is_fraud'] == True).sum()\n",
    "print('Consumer Fraud model:')\n",
    "print(f'{sus_count_c} instances labelled as suspicious and {fraud_prediction.shape[0]-sus_count_c} labelled otherwise.')\n",
    "print(f'Proportion of fraudulent data: {np.round(100*sus_count_c/(fraud_prediction.shape[0]), 2)}%\\n')\n",
    "\n",
    "# print the proportion of transactions labelled as suspicious by merchant fraud model, out of the entire transactions\n",
    "sus_count_m = (fraud_prediction['merchant_is_fraud'] == True).sum()\n",
    "print('Merchant Fraud model:')\n",
    "print(f'{sus_count_m} instances labelled as suspicious and {fraud_prediction.shape[0]-sus_count_m} labelled otherwise.')\n",
    "print(f'Proportion of fraudulent data: {np.round(100*sus_count_m/(fraud_prediction.shape[0]), 2)}%')"
   ]
  },
  {
   "cell_type": "markdown",
   "metadata": {},
   "source": [
    "We have conducted a cross-validation to evaluate the model performance on the fraud data. Although the data is imbalanced, the performance of the two models are very high."
   ]
  },
  {
   "cell_type": "code",
   "execution_count": 16,
   "metadata": {},
   "outputs": [
    {
     "data": {
      "application/vnd.plotly.v1+json": {
       "config": {
        "plotlyServerURL": "https://plot.ly"
       },
       "data": [
        {
         "fill": "toself",
         "name": "Merchant Fraud Detection Performance",
         "r": [
          0.9913,
          0.9716,
          0.7971,
          0.8279
         ],
         "theta": [
          "accuracy",
          "precision",
          "recall",
          "f1-score"
         ],
         "type": "scatterpolar"
        },
        {
         "fill": "toself",
         "name": "Consumer Fraud Detection Performance",
         "r": [
          0.9896,
          0.9452,
          0.6564,
          0.7322
         ],
         "theta": [
          "accuracy",
          "precision",
          "recall",
          "f1-score"
         ],
         "type": "scatterpolar"
        }
       ],
       "layout": {
        "polar": {
         "radialaxis": {
          "range": [
           0,
           1
          ],
          "visible": true
         }
        },
        "showlegend": true,
        "template": {
         "data": {
          "bar": [
           {
            "error_x": {
             "color": "#2a3f5f"
            },
            "error_y": {
             "color": "#2a3f5f"
            },
            "marker": {
             "line": {
              "color": "#E5ECF6",
              "width": 0.5
             },
             "pattern": {
              "fillmode": "overlay",
              "size": 10,
              "solidity": 0.2
             }
            },
            "type": "bar"
           }
          ],
          "barpolar": [
           {
            "marker": {
             "line": {
              "color": "#E5ECF6",
              "width": 0.5
             },
             "pattern": {
              "fillmode": "overlay",
              "size": 10,
              "solidity": 0.2
             }
            },
            "type": "barpolar"
           }
          ],
          "carpet": [
           {
            "aaxis": {
             "endlinecolor": "#2a3f5f",
             "gridcolor": "white",
             "linecolor": "white",
             "minorgridcolor": "white",
             "startlinecolor": "#2a3f5f"
            },
            "baxis": {
             "endlinecolor": "#2a3f5f",
             "gridcolor": "white",
             "linecolor": "white",
             "minorgridcolor": "white",
             "startlinecolor": "#2a3f5f"
            },
            "type": "carpet"
           }
          ],
          "choropleth": [
           {
            "colorbar": {
             "outlinewidth": 0,
             "ticks": ""
            },
            "type": "choropleth"
           }
          ],
          "contour": [
           {
            "colorbar": {
             "outlinewidth": 0,
             "ticks": ""
            },
            "colorscale": [
             [
              0,
              "#0d0887"
             ],
             [
              0.1111111111111111,
              "#46039f"
             ],
             [
              0.2222222222222222,
              "#7201a8"
             ],
             [
              0.3333333333333333,
              "#9c179e"
             ],
             [
              0.4444444444444444,
              "#bd3786"
             ],
             [
              0.5555555555555556,
              "#d8576b"
             ],
             [
              0.6666666666666666,
              "#ed7953"
             ],
             [
              0.7777777777777778,
              "#fb9f3a"
             ],
             [
              0.8888888888888888,
              "#fdca26"
             ],
             [
              1,
              "#f0f921"
             ]
            ],
            "type": "contour"
           }
          ],
          "contourcarpet": [
           {
            "colorbar": {
             "outlinewidth": 0,
             "ticks": ""
            },
            "type": "contourcarpet"
           }
          ],
          "heatmap": [
           {
            "colorbar": {
             "outlinewidth": 0,
             "ticks": ""
            },
            "colorscale": [
             [
              0,
              "#0d0887"
             ],
             [
              0.1111111111111111,
              "#46039f"
             ],
             [
              0.2222222222222222,
              "#7201a8"
             ],
             [
              0.3333333333333333,
              "#9c179e"
             ],
             [
              0.4444444444444444,
              "#bd3786"
             ],
             [
              0.5555555555555556,
              "#d8576b"
             ],
             [
              0.6666666666666666,
              "#ed7953"
             ],
             [
              0.7777777777777778,
              "#fb9f3a"
             ],
             [
              0.8888888888888888,
              "#fdca26"
             ],
             [
              1,
              "#f0f921"
             ]
            ],
            "type": "heatmap"
           }
          ],
          "heatmapgl": [
           {
            "colorbar": {
             "outlinewidth": 0,
             "ticks": ""
            },
            "colorscale": [
             [
              0,
              "#0d0887"
             ],
             [
              0.1111111111111111,
              "#46039f"
             ],
             [
              0.2222222222222222,
              "#7201a8"
             ],
             [
              0.3333333333333333,
              "#9c179e"
             ],
             [
              0.4444444444444444,
              "#bd3786"
             ],
             [
              0.5555555555555556,
              "#d8576b"
             ],
             [
              0.6666666666666666,
              "#ed7953"
             ],
             [
              0.7777777777777778,
              "#fb9f3a"
             ],
             [
              0.8888888888888888,
              "#fdca26"
             ],
             [
              1,
              "#f0f921"
             ]
            ],
            "type": "heatmapgl"
           }
          ],
          "histogram": [
           {
            "marker": {
             "pattern": {
              "fillmode": "overlay",
              "size": 10,
              "solidity": 0.2
             }
            },
            "type": "histogram"
           }
          ],
          "histogram2d": [
           {
            "colorbar": {
             "outlinewidth": 0,
             "ticks": ""
            },
            "colorscale": [
             [
              0,
              "#0d0887"
             ],
             [
              0.1111111111111111,
              "#46039f"
             ],
             [
              0.2222222222222222,
              "#7201a8"
             ],
             [
              0.3333333333333333,
              "#9c179e"
             ],
             [
              0.4444444444444444,
              "#bd3786"
             ],
             [
              0.5555555555555556,
              "#d8576b"
             ],
             [
              0.6666666666666666,
              "#ed7953"
             ],
             [
              0.7777777777777778,
              "#fb9f3a"
             ],
             [
              0.8888888888888888,
              "#fdca26"
             ],
             [
              1,
              "#f0f921"
             ]
            ],
            "type": "histogram2d"
           }
          ],
          "histogram2dcontour": [
           {
            "colorbar": {
             "outlinewidth": 0,
             "ticks": ""
            },
            "colorscale": [
             [
              0,
              "#0d0887"
             ],
             [
              0.1111111111111111,
              "#46039f"
             ],
             [
              0.2222222222222222,
              "#7201a8"
             ],
             [
              0.3333333333333333,
              "#9c179e"
             ],
             [
              0.4444444444444444,
              "#bd3786"
             ],
             [
              0.5555555555555556,
              "#d8576b"
             ],
             [
              0.6666666666666666,
              "#ed7953"
             ],
             [
              0.7777777777777778,
              "#fb9f3a"
             ],
             [
              0.8888888888888888,
              "#fdca26"
             ],
             [
              1,
              "#f0f921"
             ]
            ],
            "type": "histogram2dcontour"
           }
          ],
          "mesh3d": [
           {
            "colorbar": {
             "outlinewidth": 0,
             "ticks": ""
            },
            "type": "mesh3d"
           }
          ],
          "parcoords": [
           {
            "line": {
             "colorbar": {
              "outlinewidth": 0,
              "ticks": ""
             }
            },
            "type": "parcoords"
           }
          ],
          "pie": [
           {
            "automargin": true,
            "type": "pie"
           }
          ],
          "scatter": [
           {
            "fillpattern": {
             "fillmode": "overlay",
             "size": 10,
             "solidity": 0.2
            },
            "type": "scatter"
           }
          ],
          "scatter3d": [
           {
            "line": {
             "colorbar": {
              "outlinewidth": 0,
              "ticks": ""
             }
            },
            "marker": {
             "colorbar": {
              "outlinewidth": 0,
              "ticks": ""
             }
            },
            "type": "scatter3d"
           }
          ],
          "scattercarpet": [
           {
            "marker": {
             "colorbar": {
              "outlinewidth": 0,
              "ticks": ""
             }
            },
            "type": "scattercarpet"
           }
          ],
          "scattergeo": [
           {
            "marker": {
             "colorbar": {
              "outlinewidth": 0,
              "ticks": ""
             }
            },
            "type": "scattergeo"
           }
          ],
          "scattergl": [
           {
            "marker": {
             "colorbar": {
              "outlinewidth": 0,
              "ticks": ""
             }
            },
            "type": "scattergl"
           }
          ],
          "scattermapbox": [
           {
            "marker": {
             "colorbar": {
              "outlinewidth": 0,
              "ticks": ""
             }
            },
            "type": "scattermapbox"
           }
          ],
          "scatterpolar": [
           {
            "marker": {
             "colorbar": {
              "outlinewidth": 0,
              "ticks": ""
             }
            },
            "type": "scatterpolar"
           }
          ],
          "scatterpolargl": [
           {
            "marker": {
             "colorbar": {
              "outlinewidth": 0,
              "ticks": ""
             }
            },
            "type": "scatterpolargl"
           }
          ],
          "scatterternary": [
           {
            "marker": {
             "colorbar": {
              "outlinewidth": 0,
              "ticks": ""
             }
            },
            "type": "scatterternary"
           }
          ],
          "surface": [
           {
            "colorbar": {
             "outlinewidth": 0,
             "ticks": ""
            },
            "colorscale": [
             [
              0,
              "#0d0887"
             ],
             [
              0.1111111111111111,
              "#46039f"
             ],
             [
              0.2222222222222222,
              "#7201a8"
             ],
             [
              0.3333333333333333,
              "#9c179e"
             ],
             [
              0.4444444444444444,
              "#bd3786"
             ],
             [
              0.5555555555555556,
              "#d8576b"
             ],
             [
              0.6666666666666666,
              "#ed7953"
             ],
             [
              0.7777777777777778,
              "#fb9f3a"
             ],
             [
              0.8888888888888888,
              "#fdca26"
             ],
             [
              1,
              "#f0f921"
             ]
            ],
            "type": "surface"
           }
          ],
          "table": [
           {
            "cells": {
             "fill": {
              "color": "#EBF0F8"
             },
             "line": {
              "color": "white"
             }
            },
            "header": {
             "fill": {
              "color": "#C8D4E3"
             },
             "line": {
              "color": "white"
             }
            },
            "type": "table"
           }
          ]
         },
         "layout": {
          "annotationdefaults": {
           "arrowcolor": "#2a3f5f",
           "arrowhead": 0,
           "arrowwidth": 1
          },
          "autotypenumbers": "strict",
          "coloraxis": {
           "colorbar": {
            "outlinewidth": 0,
            "ticks": ""
           }
          },
          "colorscale": {
           "diverging": [
            [
             0,
             "#8e0152"
            ],
            [
             0.1,
             "#c51b7d"
            ],
            [
             0.2,
             "#de77ae"
            ],
            [
             0.3,
             "#f1b6da"
            ],
            [
             0.4,
             "#fde0ef"
            ],
            [
             0.5,
             "#f7f7f7"
            ],
            [
             0.6,
             "#e6f5d0"
            ],
            [
             0.7,
             "#b8e186"
            ],
            [
             0.8,
             "#7fbc41"
            ],
            [
             0.9,
             "#4d9221"
            ],
            [
             1,
             "#276419"
            ]
           ],
           "sequential": [
            [
             0,
             "#0d0887"
            ],
            [
             0.1111111111111111,
             "#46039f"
            ],
            [
             0.2222222222222222,
             "#7201a8"
            ],
            [
             0.3333333333333333,
             "#9c179e"
            ],
            [
             0.4444444444444444,
             "#bd3786"
            ],
            [
             0.5555555555555556,
             "#d8576b"
            ],
            [
             0.6666666666666666,
             "#ed7953"
            ],
            [
             0.7777777777777778,
             "#fb9f3a"
            ],
            [
             0.8888888888888888,
             "#fdca26"
            ],
            [
             1,
             "#f0f921"
            ]
           ],
           "sequentialminus": [
            [
             0,
             "#0d0887"
            ],
            [
             0.1111111111111111,
             "#46039f"
            ],
            [
             0.2222222222222222,
             "#7201a8"
            ],
            [
             0.3333333333333333,
             "#9c179e"
            ],
            [
             0.4444444444444444,
             "#bd3786"
            ],
            [
             0.5555555555555556,
             "#d8576b"
            ],
            [
             0.6666666666666666,
             "#ed7953"
            ],
            [
             0.7777777777777778,
             "#fb9f3a"
            ],
            [
             0.8888888888888888,
             "#fdca26"
            ],
            [
             1,
             "#f0f921"
            ]
           ]
          },
          "colorway": [
           "#636efa",
           "#EF553B",
           "#00cc96",
           "#ab63fa",
           "#FFA15A",
           "#19d3f3",
           "#FF6692",
           "#B6E880",
           "#FF97FF",
           "#FECB52"
          ],
          "font": {
           "color": "#2a3f5f"
          },
          "geo": {
           "bgcolor": "white",
           "lakecolor": "white",
           "landcolor": "#E5ECF6",
           "showlakes": true,
           "showland": true,
           "subunitcolor": "white"
          },
          "hoverlabel": {
           "align": "left"
          },
          "hovermode": "closest",
          "mapbox": {
           "style": "light"
          },
          "paper_bgcolor": "white",
          "plot_bgcolor": "#E5ECF6",
          "polar": {
           "angularaxis": {
            "gridcolor": "white",
            "linecolor": "white",
            "ticks": ""
           },
           "bgcolor": "#E5ECF6",
           "radialaxis": {
            "gridcolor": "white",
            "linecolor": "white",
            "ticks": ""
           }
          },
          "scene": {
           "xaxis": {
            "backgroundcolor": "#E5ECF6",
            "gridcolor": "white",
            "gridwidth": 2,
            "linecolor": "white",
            "showbackground": true,
            "ticks": "",
            "zerolinecolor": "white"
           },
           "yaxis": {
            "backgroundcolor": "#E5ECF6",
            "gridcolor": "white",
            "gridwidth": 2,
            "linecolor": "white",
            "showbackground": true,
            "ticks": "",
            "zerolinecolor": "white"
           },
           "zaxis": {
            "backgroundcolor": "#E5ECF6",
            "gridcolor": "white",
            "gridwidth": 2,
            "linecolor": "white",
            "showbackground": true,
            "ticks": "",
            "zerolinecolor": "white"
           }
          },
          "shapedefaults": {
           "line": {
            "color": "#2a3f5f"
           }
          },
          "ternary": {
           "aaxis": {
            "gridcolor": "white",
            "linecolor": "white",
            "ticks": ""
           },
           "baxis": {
            "gridcolor": "white",
            "linecolor": "white",
            "ticks": ""
           },
           "bgcolor": "#E5ECF6",
           "caxis": {
            "gridcolor": "white",
            "linecolor": "white",
            "ticks": ""
           }
          },
          "title": {
           "x": 0.05
          },
          "xaxis": {
           "automargin": true,
           "gridcolor": "white",
           "linecolor": "white",
           "ticks": "",
           "title": {
            "standoff": 15
           },
           "zerolinecolor": "white",
           "zerolinewidth": 2
          },
          "yaxis": {
           "automargin": true,
           "gridcolor": "white",
           "linecolor": "white",
           "ticks": "",
           "title": {
            "standoff": 15
           },
           "zerolinecolor": "white",
           "zerolinewidth": 2
          }
         }
        }
       }
      }
     },
     "metadata": {},
     "output_type": "display_data"
    }
   ],
   "source": [
    "# plot the model performances for consumer fraud detection and merchant fraud detection\n",
    "categories = ['accuracy', 'precision', 'recall', 'f1-score']\n",
    "\n",
    "fig = go.Figure()\n",
    "\n",
    "fig.add_trace(go.Scatterpolar(\n",
    "      r=[0.9913, 0.9716, 0.7971, 0.8279],\n",
    "      theta=categories,\n",
    "      fill='toself',\n",
    "      name='Merchant Fraud Detection Performance'\n",
    "))\n",
    "fig.add_trace(go.Scatterpolar(\n",
    "      r=[0.9896, 0.9452, 0.6564, 0.7322],\n",
    "      theta=categories,\n",
    "      fill='toself',\n",
    "      name='Consumer Fraud Detection Performance'\n",
    "))\n",
    "fig.update_layout(\n",
    "  polar=dict(\n",
    "    radialaxis=dict(\n",
    "      visible=True,\n",
    "      range=[0, 1]\n",
    "    )),\n",
    "  showlegend=True\n",
    ")\n",
    "fig.show()"
   ]
  },
  {
   "cell_type": "markdown",
   "metadata": {},
   "source": [
    "| Metrics | Merchant fraud detection | Consumer fraud detection |\n",
    "| --- | --- | --- |\n",
    "| Precision | 0.97 | 0.94 |\n",
    "| Recall | 0.79 | 0.64 |"
   ]
  },
  {
   "cell_type": "markdown",
   "metadata": {},
   "source": [
    "We can see that the merchant model outperforms the consumer fraud model. \n",
    "\n",
    "- Their accuracies are very high, but not relevant becuase the data is very imbalanced.\n",
    "\n",
    "- Notice that precision is very high for both the models, above 90%. Precision is the most important metric in our case because we want to minimize the false-positives (i.e. real transactions being labelled as fraudulent), to avoid false accusation (can significantly undermine our trust from our client).\n",
    "\n",
    "- recall is also important to avoid false negative (i.e. fradulent transaction labelled as benign) and to avoid the loss to our company. Improving this recall score is one of the future area of research"
   ]
  },
  {
   "cell_type": "markdown",
   "metadata": {},
   "source": [
    "## 3. Ranking system"
   ]
  },
  {
   "cell_type": "markdown",
   "metadata": {},
   "source": [
    "**Approach taken:** Weighted sum method"
   ]
  },
  {
   "cell_type": "markdown",
   "metadata": {},
   "source": [
    "**Used heursitics and their relative weights:**\n",
    "- Predicted gain: 0.4\n",
    "\n",
    "- Predicted number of consmers: 0.25\n",
    "\n",
    "- Predicted number of transactions: 0.25\n",
    "\n",
    "- Reliability of the merchant: 0.05\n",
    "\n",
    "- Reliability of consumer base: 0.05"
   ]
  },
  {
   "cell_type": "markdown",
   "metadata": {},
   "source": [
    "**Definitions:**\n",
    "- Predicted gain = predicted revenue * take rate\n",
    "\n",
    "- Reliability of the merchant = 1 - (number of suspicious transaction by the merchant) / (total number of transaction made by the merchant)\n",
    "\n",
    "- Reliability of consumer base = 1 - (number of suspicious transaction by the consumer base) / (total number of transaction made by the consumer base)"
   ]
  },
  {
   "cell_type": "markdown",
   "metadata": {},
   "source": [
    "<!-- **Steps for implementation:**\n",
    "1. Normalize each feature\n",
    "\n",
    "2. Get weighted sum of features values for each merchant, accordingly as above\n",
    "\n",
    "3. Sort the merchants by the weighted sum -->"
   ]
  },
  {
   "cell_type": "code",
   "execution_count": 17,
   "metadata": {},
   "outputs": [],
   "source": [
    "merchants_preSorted = pd.read_csv(\"../data/curated/merchants_preSorted\")"
   ]
  },
  {
   "cell_type": "code",
   "execution_count": 18,
   "metadata": {},
   "outputs": [],
   "source": [
    "# define feature weights\n",
    "default_weights = {\"pred_gain\": 0.4, \"pred_num_consumer\": 0.25, \"pred_num_trans\": 0.25, \"merchant_reliability\": 0.05, \"consumer_reliability\": 0.05}"
   ]
  },
  {
   "cell_type": "code",
   "execution_count": 19,
   "metadata": {},
   "outputs": [],
   "source": [
    "# step 1: normalize each feature\n",
    "criteria = default_weights.keys()\n",
    "merchants_subset = merchants_preSorted[criteria]\n",
    "normalized_df = (merchants_subset - merchants_subset.min()) / (merchants_subset.max() - merchants_subset.min())"
   ]
  },
  {
   "cell_type": "code",
   "execution_count": 20,
   "metadata": {},
   "outputs": [],
   "source": [
    "# step 2: get weighted sum of feature values for each merchant\n",
    "default_weighted_sum = normalized_df.apply(lambda col: col * default_weights[col.name]).sum(axis=1)"
   ]
  },
  {
   "cell_type": "code",
   "execution_count": 21,
   "metadata": {},
   "outputs": [],
   "source": [
    "# step3: sort the merchants by the weighted sum\n",
    "merchants_preSorted[\"default_weighted_sum\"] = default_weighted_sum\n",
    "merchants_sorted = merchants_preSorted.sort_values(by='default_weighted_sum', ascending=False)\n",
    "merchants_sorted = merchants_sorted.reset_index(drop=True)\n",
    "\n",
    "# put another column that indicates ranking of each merchant\n",
    "merchants_sorted[\"rank\"] = merchants_sorted.index+1"
   ]
  },
  {
   "cell_type": "markdown",
   "metadata": {},
   "source": [
    "## 4. Result and Recommendations"
   ]
  },
  {
   "cell_type": "code",
   "execution_count": 22,
   "metadata": {},
   "outputs": [],
   "source": [
    "merchants_sorted = pd.read_csv(\"../data/curated/merchants_sorted.csv\")"
   ]
  },
  {
   "cell_type": "markdown",
   "metadata": {},
   "source": [
    "### Top 10 out of 100 recommended merchants (across the industries)"
   ]
  },
  {
   "cell_type": "markdown",
   "metadata": {},
   "source": [
    "- observe that most of the merchants in top 10 are from recreational sector\n",
    "\n",
    "- top 3 merchants are: Leo In Consulting, Lacus Consulting, Est Nunc Consulting"
   ]
  },
  {
   "cell_type": "code",
   "execution_count": 23,
   "metadata": {},
   "outputs": [
    {
     "data": {
      "text/html": [
       "<div>\n",
       "<style scoped>\n",
       "    .dataframe tbody tr th:only-of-type {\n",
       "        vertical-align: middle;\n",
       "    }\n",
       "\n",
       "    .dataframe tbody tr th {\n",
       "        vertical-align: top;\n",
       "    }\n",
       "\n",
       "    .dataframe thead th {\n",
       "        text-align: right;\n",
       "    }\n",
       "</style>\n",
       "<table border=\"1\" class=\"dataframe\">\n",
       "  <thead>\n",
       "    <tr style=\"text-align: right;\">\n",
       "      <th></th>\n",
       "      <th>merchant_name</th>\n",
       "      <th>category</th>\n",
       "      <th>segment</th>\n",
       "      <th>pred_num_trans</th>\n",
       "      <th>pred_gain</th>\n",
       "      <th>pred_num_consumer</th>\n",
       "      <th>merchant_reliability</th>\n",
       "      <th>consumer_reliability</th>\n",
       "      <th>default_weighted_sum</th>\n",
       "      <th>rank</th>\n",
       "    </tr>\n",
       "  </thead>\n",
       "  <tbody>\n",
       "    <tr>\n",
       "      <th>0</th>\n",
       "      <td>Leo In Consulting</td>\n",
       "      <td>watch</td>\n",
       "      <td>luxury</td>\n",
       "      <td>173536.0</td>\n",
       "      <td>390640.318996</td>\n",
       "      <td>130107.0</td>\n",
       "      <td>0.985228</td>\n",
       "      <td>0.999791</td>\n",
       "      <td>0.953038</td>\n",
       "      <td>1</td>\n",
       "    </tr>\n",
       "    <tr>\n",
       "      <th>1</th>\n",
       "      <td>Lacus Consulting</td>\n",
       "      <td>gift</td>\n",
       "      <td>recreational</td>\n",
       "      <td>145209.0</td>\n",
       "      <td>372704.465598</td>\n",
       "      <td>113733.0</td>\n",
       "      <td>0.985503</td>\n",
       "      <td>0.999825</td>\n",
       "      <td>0.867038</td>\n",
       "      <td>2</td>\n",
       "    </tr>\n",
       "    <tr>\n",
       "      <th>2</th>\n",
       "      <td>Est Nunc Consulting</td>\n",
       "      <td>tent</td>\n",
       "      <td>recreational</td>\n",
       "      <td>137610.0</td>\n",
       "      <td>340722.911863</td>\n",
       "      <td>108809.0</td>\n",
       "      <td>0.983872</td>\n",
       "      <td>0.999810</td>\n",
       "      <td>0.816735</td>\n",
       "      <td>3</td>\n",
       "    </tr>\n",
       "    <tr>\n",
       "      <th>3</th>\n",
       "      <td>Non Vestibulum Industries</td>\n",
       "      <td>tent</td>\n",
       "      <td>recreational</td>\n",
       "      <td>157091.0</td>\n",
       "      <td>264025.573710</td>\n",
       "      <td>120701.0</td>\n",
       "      <td>0.981982</td>\n",
       "      <td>0.999778</td>\n",
       "      <td>0.791217</td>\n",
       "      <td>4</td>\n",
       "    </tr>\n",
       "    <tr>\n",
       "      <th>4</th>\n",
       "      <td>Erat Vitae LLP</td>\n",
       "      <td>florists</td>\n",
       "      <td>recreational</td>\n",
       "      <td>183854.0</td>\n",
       "      <td>162804.614803</td>\n",
       "      <td>135426.0</td>\n",
       "      <td>0.991085</td>\n",
       "      <td>0.999827</td>\n",
       "      <td>0.757767</td>\n",
       "      <td>5</td>\n",
       "    </tr>\n",
       "    <tr>\n",
       "      <th>5</th>\n",
       "      <td>Lorem Ipsum Sodales Industries</td>\n",
       "      <td>florists</td>\n",
       "      <td>recreational</td>\n",
       "      <td>127566.0</td>\n",
       "      <td>257363.423451</td>\n",
       "      <td>102536.0</td>\n",
       "      <td>0.981246</td>\n",
       "      <td>0.999806</td>\n",
       "      <td>0.711089</td>\n",
       "      <td>6</td>\n",
       "    </tr>\n",
       "    <tr>\n",
       "      <th>6</th>\n",
       "      <td>Pede Nonummy Corp.</td>\n",
       "      <td>tent</td>\n",
       "      <td>recreational</td>\n",
       "      <td>165578.0</td>\n",
       "      <td>137339.140382</td>\n",
       "      <td>125632.0</td>\n",
       "      <td>0.991058</td>\n",
       "      <td>0.999831</td>\n",
       "      <td>0.690313</td>\n",
       "      <td>7</td>\n",
       "    </tr>\n",
       "    <tr>\n",
       "      <th>7</th>\n",
       "      <td>Mauris Non Institute</td>\n",
       "      <td>cable</td>\n",
       "      <td>IT</td>\n",
       "      <td>76224.0</td>\n",
       "      <td>363062.301237</td>\n",
       "      <td>66851.0</td>\n",
       "      <td>0.983958</td>\n",
       "      <td>0.999834</td>\n",
       "      <td>0.677335</td>\n",
       "      <td>8</td>\n",
       "    </tr>\n",
       "    <tr>\n",
       "      <th>8</th>\n",
       "      <td>Lobortis Ultrices Company</td>\n",
       "      <td>music</td>\n",
       "      <td>recreational</td>\n",
       "      <td>71875.0</td>\n",
       "      <td>354104.129551</td>\n",
       "      <td>63557.0</td>\n",
       "      <td>0.984710</td>\n",
       "      <td>0.999789</td>\n",
       "      <td>0.656749</td>\n",
       "      <td>9</td>\n",
       "    </tr>\n",
       "    <tr>\n",
       "      <th>9</th>\n",
       "      <td>Orci In Consequat Corporation</td>\n",
       "      <td>gift</td>\n",
       "      <td>recreational</td>\n",
       "      <td>54456.0</td>\n",
       "      <td>394349.647795</td>\n",
       "      <td>49569.0</td>\n",
       "      <td>0.984868</td>\n",
       "      <td>0.999872</td>\n",
       "      <td>0.646013</td>\n",
       "      <td>10</td>\n",
       "    </tr>\n",
       "  </tbody>\n",
       "</table>\n",
       "</div>"
      ],
      "text/plain": [
       "                    merchant_name  category       segment  pred_num_trans  \\\n",
       "0               Leo In Consulting     watch        luxury        173536.0   \n",
       "1                Lacus Consulting      gift  recreational        145209.0   \n",
       "2             Est Nunc Consulting      tent  recreational        137610.0   \n",
       "3       Non Vestibulum Industries      tent  recreational        157091.0   \n",
       "4                  Erat Vitae LLP  florists  recreational        183854.0   \n",
       "5  Lorem Ipsum Sodales Industries  florists  recreational        127566.0   \n",
       "6              Pede Nonummy Corp.      tent  recreational        165578.0   \n",
       "7            Mauris Non Institute     cable            IT         76224.0   \n",
       "8       Lobortis Ultrices Company     music  recreational         71875.0   \n",
       "9   Orci In Consequat Corporation      gift  recreational         54456.0   \n",
       "\n",
       "       pred_gain  pred_num_consumer  merchant_reliability  \\\n",
       "0  390640.318996           130107.0              0.985228   \n",
       "1  372704.465598           113733.0              0.985503   \n",
       "2  340722.911863           108809.0              0.983872   \n",
       "3  264025.573710           120701.0              0.981982   \n",
       "4  162804.614803           135426.0              0.991085   \n",
       "5  257363.423451           102536.0              0.981246   \n",
       "6  137339.140382           125632.0              0.991058   \n",
       "7  363062.301237            66851.0              0.983958   \n",
       "8  354104.129551            63557.0              0.984710   \n",
       "9  394349.647795            49569.0              0.984868   \n",
       "\n",
       "   consumer_reliability  default_weighted_sum  rank  \n",
       "0              0.999791              0.953038     1  \n",
       "1              0.999825              0.867038     2  \n",
       "2              0.999810              0.816735     3  \n",
       "3              0.999778              0.791217     4  \n",
       "4              0.999827              0.757767     5  \n",
       "5              0.999806              0.711089     6  \n",
       "6              0.999831              0.690313     7  \n",
       "7              0.999834              0.677335     8  \n",
       "8              0.999789              0.656749     9  \n",
       "9              0.999872              0.646013    10  "
      ]
     },
     "execution_count": 23,
     "metadata": {},
     "output_type": "execute_result"
    }
   ],
   "source": [
    "# top 100 merchants\n",
    "top100_merchants = merchants_sorted.head(100)\n",
    "top100_merchants.head(10)"
   ]
  },
  {
   "cell_type": "markdown",
   "metadata": {},
   "source": [
    "### Top 10 merchants in Luxury segment"
   ]
  },
  {
   "cell_type": "code",
   "execution_count": 24,
   "metadata": {},
   "outputs": [
    {
     "data": {
      "text/html": [
       "<div>\n",
       "<style scoped>\n",
       "    .dataframe tbody tr th:only-of-type {\n",
       "        vertical-align: middle;\n",
       "    }\n",
       "\n",
       "    .dataframe tbody tr th {\n",
       "        vertical-align: top;\n",
       "    }\n",
       "\n",
       "    .dataframe thead th {\n",
       "        text-align: right;\n",
       "    }\n",
       "</style>\n",
       "<table border=\"1\" class=\"dataframe\">\n",
       "  <thead>\n",
       "    <tr style=\"text-align: right;\">\n",
       "      <th></th>\n",
       "      <th>merchant_name</th>\n",
       "      <th>category</th>\n",
       "      <th>segment</th>\n",
       "      <th>pred_num_trans</th>\n",
       "      <th>pred_gain</th>\n",
       "      <th>pred_num_consumer</th>\n",
       "      <th>merchant_reliability</th>\n",
       "      <th>consumer_reliability</th>\n",
       "      <th>default_weighted_sum</th>\n",
       "      <th>rank</th>\n",
       "    </tr>\n",
       "  </thead>\n",
       "  <tbody>\n",
       "    <tr>\n",
       "      <th>0</th>\n",
       "      <td>Leo In Consulting</td>\n",
       "      <td>watch</td>\n",
       "      <td>luxury</td>\n",
       "      <td>173536.0</td>\n",
       "      <td>390640.318996</td>\n",
       "      <td>130107.0</td>\n",
       "      <td>0.985228</td>\n",
       "      <td>0.999791</td>\n",
       "      <td>0.953038</td>\n",
       "      <td>1</td>\n",
       "    </tr>\n",
       "    <tr>\n",
       "      <th>21</th>\n",
       "      <td>Gravida Mauris Incorporated</td>\n",
       "      <td>watch</td>\n",
       "      <td>luxury</td>\n",
       "      <td>32761.0</td>\n",
       "      <td>315383.681366</td>\n",
       "      <td>30950.0</td>\n",
       "      <td>0.985126</td>\n",
       "      <td>0.999846</td>\n",
       "      <td>0.506110</td>\n",
       "      <td>22</td>\n",
       "    </tr>\n",
       "    <tr>\n",
       "      <th>35</th>\n",
       "      <td>Magna Sed Industries</td>\n",
       "      <td>art</td>\n",
       "      <td>luxury</td>\n",
       "      <td>2548.0</td>\n",
       "      <td>283722.417216</td>\n",
       "      <td>2515.0</td>\n",
       "      <td>0.984983</td>\n",
       "      <td>1.000000</td>\n",
       "      <td>0.382050</td>\n",
       "      <td>36</td>\n",
       "    </tr>\n",
       "    <tr>\n",
       "      <th>43</th>\n",
       "      <td>Aliquam Auctor Associates</td>\n",
       "      <td>antique</td>\n",
       "      <td>luxury</td>\n",
       "      <td>22496.0</td>\n",
       "      <td>204023.708450</td>\n",
       "      <td>21608.0</td>\n",
       "      <td>0.988552</td>\n",
       "      <td>0.999775</td>\n",
       "      <td>0.367832</td>\n",
       "      <td>44</td>\n",
       "    </tr>\n",
       "    <tr>\n",
       "      <th>50</th>\n",
       "      <td>Commodo Ipsum Industries</td>\n",
       "      <td>jewelry</td>\n",
       "      <td>luxury</td>\n",
       "      <td>539.0</td>\n",
       "      <td>260535.873579</td>\n",
       "      <td>505.0</td>\n",
       "      <td>0.987864</td>\n",
       "      <td>0.921117</td>\n",
       "      <td>0.349478</td>\n",
       "      <td>51</td>\n",
       "    </tr>\n",
       "    <tr>\n",
       "      <th>51</th>\n",
       "      <td>Lacus Aliquam Corporation</td>\n",
       "      <td>antique</td>\n",
       "      <td>luxury</td>\n",
       "      <td>997.0</td>\n",
       "      <td>255175.224632</td>\n",
       "      <td>954.0</td>\n",
       "      <td>0.990832</td>\n",
       "      <td>0.974460</td>\n",
       "      <td>0.348583</td>\n",
       "      <td>52</td>\n",
       "    </tr>\n",
       "    <tr>\n",
       "      <th>67</th>\n",
       "      <td>Iaculis LLC</td>\n",
       "      <td>watch</td>\n",
       "      <td>luxury</td>\n",
       "      <td>24990.0</td>\n",
       "      <td>118325.336781</td>\n",
       "      <td>23941.0</td>\n",
       "      <td>0.990856</td>\n",
       "      <td>0.999874</td>\n",
       "      <td>0.293120</td>\n",
       "      <td>68</td>\n",
       "    </tr>\n",
       "    <tr>\n",
       "      <th>79</th>\n",
       "      <td>Hendrerit A Corporation</td>\n",
       "      <td>watch</td>\n",
       "      <td>luxury</td>\n",
       "      <td>12332.0</td>\n",
       "      <td>141882.656231</td>\n",
       "      <td>12079.0</td>\n",
       "      <td>0.984299</td>\n",
       "      <td>0.999795</td>\n",
       "      <td>0.276367</td>\n",
       "      <td>80</td>\n",
       "    </tr>\n",
       "    <tr>\n",
       "      <th>80</th>\n",
       "      <td>Nulla Facilisis Institute</td>\n",
       "      <td>watch</td>\n",
       "      <td>luxury</td>\n",
       "      <td>15685.0</td>\n",
       "      <td>130273.686267</td>\n",
       "      <td>15599.0</td>\n",
       "      <td>0.984161</td>\n",
       "      <td>0.999733</td>\n",
       "      <td>0.276234</td>\n",
       "      <td>81</td>\n",
       "    </tr>\n",
       "    <tr>\n",
       "      <th>86</th>\n",
       "      <td>Tellus Id LLC</td>\n",
       "      <td>watch</td>\n",
       "      <td>luxury</td>\n",
       "      <td>28057.0</td>\n",
       "      <td>84862.913634</td>\n",
       "      <td>26668.0</td>\n",
       "      <td>0.990769</td>\n",
       "      <td>0.999865</td>\n",
       "      <td>0.270094</td>\n",
       "      <td>87</td>\n",
       "    </tr>\n",
       "  </tbody>\n",
       "</table>\n",
       "</div>"
      ],
      "text/plain": [
       "                  merchant_name category segment  pred_num_trans  \\\n",
       "0             Leo In Consulting    watch  luxury        173536.0   \n",
       "21  Gravida Mauris Incorporated    watch  luxury         32761.0   \n",
       "35         Magna Sed Industries      art  luxury          2548.0   \n",
       "43    Aliquam Auctor Associates  antique  luxury         22496.0   \n",
       "50     Commodo Ipsum Industries  jewelry  luxury           539.0   \n",
       "51    Lacus Aliquam Corporation  antique  luxury           997.0   \n",
       "67                  Iaculis LLC    watch  luxury         24990.0   \n",
       "79      Hendrerit A Corporation    watch  luxury         12332.0   \n",
       "80    Nulla Facilisis Institute    watch  luxury         15685.0   \n",
       "86                Tellus Id LLC    watch  luxury         28057.0   \n",
       "\n",
       "        pred_gain  pred_num_consumer  merchant_reliability  \\\n",
       "0   390640.318996           130107.0              0.985228   \n",
       "21  315383.681366            30950.0              0.985126   \n",
       "35  283722.417216             2515.0              0.984983   \n",
       "43  204023.708450            21608.0              0.988552   \n",
       "50  260535.873579              505.0              0.987864   \n",
       "51  255175.224632              954.0              0.990832   \n",
       "67  118325.336781            23941.0              0.990856   \n",
       "79  141882.656231            12079.0              0.984299   \n",
       "80  130273.686267            15599.0              0.984161   \n",
       "86   84862.913634            26668.0              0.990769   \n",
       "\n",
       "    consumer_reliability  default_weighted_sum  rank  \n",
       "0               0.999791              0.953038     1  \n",
       "21              0.999846              0.506110    22  \n",
       "35              1.000000              0.382050    36  \n",
       "43              0.999775              0.367832    44  \n",
       "50              0.921117              0.349478    51  \n",
       "51              0.974460              0.348583    52  \n",
       "67              0.999874              0.293120    68  \n",
       "79              0.999795              0.276367    80  \n",
       "80              0.999733              0.276234    81  \n",
       "86              0.999865              0.270094    87  "
      ]
     },
     "execution_count": 24,
     "metadata": {},
     "output_type": "execute_result"
    }
   ],
   "source": [
    "merchants_sorted[merchants_sorted['segment']=='luxury'].head(10)"
   ]
  },
  {
   "cell_type": "markdown",
   "metadata": {},
   "source": [
    "### Top 10 merchants in Recreational segment"
   ]
  },
  {
   "cell_type": "code",
   "execution_count": 25,
   "metadata": {},
   "outputs": [
    {
     "data": {
      "text/html": [
       "<div>\n",
       "<style scoped>\n",
       "    .dataframe tbody tr th:only-of-type {\n",
       "        vertical-align: middle;\n",
       "    }\n",
       "\n",
       "    .dataframe tbody tr th {\n",
       "        vertical-align: top;\n",
       "    }\n",
       "\n",
       "    .dataframe thead th {\n",
       "        text-align: right;\n",
       "    }\n",
       "</style>\n",
       "<table border=\"1\" class=\"dataframe\">\n",
       "  <thead>\n",
       "    <tr style=\"text-align: right;\">\n",
       "      <th></th>\n",
       "      <th>merchant_name</th>\n",
       "      <th>category</th>\n",
       "      <th>segment</th>\n",
       "      <th>pred_num_trans</th>\n",
       "      <th>pred_gain</th>\n",
       "      <th>pred_num_consumer</th>\n",
       "      <th>merchant_reliability</th>\n",
       "      <th>consumer_reliability</th>\n",
       "      <th>default_weighted_sum</th>\n",
       "      <th>rank</th>\n",
       "    </tr>\n",
       "  </thead>\n",
       "  <tbody>\n",
       "    <tr>\n",
       "      <th>1</th>\n",
       "      <td>Lacus Consulting</td>\n",
       "      <td>gift</td>\n",
       "      <td>recreational</td>\n",
       "      <td>145209.0</td>\n",
       "      <td>372704.465598</td>\n",
       "      <td>113733.0</td>\n",
       "      <td>0.985503</td>\n",
       "      <td>0.999825</td>\n",
       "      <td>0.867038</td>\n",
       "      <td>2</td>\n",
       "    </tr>\n",
       "    <tr>\n",
       "      <th>2</th>\n",
       "      <td>Est Nunc Consulting</td>\n",
       "      <td>tent</td>\n",
       "      <td>recreational</td>\n",
       "      <td>137610.0</td>\n",
       "      <td>340722.911863</td>\n",
       "      <td>108809.0</td>\n",
       "      <td>0.983872</td>\n",
       "      <td>0.999810</td>\n",
       "      <td>0.816735</td>\n",
       "      <td>3</td>\n",
       "    </tr>\n",
       "    <tr>\n",
       "      <th>3</th>\n",
       "      <td>Non Vestibulum Industries</td>\n",
       "      <td>tent</td>\n",
       "      <td>recreational</td>\n",
       "      <td>157091.0</td>\n",
       "      <td>264025.573710</td>\n",
       "      <td>120701.0</td>\n",
       "      <td>0.981982</td>\n",
       "      <td>0.999778</td>\n",
       "      <td>0.791217</td>\n",
       "      <td>4</td>\n",
       "    </tr>\n",
       "    <tr>\n",
       "      <th>4</th>\n",
       "      <td>Erat Vitae LLP</td>\n",
       "      <td>florists</td>\n",
       "      <td>recreational</td>\n",
       "      <td>183854.0</td>\n",
       "      <td>162804.614803</td>\n",
       "      <td>135426.0</td>\n",
       "      <td>0.991085</td>\n",
       "      <td>0.999827</td>\n",
       "      <td>0.757767</td>\n",
       "      <td>5</td>\n",
       "    </tr>\n",
       "    <tr>\n",
       "      <th>5</th>\n",
       "      <td>Lorem Ipsum Sodales Industries</td>\n",
       "      <td>florists</td>\n",
       "      <td>recreational</td>\n",
       "      <td>127566.0</td>\n",
       "      <td>257363.423451</td>\n",
       "      <td>102536.0</td>\n",
       "      <td>0.981246</td>\n",
       "      <td>0.999806</td>\n",
       "      <td>0.711089</td>\n",
       "      <td>6</td>\n",
       "    </tr>\n",
       "    <tr>\n",
       "      <th>6</th>\n",
       "      <td>Pede Nonummy Corp.</td>\n",
       "      <td>tent</td>\n",
       "      <td>recreational</td>\n",
       "      <td>165578.0</td>\n",
       "      <td>137339.140382</td>\n",
       "      <td>125632.0</td>\n",
       "      <td>0.991058</td>\n",
       "      <td>0.999831</td>\n",
       "      <td>0.690313</td>\n",
       "      <td>7</td>\n",
       "    </tr>\n",
       "    <tr>\n",
       "      <th>8</th>\n",
       "      <td>Lobortis Ultrices Company</td>\n",
       "      <td>music</td>\n",
       "      <td>recreational</td>\n",
       "      <td>71875.0</td>\n",
       "      <td>354104.129551</td>\n",
       "      <td>63557.0</td>\n",
       "      <td>0.984710</td>\n",
       "      <td>0.999789</td>\n",
       "      <td>0.656749</td>\n",
       "      <td>9</td>\n",
       "    </tr>\n",
       "    <tr>\n",
       "      <th>9</th>\n",
       "      <td>Orci In Consequat Corporation</td>\n",
       "      <td>gift</td>\n",
       "      <td>recreational</td>\n",
       "      <td>54456.0</td>\n",
       "      <td>394349.647795</td>\n",
       "      <td>49569.0</td>\n",
       "      <td>0.984868</td>\n",
       "      <td>0.999872</td>\n",
       "      <td>0.646013</td>\n",
       "      <td>10</td>\n",
       "    </tr>\n",
       "    <tr>\n",
       "      <th>12</th>\n",
       "      <td>Vehicula Pellentesque Corporation</td>\n",
       "      <td>artist supply</td>\n",
       "      <td>recreational</td>\n",
       "      <td>115995.0</td>\n",
       "      <td>182123.924153</td>\n",
       "      <td>95089.0</td>\n",
       "      <td>0.985258</td>\n",
       "      <td>0.999747</td>\n",
       "      <td>0.609349</td>\n",
       "      <td>13</td>\n",
       "    </tr>\n",
       "    <tr>\n",
       "      <th>13</th>\n",
       "      <td>Dictum Phasellus In Institute</td>\n",
       "      <td>gift</td>\n",
       "      <td>recreational</td>\n",
       "      <td>62801.0</td>\n",
       "      <td>326806.571150</td>\n",
       "      <td>56325.0</td>\n",
       "      <td>0.983635</td>\n",
       "      <td>0.999788</td>\n",
       "      <td>0.604719</td>\n",
       "      <td>14</td>\n",
       "    </tr>\n",
       "  </tbody>\n",
       "</table>\n",
       "</div>"
      ],
      "text/plain": [
       "                        merchant_name       category       segment  \\\n",
       "1                    Lacus Consulting           gift  recreational   \n",
       "2                 Est Nunc Consulting           tent  recreational   \n",
       "3           Non Vestibulum Industries           tent  recreational   \n",
       "4                      Erat Vitae LLP       florists  recreational   \n",
       "5      Lorem Ipsum Sodales Industries       florists  recreational   \n",
       "6                  Pede Nonummy Corp.           tent  recreational   \n",
       "8           Lobortis Ultrices Company          music  recreational   \n",
       "9       Orci In Consequat Corporation           gift  recreational   \n",
       "12  Vehicula Pellentesque Corporation  artist supply  recreational   \n",
       "13      Dictum Phasellus In Institute           gift  recreational   \n",
       "\n",
       "    pred_num_trans      pred_gain  pred_num_consumer  merchant_reliability  \\\n",
       "1         145209.0  372704.465598           113733.0              0.985503   \n",
       "2         137610.0  340722.911863           108809.0              0.983872   \n",
       "3         157091.0  264025.573710           120701.0              0.981982   \n",
       "4         183854.0  162804.614803           135426.0              0.991085   \n",
       "5         127566.0  257363.423451           102536.0              0.981246   \n",
       "6         165578.0  137339.140382           125632.0              0.991058   \n",
       "8          71875.0  354104.129551            63557.0              0.984710   \n",
       "9          54456.0  394349.647795            49569.0              0.984868   \n",
       "12        115995.0  182123.924153            95089.0              0.985258   \n",
       "13         62801.0  326806.571150            56325.0              0.983635   \n",
       "\n",
       "    consumer_reliability  default_weighted_sum  rank  \n",
       "1               0.999825              0.867038     2  \n",
       "2               0.999810              0.816735     3  \n",
       "3               0.999778              0.791217     4  \n",
       "4               0.999827              0.757767     5  \n",
       "5               0.999806              0.711089     6  \n",
       "6               0.999831              0.690313     7  \n",
       "8               0.999789              0.656749     9  \n",
       "9               0.999872              0.646013    10  \n",
       "12              0.999747              0.609349    13  \n",
       "13              0.999788              0.604719    14  "
      ]
     },
     "execution_count": 25,
     "metadata": {},
     "output_type": "execute_result"
    }
   ],
   "source": [
    "merchants_sorted[merchants_sorted['segment']=='recreational'].head(10)"
   ]
  },
  {
   "cell_type": "markdown",
   "metadata": {},
   "source": [
    "### Top 10 merchants in IT segment"
   ]
  },
  {
   "cell_type": "code",
   "execution_count": 26,
   "metadata": {},
   "outputs": [
    {
     "data": {
      "text/html": [
       "<div>\n",
       "<style scoped>\n",
       "    .dataframe tbody tr th:only-of-type {\n",
       "        vertical-align: middle;\n",
       "    }\n",
       "\n",
       "    .dataframe tbody tr th {\n",
       "        vertical-align: top;\n",
       "    }\n",
       "\n",
       "    .dataframe thead th {\n",
       "        text-align: right;\n",
       "    }\n",
       "</style>\n",
       "<table border=\"1\" class=\"dataframe\">\n",
       "  <thead>\n",
       "    <tr style=\"text-align: right;\">\n",
       "      <th></th>\n",
       "      <th>merchant_name</th>\n",
       "      <th>category</th>\n",
       "      <th>segment</th>\n",
       "      <th>pred_num_trans</th>\n",
       "      <th>pred_gain</th>\n",
       "      <th>pred_num_consumer</th>\n",
       "      <th>merchant_reliability</th>\n",
       "      <th>consumer_reliability</th>\n",
       "      <th>default_weighted_sum</th>\n",
       "      <th>rank</th>\n",
       "    </tr>\n",
       "  </thead>\n",
       "  <tbody>\n",
       "    <tr>\n",
       "      <th>7</th>\n",
       "      <td>Mauris Non Institute</td>\n",
       "      <td>cable</td>\n",
       "      <td>IT</td>\n",
       "      <td>76224.0</td>\n",
       "      <td>363062.301237</td>\n",
       "      <td>66851.0</td>\n",
       "      <td>0.983958</td>\n",
       "      <td>0.999834</td>\n",
       "      <td>0.677335</td>\n",
       "      <td>8</td>\n",
       "    </tr>\n",
       "    <tr>\n",
       "      <th>14</th>\n",
       "      <td>Nullam Consulting</td>\n",
       "      <td>digital</td>\n",
       "      <td>IT</td>\n",
       "      <td>64694.0</td>\n",
       "      <td>285565.048651</td>\n",
       "      <td>57869.0</td>\n",
       "      <td>0.985686</td>\n",
       "      <td>0.999764</td>\n",
       "      <td>0.570528</td>\n",
       "      <td>15</td>\n",
       "    </tr>\n",
       "    <tr>\n",
       "      <th>16</th>\n",
       "      <td>Placerat Eget Venenatis Limited</td>\n",
       "      <td>computer</td>\n",
       "      <td>IT</td>\n",
       "      <td>114740.0</td>\n",
       "      <td>135076.715559</td>\n",
       "      <td>94331.0</td>\n",
       "      <td>0.991058</td>\n",
       "      <td>0.999862</td>\n",
       "      <td>0.561231</td>\n",
       "      <td>17</td>\n",
       "    </tr>\n",
       "    <tr>\n",
       "      <th>25</th>\n",
       "      <td>Arcu Sed Eu Incorporated</td>\n",
       "      <td>computer</td>\n",
       "      <td>IT</td>\n",
       "      <td>23964.0</td>\n",
       "      <td>288472.536157</td>\n",
       "      <td>22893.0</td>\n",
       "      <td>0.984204</td>\n",
       "      <td>0.999868</td>\n",
       "      <td>0.453314</td>\n",
       "      <td>26</td>\n",
       "    </tr>\n",
       "    <tr>\n",
       "      <th>26</th>\n",
       "      <td>Nec Incorporated</td>\n",
       "      <td>telecom</td>\n",
       "      <td>IT</td>\n",
       "      <td>3287.0</td>\n",
       "      <td>352339.084579</td>\n",
       "      <td>3238.0</td>\n",
       "      <td>0.981128</td>\n",
       "      <td>0.999615</td>\n",
       "      <td>0.450257</td>\n",
       "      <td>27</td>\n",
       "    </tr>\n",
       "    <tr>\n",
       "      <th>28</th>\n",
       "      <td>Suspendisse Ac Associates</td>\n",
       "      <td>digital</td>\n",
       "      <td>IT</td>\n",
       "      <td>43193.0</td>\n",
       "      <td>213524.365587</td>\n",
       "      <td>39949.0</td>\n",
       "      <td>0.983954</td>\n",
       "      <td>0.999883</td>\n",
       "      <td>0.438755</td>\n",
       "      <td>29</td>\n",
       "    </tr>\n",
       "    <tr>\n",
       "      <th>30</th>\n",
       "      <td>Eu Placerat LLC</td>\n",
       "      <td>computer</td>\n",
       "      <td>IT</td>\n",
       "      <td>19605.0</td>\n",
       "      <td>244907.129737</td>\n",
       "      <td>18964.0</td>\n",
       "      <td>0.982935</td>\n",
       "      <td>0.999872</td>\n",
       "      <td>0.398117</td>\n",
       "      <td>31</td>\n",
       "    </tr>\n",
       "    <tr>\n",
       "      <th>33</th>\n",
       "      <td>Adipiscing Elit Foundation</td>\n",
       "      <td>computer</td>\n",
       "      <td>IT</td>\n",
       "      <td>9944.0</td>\n",
       "      <td>263406.268416</td>\n",
       "      <td>9757.0</td>\n",
       "      <td>0.980320</td>\n",
       "      <td>0.999937</td>\n",
       "      <td>0.385673</td>\n",
       "      <td>34</td>\n",
       "    </tr>\n",
       "    <tr>\n",
       "      <th>34</th>\n",
       "      <td>Diam At Foundation</td>\n",
       "      <td>computer</td>\n",
       "      <td>IT</td>\n",
       "      <td>16108.0</td>\n",
       "      <td>242980.495986</td>\n",
       "      <td>15355.0</td>\n",
       "      <td>0.984443</td>\n",
       "      <td>0.999850</td>\n",
       "      <td>0.384919</td>\n",
       "      <td>35</td>\n",
       "    </tr>\n",
       "    <tr>\n",
       "      <th>36</th>\n",
       "      <td>Eleifend PC</td>\n",
       "      <td>computer</td>\n",
       "      <td>IT</td>\n",
       "      <td>23482.0</td>\n",
       "      <td>211997.496238</td>\n",
       "      <td>22529.0</td>\n",
       "      <td>0.982345</td>\n",
       "      <td>0.999787</td>\n",
       "      <td>0.378242</td>\n",
       "      <td>37</td>\n",
       "    </tr>\n",
       "  </tbody>\n",
       "</table>\n",
       "</div>"
      ],
      "text/plain": [
       "                      merchant_name  category segment  pred_num_trans  \\\n",
       "7              Mauris Non Institute     cable      IT         76224.0   \n",
       "14                Nullam Consulting   digital      IT         64694.0   \n",
       "16  Placerat Eget Venenatis Limited  computer      IT        114740.0   \n",
       "25         Arcu Sed Eu Incorporated  computer      IT         23964.0   \n",
       "26                 Nec Incorporated   telecom      IT          3287.0   \n",
       "28        Suspendisse Ac Associates   digital      IT         43193.0   \n",
       "30                  Eu Placerat LLC  computer      IT         19605.0   \n",
       "33       Adipiscing Elit Foundation  computer      IT          9944.0   \n",
       "34               Diam At Foundation  computer      IT         16108.0   \n",
       "36                      Eleifend PC  computer      IT         23482.0   \n",
       "\n",
       "        pred_gain  pred_num_consumer  merchant_reliability  \\\n",
       "7   363062.301237            66851.0              0.983958   \n",
       "14  285565.048651            57869.0              0.985686   \n",
       "16  135076.715559            94331.0              0.991058   \n",
       "25  288472.536157            22893.0              0.984204   \n",
       "26  352339.084579             3238.0              0.981128   \n",
       "28  213524.365587            39949.0              0.983954   \n",
       "30  244907.129737            18964.0              0.982935   \n",
       "33  263406.268416             9757.0              0.980320   \n",
       "34  242980.495986            15355.0              0.984443   \n",
       "36  211997.496238            22529.0              0.982345   \n",
       "\n",
       "    consumer_reliability  default_weighted_sum  rank  \n",
       "7               0.999834              0.677335     8  \n",
       "14              0.999764              0.570528    15  \n",
       "16              0.999862              0.561231    17  \n",
       "25              0.999868              0.453314    26  \n",
       "26              0.999615              0.450257    27  \n",
       "28              0.999883              0.438755    29  \n",
       "30              0.999872              0.398117    31  \n",
       "33              0.999937              0.385673    34  \n",
       "34              0.999850              0.384919    35  \n",
       "36              0.999787              0.378242    37  "
      ]
     },
     "execution_count": 26,
     "metadata": {},
     "output_type": "execute_result"
    }
   ],
   "source": [
    "merchants_sorted[merchants_sorted['segment']=='IT'].head(10)"
   ]
  },
  {
   "cell_type": "markdown",
   "metadata": {},
   "source": [
    "### Top 10 merchants in Daily segment"
   ]
  },
  {
   "cell_type": "code",
   "execution_count": 27,
   "metadata": {},
   "outputs": [
    {
     "data": {
      "text/html": [
       "<div>\n",
       "<style scoped>\n",
       "    .dataframe tbody tr th:only-of-type {\n",
       "        vertical-align: middle;\n",
       "    }\n",
       "\n",
       "    .dataframe tbody tr th {\n",
       "        vertical-align: top;\n",
       "    }\n",
       "\n",
       "    .dataframe thead th {\n",
       "        text-align: right;\n",
       "    }\n",
       "</style>\n",
       "<table border=\"1\" class=\"dataframe\">\n",
       "  <thead>\n",
       "    <tr style=\"text-align: right;\">\n",
       "      <th></th>\n",
       "      <th>merchant_name</th>\n",
       "      <th>category</th>\n",
       "      <th>segment</th>\n",
       "      <th>pred_num_trans</th>\n",
       "      <th>pred_gain</th>\n",
       "      <th>pred_num_consumer</th>\n",
       "      <th>merchant_reliability</th>\n",
       "      <th>consumer_reliability</th>\n",
       "      <th>default_weighted_sum</th>\n",
       "      <th>rank</th>\n",
       "    </tr>\n",
       "  </thead>\n",
       "  <tbody>\n",
       "    <tr>\n",
       "      <th>10</th>\n",
       "      <td>Suspendisse Dui Corporation</td>\n",
       "      <td>opticians</td>\n",
       "      <td>daily</td>\n",
       "      <td>149493.0</td>\n",
       "      <td>131831.895979</td>\n",
       "      <td>115946.0</td>\n",
       "      <td>0.991091</td>\n",
       "      <td>0.999821</td>\n",
       "      <td>0.645259</td>\n",
       "      <td>11</td>\n",
       "    </tr>\n",
       "    <tr>\n",
       "      <th>11</th>\n",
       "      <td>Dignissim Maecenas Foundation</td>\n",
       "      <td>opticians</td>\n",
       "      <td>daily</td>\n",
       "      <td>42141.0</td>\n",
       "      <td>396059.134193</td>\n",
       "      <td>39180.0</td>\n",
       "      <td>0.984331</td>\n",
       "      <td>0.999774</td>\n",
       "      <td>0.611706</td>\n",
       "      <td>12</td>\n",
       "    </tr>\n",
       "    <tr>\n",
       "      <th>55</th>\n",
       "      <td>Pretium Et LLC</td>\n",
       "      <td>stationery</td>\n",
       "      <td>daily</td>\n",
       "      <td>6504.0</td>\n",
       "      <td>225464.189394</td>\n",
       "      <td>6403.0</td>\n",
       "      <td>0.980948</td>\n",
       "      <td>0.999805</td>\n",
       "      <td>0.338289</td>\n",
       "      <td>56</td>\n",
       "    </tr>\n",
       "    <tr>\n",
       "      <th>56</th>\n",
       "      <td>Dolor Quisque Inc.</td>\n",
       "      <td>shoe</td>\n",
       "      <td>daily</td>\n",
       "      <td>13816.0</td>\n",
       "      <td>191980.487468</td>\n",
       "      <td>13454.0</td>\n",
       "      <td>0.992078</td>\n",
       "      <td>0.999817</td>\n",
       "      <td>0.329559</td>\n",
       "      <td>57</td>\n",
       "    </tr>\n",
       "    <tr>\n",
       "      <th>57</th>\n",
       "      <td>Blandit At LLC</td>\n",
       "      <td>shoe</td>\n",
       "      <td>daily</td>\n",
       "      <td>18839.0</td>\n",
       "      <td>174541.872290</td>\n",
       "      <td>18286.0</td>\n",
       "      <td>0.982501</td>\n",
       "      <td>0.999766</td>\n",
       "      <td>0.328033</td>\n",
       "      <td>58</td>\n",
       "    </tr>\n",
       "    <tr>\n",
       "      <th>61</th>\n",
       "      <td>Placerat Orci Institute</td>\n",
       "      <td>stationery</td>\n",
       "      <td>daily</td>\n",
       "      <td>16154.0</td>\n",
       "      <td>166463.090924</td>\n",
       "      <td>15681.0</td>\n",
       "      <td>0.990358</td>\n",
       "      <td>0.999846</td>\n",
       "      <td>0.312190</td>\n",
       "      <td>62</td>\n",
       "    </tr>\n",
       "    <tr>\n",
       "      <th>63</th>\n",
       "      <td>Tempor Est Foundation</td>\n",
       "      <td>stationery</td>\n",
       "      <td>daily</td>\n",
       "      <td>8093.0</td>\n",
       "      <td>186225.140963</td>\n",
       "      <td>7962.0</td>\n",
       "      <td>0.989932</td>\n",
       "      <td>0.999690</td>\n",
       "      <td>0.305983</td>\n",
       "      <td>64</td>\n",
       "    </tr>\n",
       "    <tr>\n",
       "      <th>71</th>\n",
       "      <td>Sociosqu Corp.</td>\n",
       "      <td>shoe</td>\n",
       "      <td>daily</td>\n",
       "      <td>14442.0</td>\n",
       "      <td>142626.596718</td>\n",
       "      <td>14091.0</td>\n",
       "      <td>0.985182</td>\n",
       "      <td>0.999870</td>\n",
       "      <td>0.283714</td>\n",
       "      <td>72</td>\n",
       "    </tr>\n",
       "    <tr>\n",
       "      <th>82</th>\n",
       "      <td>At Pede Inc.</td>\n",
       "      <td>opticians</td>\n",
       "      <td>daily</td>\n",
       "      <td>7149.0</td>\n",
       "      <td>156588.289218</td>\n",
       "      <td>7066.0</td>\n",
       "      <td>0.983459</td>\n",
       "      <td>0.999825</td>\n",
       "      <td>0.274187</td>\n",
       "      <td>83</td>\n",
       "    </tr>\n",
       "    <tr>\n",
       "      <th>97</th>\n",
       "      <td>Nec Tellus Ltd</td>\n",
       "      <td>health</td>\n",
       "      <td>daily</td>\n",
       "      <td>10258.0</td>\n",
       "      <td>120315.072914</td>\n",
       "      <td>10067.0</td>\n",
       "      <td>0.987795</td>\n",
       "      <td>0.999938</td>\n",
       "      <td>0.249244</td>\n",
       "      <td>98</td>\n",
       "    </tr>\n",
       "  </tbody>\n",
       "</table>\n",
       "</div>"
      ],
      "text/plain": [
       "                    merchant_name    category segment  pred_num_trans  \\\n",
       "10    Suspendisse Dui Corporation   opticians   daily        149493.0   \n",
       "11  Dignissim Maecenas Foundation   opticians   daily         42141.0   \n",
       "55                 Pretium Et LLC  stationery   daily          6504.0   \n",
       "56             Dolor Quisque Inc.        shoe   daily         13816.0   \n",
       "57                 Blandit At LLC        shoe   daily         18839.0   \n",
       "61        Placerat Orci Institute  stationery   daily         16154.0   \n",
       "63          Tempor Est Foundation  stationery   daily          8093.0   \n",
       "71                 Sociosqu Corp.        shoe   daily         14442.0   \n",
       "82                   At Pede Inc.   opticians   daily          7149.0   \n",
       "97                 Nec Tellus Ltd      health   daily         10258.0   \n",
       "\n",
       "        pred_gain  pred_num_consumer  merchant_reliability  \\\n",
       "10  131831.895979           115946.0              0.991091   \n",
       "11  396059.134193            39180.0              0.984331   \n",
       "55  225464.189394             6403.0              0.980948   \n",
       "56  191980.487468            13454.0              0.992078   \n",
       "57  174541.872290            18286.0              0.982501   \n",
       "61  166463.090924            15681.0              0.990358   \n",
       "63  186225.140963             7962.0              0.989932   \n",
       "71  142626.596718            14091.0              0.985182   \n",
       "82  156588.289218             7066.0              0.983459   \n",
       "97  120315.072914            10067.0              0.987795   \n",
       "\n",
       "    consumer_reliability  default_weighted_sum  rank  \n",
       "10              0.999821              0.645259    11  \n",
       "11              0.999774              0.611706    12  \n",
       "55              0.999805              0.338289    56  \n",
       "56              0.999817              0.329559    57  \n",
       "57              0.999766              0.328033    58  \n",
       "61              0.999846              0.312190    62  \n",
       "63              0.999690              0.305983    64  \n",
       "71              0.999870              0.283714    72  \n",
       "82              0.999825              0.274187    83  \n",
       "97              0.999938              0.249244    98  "
      ]
     },
     "execution_count": 27,
     "metadata": {},
     "output_type": "execute_result"
    }
   ],
   "source": [
    "merchants_sorted[merchants_sorted['segment']=='daily'].head(10)"
   ]
  },
  {
   "cell_type": "markdown",
   "metadata": {},
   "source": [
    "### Top 10 merchants in Housing segment"
   ]
  },
  {
   "cell_type": "code",
   "execution_count": 28,
   "metadata": {},
   "outputs": [
    {
     "data": {
      "text/html": [
       "<div>\n",
       "<style scoped>\n",
       "    .dataframe tbody tr th:only-of-type {\n",
       "        vertical-align: middle;\n",
       "    }\n",
       "\n",
       "    .dataframe tbody tr th {\n",
       "        vertical-align: top;\n",
       "    }\n",
       "\n",
       "    .dataframe thead th {\n",
       "        text-align: right;\n",
       "    }\n",
       "</style>\n",
       "<table border=\"1\" class=\"dataframe\">\n",
       "  <thead>\n",
       "    <tr style=\"text-align: right;\">\n",
       "      <th></th>\n",
       "      <th>merchant_name</th>\n",
       "      <th>category</th>\n",
       "      <th>segment</th>\n",
       "      <th>pred_num_trans</th>\n",
       "      <th>pred_gain</th>\n",
       "      <th>pred_num_consumer</th>\n",
       "      <th>merchant_reliability</th>\n",
       "      <th>consumer_reliability</th>\n",
       "      <th>default_weighted_sum</th>\n",
       "      <th>rank</th>\n",
       "    </tr>\n",
       "  </thead>\n",
       "  <tbody>\n",
       "    <tr>\n",
       "      <th>18</th>\n",
       "      <td>Ornare Limited</td>\n",
       "      <td>motor</td>\n",
       "      <td>housing</td>\n",
       "      <td>19811.0</td>\n",
       "      <td>370840.725521</td>\n",
       "      <td>19120.0</td>\n",
       "      <td>0.983362</td>\n",
       "      <td>0.999936</td>\n",
       "      <td>0.519987</td>\n",
       "      <td>19</td>\n",
       "    </tr>\n",
       "    <tr>\n",
       "      <th>19</th>\n",
       "      <td>Amet Risus Inc.</td>\n",
       "      <td>furniture</td>\n",
       "      <td>housing</td>\n",
       "      <td>2941.0</td>\n",
       "      <td>413863.935874</td>\n",
       "      <td>2883.0</td>\n",
       "      <td>0.981242</td>\n",
       "      <td>1.000000</td>\n",
       "      <td>0.508407</td>\n",
       "      <td>20</td>\n",
       "    </tr>\n",
       "    <tr>\n",
       "      <th>27</th>\n",
       "      <td>Phasellus At Limited</td>\n",
       "      <td>furniture</td>\n",
       "      <td>housing</td>\n",
       "      <td>27421.0</td>\n",
       "      <td>274124.187706</td>\n",
       "      <td>26133.0</td>\n",
       "      <td>0.983710</td>\n",
       "      <td>0.999771</td>\n",
       "      <td>0.450148</td>\n",
       "      <td>28</td>\n",
       "    </tr>\n",
       "    <tr>\n",
       "      <th>39</th>\n",
       "      <td>Interdum Feugiat Sed Inc.</td>\n",
       "      <td>furniture</td>\n",
       "      <td>housing</td>\n",
       "      <td>32830.0</td>\n",
       "      <td>177538.925570</td>\n",
       "      <td>29531.0</td>\n",
       "      <td>0.991277</td>\n",
       "      <td>0.999846</td>\n",
       "      <td>0.371143</td>\n",
       "      <td>40</td>\n",
       "    </tr>\n",
       "    <tr>\n",
       "      <th>44</th>\n",
       "      <td>Eu Inc.</td>\n",
       "      <td>garden</td>\n",
       "      <td>housing</td>\n",
       "      <td>21740.0</td>\n",
       "      <td>205711.666319</td>\n",
       "      <td>20913.0</td>\n",
       "      <td>0.983545</td>\n",
       "      <td>0.999884</td>\n",
       "      <td>0.366902</td>\n",
       "      <td>45</td>\n",
       "    </tr>\n",
       "    <tr>\n",
       "      <th>45</th>\n",
       "      <td>Magna Praesent PC</td>\n",
       "      <td>motor</td>\n",
       "      <td>housing</td>\n",
       "      <td>11107.0</td>\n",
       "      <td>239722.783067</td>\n",
       "      <td>10893.0</td>\n",
       "      <td>0.983184</td>\n",
       "      <td>0.999777</td>\n",
       "      <td>0.366678</td>\n",
       "      <td>46</td>\n",
       "    </tr>\n",
       "    <tr>\n",
       "      <th>54</th>\n",
       "      <td>Semper Auctor PC</td>\n",
       "      <td>motor</td>\n",
       "      <td>housing</td>\n",
       "      <td>2370.0</td>\n",
       "      <td>239189.228470</td>\n",
       "      <td>2322.0</td>\n",
       "      <td>0.981637</td>\n",
       "      <td>0.999738</td>\n",
       "      <td>0.338384</td>\n",
       "      <td>55</td>\n",
       "    </tr>\n",
       "    <tr>\n",
       "      <th>59</th>\n",
       "      <td>Phasellus Dapibus Incorporated</td>\n",
       "      <td>furniture</td>\n",
       "      <td>housing</td>\n",
       "      <td>22056.0</td>\n",
       "      <td>153112.340361</td>\n",
       "      <td>21203.0</td>\n",
       "      <td>0.990583</td>\n",
       "      <td>0.999829</td>\n",
       "      <td>0.317561</td>\n",
       "      <td>60</td>\n",
       "    </tr>\n",
       "    <tr>\n",
       "      <th>60</th>\n",
       "      <td>Suspendisse Non Leo PC</td>\n",
       "      <td>motor</td>\n",
       "      <td>housing</td>\n",
       "      <td>14783.0</td>\n",
       "      <td>174988.749573</td>\n",
       "      <td>14401.0</td>\n",
       "      <td>0.990796</td>\n",
       "      <td>0.999872</td>\n",
       "      <td>0.316197</td>\n",
       "      <td>61</td>\n",
       "    </tr>\n",
       "    <tr>\n",
       "      <th>62</th>\n",
       "      <td>At Pretium Corp.</td>\n",
       "      <td>motor</td>\n",
       "      <td>housing</td>\n",
       "      <td>859.0</td>\n",
       "      <td>211072.937425</td>\n",
       "      <td>843.0</td>\n",
       "      <td>0.983582</td>\n",
       "      <td>0.999254</td>\n",
       "      <td>0.306596</td>\n",
       "      <td>63</td>\n",
       "    </tr>\n",
       "  </tbody>\n",
       "</table>\n",
       "</div>"
      ],
      "text/plain": [
       "                     merchant_name   category  segment  pred_num_trans  \\\n",
       "18                  Ornare Limited      motor  housing         19811.0   \n",
       "19                 Amet Risus Inc.  furniture  housing          2941.0   \n",
       "27            Phasellus At Limited  furniture  housing         27421.0   \n",
       "39       Interdum Feugiat Sed Inc.  furniture  housing         32830.0   \n",
       "44                         Eu Inc.     garden  housing         21740.0   \n",
       "45               Magna Praesent PC      motor  housing         11107.0   \n",
       "54                Semper Auctor PC      motor  housing          2370.0   \n",
       "59  Phasellus Dapibus Incorporated  furniture  housing         22056.0   \n",
       "60          Suspendisse Non Leo PC      motor  housing         14783.0   \n",
       "62                At Pretium Corp.      motor  housing           859.0   \n",
       "\n",
       "        pred_gain  pred_num_consumer  merchant_reliability  \\\n",
       "18  370840.725521            19120.0              0.983362   \n",
       "19  413863.935874             2883.0              0.981242   \n",
       "27  274124.187706            26133.0              0.983710   \n",
       "39  177538.925570            29531.0              0.991277   \n",
       "44  205711.666319            20913.0              0.983545   \n",
       "45  239722.783067            10893.0              0.983184   \n",
       "54  239189.228470             2322.0              0.981637   \n",
       "59  153112.340361            21203.0              0.990583   \n",
       "60  174988.749573            14401.0              0.990796   \n",
       "62  211072.937425              843.0              0.983582   \n",
       "\n",
       "    consumer_reliability  default_weighted_sum  rank  \n",
       "18              0.999936              0.519987    19  \n",
       "19              1.000000              0.508407    20  \n",
       "27              0.999771              0.450148    28  \n",
       "39              0.999846              0.371143    40  \n",
       "44              0.999884              0.366902    45  \n",
       "45              0.999777              0.366678    46  \n",
       "54              0.999738              0.338384    55  \n",
       "59              0.999829              0.317561    60  \n",
       "60              0.999872              0.316197    61  \n",
       "62              0.999254              0.306596    63  "
      ]
     },
     "execution_count": 28,
     "metadata": {},
     "output_type": "execute_result"
    }
   ],
   "source": [
    "merchants_sorted[merchants_sorted['segment']=='housing'].head(10)"
   ]
  },
  {
   "cell_type": "markdown",
   "metadata": {},
   "source": [
    "### Proportion of each segment in top 100 merchants"
   ]
  },
  {
   "cell_type": "markdown",
   "metadata": {},
   "source": [
    "<div>\n",
    "<img src=\"../plots/proportion_bySegments.png\" width=\"600\"/>\n",
    "</div>"
   ]
  },
  {
   "cell_type": "markdown",
   "metadata": {},
   "source": [
    "- greatest number of merchants are from recreaional factor (44%), next is housing (19%), then IT (17%)\n",
    "\n",
    "- implies potential benefit in targetting in recreational sector"
   ]
  },
  {
   "cell_type": "markdown",
   "metadata": {},
   "source": [
    "### Proportion of each category in top 100 merchants"
   ]
  },
  {
   "cell_type": "markdown",
   "metadata": {},
   "source": [
    "<div>\n",
    "<img src=\"../plots/proportion_byCategories.png\" width=\"700\"/>\n",
    "</div>"
   ]
  },
  {
   "cell_type": "markdown",
   "metadata": {},
   "source": [
    "- greatest number of merchants from tent (17%), second is computer (11%), then motor (8%)\n",
    "\n",
    "- potential benefit in focusing these categories"
   ]
  },
  {
   "cell_type": "markdown",
   "metadata": {},
   "source": [
    "### Comparison between top 100 and next 100 merchants across the heuristics"
   ]
  },
  {
   "cell_type": "markdown",
   "metadata": {},
   "source": [
    "<div>\n",
    "<img src=\"../plots/comparison_top100_next100.png\" width=\"500\"/>\n",
    "</div>"
   ]
  },
  {
   "cell_type": "markdown",
   "metadata": {},
   "source": [
    "- observe that predicted gain, predicted number of consumers, and predicted number of transactions made a big difference between the top 100 merchants and the next 100 merchants, while the reliability measures are the both very high and similar\n",
    "\n",
    "    - indicates that our top 200 merchants are mostly trustful, while there may be some high performing merchants that were downgraded and excluded from top 200"
   ]
  },
  {
   "cell_type": "markdown",
   "metadata": {},
   "source": [
    "- predicted gain is around 3 time higher in top 100 than the next 100 merchants, around 2 time higher for predicted number of consumers, and around 2.5 time higher for predicted number of transactions"
   ]
  },
  {
   "cell_type": "markdown",
   "metadata": {},
   "source": [
    "### Statistics under our recommended top 100 merchants"
   ]
  },
  {
   "cell_type": "markdown",
   "metadata": {},
   "source": [
    "In 2023 ...\n",
    "- predicted total gain = $23,257,593\n",
    "\n",
    "- predicted total number of transactions = 3,768,144\n",
    "\n",
    "- predicted total number of consumers = 24,081\n",
    "\n",
    "as shown in the output below"
   ]
  },
  {
   "cell_type": "code",
   "execution_count": 29,
   "metadata": {},
   "outputs": [
    {
     "name": "stdout",
     "output_type": "stream",
     "text": [
      "pred_gain - sum:  20504560.659092326\n",
      "pred_num_trans - sum:  3376651.0\n"
     ]
    }
   ],
   "source": [
    "# compute the total predicted gain and number of transactions with our recommended top 100 merchants\n",
    "criteria2 = ['pred_gain', 'pred_num_trans']\n",
    "for criterion in criteria2:\n",
    "    print(criterion, '- sum: ', top100_merchants[criterion].sum())"
   ]
  },
  {
   "cell_type": "code",
   "execution_count": 30,
   "metadata": {},
   "outputs": [
    {
     "data": {
      "text/plain": [
       "24081"
      ]
     },
     "execution_count": 30,
     "metadata": {},
     "output_type": "execute_result"
    }
   ],
   "source": [
    "# compute the total number of unique consumers that the BNPL can reach to, under our recommended top 100 merchants\n",
    "top100_merchnats_name = list(top100_merchants['merchant_name'])\n",
    "transactions = pd.read_parquet('../data/raw/transactions_clean')\n",
    "transactions_filtered = transactions[transactions['merchant_name'].isin(top100_merchnats_name)]\n",
    "len(set(transactions_filtered['consumer_id']))"
   ]
  },
  {
   "cell_type": "code",
   "execution_count": null,
   "metadata": {},
   "outputs": [],
   "source": []
  }
 ],
 "metadata": {
  "kernelspec": {
   "display_name": "Python 3",
   "language": "python",
   "name": "python3"
  },
  "language_info": {
   "codemirror_mode": {
    "name": "ipython",
    "version": 3
   },
   "file_extension": ".py",
   "mimetype": "text/x-python",
   "name": "python",
   "nbconvert_exporter": "python",
   "pygments_lexer": "ipython3",
   "version": "3.11.4"
  }
 },
 "nbformat": 4,
 "nbformat_minor": 2
}
