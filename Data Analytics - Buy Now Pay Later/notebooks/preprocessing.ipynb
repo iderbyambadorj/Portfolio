{
 "cells": [
  {
   "cell_type": "markdown",
   "metadata": {},
   "source": [
    "# Preprocessing Notebook # 1\n",
    "\n",
    "### 1. Feature Selection\n",
    "Remove redundant or insignificant features\n",
    "\n",
    "### 2. Transformations\n",
    "Data type conversions\n",
    "\n",
    "### 3. Missing values\n",
    "How many missing values were there in the transactions dataset\n",
    "\n",
    "### 4. Outlier Detection\n",
    "Any values outside the range (negative, min/max)\n",
    "Any instances with unreasonable value."
   ]
  },
  {
   "cell_type": "code",
   "execution_count": 1,
   "metadata": {},
   "outputs": [
    {
     "name": "stderr",
     "output_type": "stream",
     "text": [
      "23/10/20 13:25:03 WARN Utils: Your hostname, Keigos-MacBook-Pro.local resolves to a loopback address: 127.0.0.1; using 10.13.237.109 instead (on interface en0)\n",
      "23/10/20 13:25:03 WARN Utils: Set SPARK_LOCAL_IP if you need to bind to another address\n",
      "Setting default log level to \"WARN\".\n",
      "To adjust logging level use sc.setLogLevel(newLevel). For SparkR, use setLogLevel(newLevel).\n",
      "23/10/20 13:25:04 WARN NativeCodeLoader: Unable to load native-hadoop library for your platform... using builtin-java classes where applicable\n",
      "23/10/20 13:25:04 WARN Utils: Service 'SparkUI' could not bind on port 4040. Attempting port 4041.\n",
      "23/10/20 13:25:04 WARN Utils: Service 'SparkUI' could not bind on port 4041. Attempting port 4042.\n",
      "23/10/20 13:25:17 WARN GarbageCollectionMetrics: To enable non-built-in garbage collector(s) List(G1 Concurrent GC), users should configure it(them) to spark.eventLog.gcMetrics.youngGenerationGarbageCollectors or spark.eventLog.gcMetrics.oldGenerationGarbageCollectors\n",
      "                                                                                \r"
     ]
    }
   ],
   "source": [
    "# Run this script once\n",
    "%run ../scripts/ETL.py"
   ]
  },
  {
   "cell_type": "code",
   "execution_count": 2,
   "metadata": {},
   "outputs": [],
   "source": [
    "from pyspark.sql import SparkSession\n",
    "from pyspark.sql.functions import *\n",
    "from pyspark.sql.types import *\n",
    "import matplotlib.pyplot as plt\n",
    "\n",
    "# Create a spark session (which will run spark jobs)\n",
    "spark = (\n",
    "    SparkSession.builder.appName(\"MAST30034 Project 2\")\n",
    "    .config(\"spark.sql.repl.eagerEval.enabled\", True)\n",
    "    .config(\"spark.sql.parquet.cacheMetadata\", \"true\")\n",
    "    .config(\"spark.sql.session.timeZone\", \"Etc/UTC\")\n",
    "    .config('spark.driver.memory', '4g')\n",
    "    .config('spark.executor.memory', '2g')\n",
    "    .getOrCreate()\n",
    ")"
   ]
  },
  {
   "cell_type": "code",
   "execution_count": 3,
   "metadata": {},
   "outputs": [
    {
     "name": "stdout",
     "output_type": "stream",
     "text": [
      "Total number of instances: 14195505\n",
      "+------------+--------------+-------+------------------+--------------------+-----------+--------------------+------------------+-----+--------+------+-------------------+--------------------+--------------------+-------------+--------------------+------------------+-------------------+\n",
      "|merchant_abn|order_datetime|user_id|      dollar_value|            order_id|consumer_id|       consumer_name|           address|state|postcode|gender|consumer_fraud_prob|       merchant_name|                tags|merchant_desc|merchant_revenue_lvl|merchant_take_rate|merchant_fraud_prob|\n",
      "+------------+--------------+-------+------------------+--------------------+-----------+--------------------+------------------+-----+--------+------+-------------------+--------------------+--------------------+-------------+--------------------+------------------+-------------------+\n",
      "| 10648956813|    2022-07-30|  16481|61.909622443779654|c80b4dc3-056e-4fa...|     499986|           Lisa Park| 62242 French Fork|  QLD|    4224|Female|               null|Proin Nisl Institute|[(computeRs, comp...|     computer|                   a|              6.66|               null|\n",
      "| 52959528548|    2022-08-18|   3208| 59.17759699317396|8c53cf98-d7c0-4fd...|     627911|Mr. Alexander Nor...|24716 Higgins Keys|  NSW|    1630|  Male|               null|   Libero Et Limited|[[furniture, home...|    furniture|                   c|              1.94|               null|\n",
      "+------------+--------------+-------+------------------+--------------------+-----------+--------------------+------------------+-----+--------+------+-------------------+--------------------+--------------------+-------------+--------------------+------------------+-------------------+\n",
      "only showing top 2 rows\n",
      "\n"
     ]
    }
   ],
   "source": [
    "# Read the dataset\n",
    "data = spark.read.parquet('../data/raw/transactions_data/')\n",
    "print(f'Total number of instances: {data.count()}')\n",
    "data.show(2)"
   ]
  },
  {
   "cell_type": "markdown",
   "metadata": {},
   "source": [
    "## Join external dataset"
   ]
  },
  {
   "cell_type": "code",
   "execution_count": 4,
   "metadata": {},
   "outputs": [],
   "source": [
    "consumer_external = spark.read.format(\"csv\") \\\n",
    "                .options(header=True, delimiter=\",\") \\\n",
    "                .load('../data/raw/addedInfo_transaction/tbl_consumer_demo_income.csv') \\\n",
    "                .withColumnRenamed(\"name\", \"consumer_name\")\n",
    "data = data.join(consumer_external, \n",
    "                 on=['consumer_id', 'consumer_name', 'address', 'state', 'postcode', 'gender'], \n",
    "                 how='inner')"
   ]
  },
  {
   "cell_type": "markdown",
   "metadata": {},
   "source": [
    "## Feature Selection"
   ]
  },
  {
   "cell_type": "code",
   "execution_count": 5,
   "metadata": {},
   "outputs": [
    {
     "name": "stderr",
     "output_type": "stream",
     "text": [
      "[Stage 41:====================================>                     (5 + 3) / 8]\r"
     ]
    },
    {
     "name": "stdout",
     "output_type": "stream",
     "text": [
      "+-----------+-----+--------+------+------------+--------------+------------------+--------------------+-------------------+--------------------+-------------+--------------------+------------------+-------------------+-------+-------+--------------+-------------+--------------------+-----------+-----------------+-----------+-------------+\n",
      "|consumer_id|state|postcode|gender|merchant_abn|order_datetime|      dollar_value|            order_id|consumer_fraud_prob|       merchant_name|merchant_desc|merchant_revenue_lvl|merchant_take_rate|merchant_fraud_prob|2021ERP|2022ERP|popDensity2022|SA2_CODE_2021|       SA2_NAME_2021|num_earners|medianAge_earners| sum_income|median_income|\n",
      "+-----------+-----+--------+------+------------+--------------+------------------+--------------------+-------------------+--------------------+-------------+--------------------+------------------+-------------------+-------+-------+--------------+-------------+--------------------+-----------+-----------------+-----------+-------------+\n",
      "|    1000031|  NSW|    2177|Female| 86662713230|    2022-08-11| 26.53316308361773|50ad85ec-9f43-4de...|               null|Vestibulum Accums...|        watch|                   a|              6.41|               null|  17195|  17122|        3299.9|    127021509|Bonnyrigg Heights...|     8023.0|             39.0|431787326.0|      49045.0|\n",
      "|    1000031|  NSW|    2177|Female| 49891706470|    2022-10-07|29.909506933618744|d90fee6a-06e8-4b1...|               null|Non Vestibulum In...|         tent|                   a|               5.8|               null|  17195|  17122|        3299.9|    127021509|Bonnyrigg Heights...|     8023.0|             39.0|431787326.0|      49045.0|\n",
      "+-----------+-----+--------+------+------------+--------------+------------------+--------------------+-------------------+--------------------+-------------+--------------------+------------------+-------------------+-------+-------+--------------+-------------+--------------------+-----------+-----------------+-----------+-------------+\n",
      "only showing top 2 rows\n",
      "\n"
     ]
    },
    {
     "name": "stderr",
     "output_type": "stream",
     "text": [
      "                                                                                \r"
     ]
    }
   ],
   "source": [
    "# drop unnecessary columns\n",
    "dropping_cols = ('user_id', 'consumer_name', 'address', 'ERPchange#', 'ERPchange%', 'mean_income', 'SA2_NAME21', 'SA2_CODE21', 'Area', 'tags')\n",
    "data = data.drop(*dropping_cols)\n",
    "data.show(2)"
   ]
  },
  {
   "cell_type": "markdown",
   "metadata": {},
   "source": [
    "## Transformation - Data Type Conversions\n",
    "Since the dataset comes from multiple sources, we need to ensure all columns have correct data types. Most features had string type so we need to perform data type conversions."
   ]
  },
  {
   "cell_type": "code",
   "execution_count": 6,
   "metadata": {},
   "outputs": [],
   "source": [
    "data = data \\\n",
    "    .withColumn('consumer_id', col('consumer_id').cast(IntegerType())) \\\n",
    "    .withColumn('postcode', col('postcode').cast(IntegerType())) \\\n",
    "    .withColumn('2021ERP', col('2021ERP').cast(IntegerType())) \\\n",
    "    .withColumn('2022ERP', col('2022ERP').cast(IntegerType())) \\\n",
    "    .withColumn('popDensity2022', col('popDensity2022').cast(FloatType())) \\\n",
    "    .withColumn('num_earners', col('num_earners').cast(IntegerType())) \\\n",
    "    .withColumn('medianAge_earners', col('medianAge_earners').cast(FloatType())) \\\n",
    "    .withColumn('sum_income', col('sum_income').cast(FloatType())) \\\n",
    "    .withColumn('median_income', col('median_income').cast(FloatType())) \\\n",
    "    .withColumn('consumer_fraud_prob', col('consumer_fraud_prob').cast(FloatType())) \\\n",
    "    .withColumn('merchant_fraud_prob', col('merchant_fraud_prob').cast(FloatType()))"
   ]
  },
  {
   "cell_type": "code",
   "execution_count": 7,
   "metadata": {},
   "outputs": [
    {
     "name": "stdout",
     "output_type": "stream",
     "text": [
      "root\n",
      " |-- consumer_id: integer (nullable = true)\n",
      " |-- state: string (nullable = true)\n",
      " |-- postcode: integer (nullable = true)\n",
      " |-- gender: string (nullable = true)\n",
      " |-- merchant_abn: long (nullable = true)\n",
      " |-- order_datetime: date (nullable = true)\n",
      " |-- dollar_value: double (nullable = true)\n",
      " |-- order_id: string (nullable = true)\n",
      " |-- consumer_fraud_prob: float (nullable = true)\n",
      " |-- merchant_name: string (nullable = true)\n",
      " |-- merchant_desc: string (nullable = true)\n",
      " |-- merchant_revenue_lvl: string (nullable = true)\n",
      " |-- merchant_take_rate: float (nullable = true)\n",
      " |-- merchant_fraud_prob: float (nullable = true)\n",
      " |-- 2021ERP: integer (nullable = true)\n",
      " |-- 2022ERP: integer (nullable = true)\n",
      " |-- popDensity2022: float (nullable = true)\n",
      " |-- SA2_CODE_2021: string (nullable = true)\n",
      " |-- SA2_NAME_2021: string (nullable = true)\n",
      " |-- num_earners: integer (nullable = true)\n",
      " |-- medianAge_earners: float (nullable = true)\n",
      " |-- sum_income: float (nullable = true)\n",
      " |-- median_income: float (nullable = true)\n",
      "\n"
     ]
    }
   ],
   "source": [
    "data.printSchema()"
   ]
  },
  {
   "cell_type": "markdown",
   "metadata": {},
   "source": [
    "## Feature Engineering"
   ]
  },
  {
   "cell_type": "code",
   "execution_count": 8,
   "metadata": {},
   "outputs": [],
   "source": [
    "data = data \\\n",
    "    .withColumn(\"year\", year(\"order_datetime\")) \\\n",
    "    .withColumn(\"month\", month(\"order_datetime\"))"
   ]
  },
  {
   "cell_type": "code",
   "execution_count": 9,
   "metadata": {},
   "outputs": [],
   "source": [
    "data = data.withColumn(\n",
    "    \"population\",\n",
    "    when(col(\"year\") == 2021, col(\"2021ERP\")) \\\n",
    "    .when(col(\"year\") == 2022, col(\"2022ERP\")) \\\n",
    "    .otherwise(0)\n",
    ")\n",
    "data = data.drop('2021ERP', '2022ERP')"
   ]
  },
  {
   "cell_type": "code",
   "execution_count": 10,
   "metadata": {},
   "outputs": [
    {
     "name": "stderr",
     "output_type": "stream",
     "text": [
      "[Stage 46:===========================================>              (6 + 2) / 8]\r"
     ]
    },
    {
     "name": "stdout",
     "output_type": "stream",
     "text": [
      "+-----------+-----+--------+------+------------+--------------+------------------+--------------------+-------------------+--------------------+-------------+--------------------+------------------+-------------------+--------------+-------------+--------------------+-----------+-----------------+-----------+-------------+----+-----+----------+\n",
      "|consumer_id|state|postcode|gender|merchant_abn|order_datetime|      dollar_value|            order_id|consumer_fraud_prob|       merchant_name|merchant_desc|merchant_revenue_lvl|merchant_take_rate|merchant_fraud_prob|popDensity2022|SA2_CODE_2021|       SA2_NAME_2021|num_earners|medianAge_earners| sum_income|median_income|year|month|population|\n",
      "+-----------+-----+--------+------+------------+--------------+------------------+--------------------+-------------------+--------------------+-------------+--------------------+------------------+-------------------+--------------+-------------+--------------------+-----------+-----------------+-----------+-------------+----+-----+----------+\n",
      "|    1000031|  NSW|    2177|Female| 86662713230|    2022-08-11| 26.53316308361773|50ad85ec-9f43-4de...|               null|Vestibulum Accums...|        watch|                   a|              6.41|               null|        3299.9|    127021509|Bonnyrigg Heights...|       8023|             39.0|4.3178733E8|      49045.0|2022|    8|     17122|\n",
      "|    1000031|  NSW|    2177|Female| 49891706470|    2022-10-07|29.909506933618744|d90fee6a-06e8-4b1...|               null|Non Vestibulum In...|         tent|                   a|               5.8|               null|        3299.9|    127021509|Bonnyrigg Heights...|       8023|             39.0|4.3178733E8|      49045.0|2022|   10|     17122|\n",
      "+-----------+-----+--------+------+------------+--------------+------------------+--------------------+-------------------+--------------------+-------------+--------------------+------------------+-------------------+--------------+-------------+--------------------+-----------+-----------------+-----------+-------------+----+-----+----------+\n",
      "only showing top 2 rows\n",
      "\n"
     ]
    },
    {
     "name": "stderr",
     "output_type": "stream",
     "text": [
      "                                                                                \r"
     ]
    }
   ],
   "source": [
    "data.show(2)"
   ]
  },
  {
   "cell_type": "markdown",
   "metadata": {},
   "source": [
    "## Missing values"
   ]
  },
  {
   "cell_type": "code",
   "execution_count": 11,
   "metadata": {},
   "outputs": [
    {
     "name": "stderr",
     "output_type": "stream",
     "text": [
      "[Stage 55:=================================================>      (31 + 4) / 35]\r"
     ]
    },
    {
     "name": "stdout",
     "output_type": "stream",
     "text": [
      "+-----------+-----+--------+------+------------+------------+--------+-------------------+-------------+-------------+--------------------+------------------+-------------------+--------------+-------------+-------------+-----------+-----------------+----------+-------------+----+-----+----------+\n",
      "|consumer_id|state|postcode|gender|merchant_abn|dollar_value|order_id|consumer_fraud_prob|merchant_name|merchant_desc|merchant_revenue_lvl|merchant_take_rate|merchant_fraud_prob|popDensity2022|SA2_CODE_2021|SA2_NAME_2021|num_earners|medianAge_earners|sum_income|median_income|year|month|population|\n",
      "+-----------+-----+--------+------+------------+------------+--------+-------------------+-------------+-------------+--------------------+------------------+-------------------+--------------+-------------+-------------+-----------+-----------------+----------+-------------+----+-----+----------+\n",
      "|          0|    0|       0|     0|           0|           0|       0|           14115157|       580830|       580830|              580830|            580830|           14191446|             0|            0|            0|          0|                0|         0|            0|   0|    0|         0|\n",
      "+-----------+-----+--------+------+------------+------------+--------+-------------------+-------------+-------------+--------------------+------------------+-------------------+--------------+-------------+-------------+-----------+-----------------+----------+-------------+----+-----+----------+\n",
      "\n"
     ]
    },
    {
     "name": "stderr",
     "output_type": "stream",
     "text": [
      "                                                                                \r"
     ]
    }
   ],
   "source": [
    "columns_to_inspect = data.columns\n",
    "columns_to_inspect.remove('order_datetime')\n",
    "data.select([count(when(col(c).isNull(), c)).alias(c) for c in columns_to_inspect]).show()\n",
    "# data.select([count(when(col(c).contains('None') | \\\n",
    "#                             col(c).contains('NULL') | \\\n",
    "#                             (col(c) == '' ) | \\\n",
    "#                             col(c).isNull() | \\\n",
    "#                             isnan(c), c \n",
    "#                            )).alias(c)\n",
    "#                     for c in columns]).show()"
   ]
  },
  {
   "cell_type": "markdown",
   "metadata": {},
   "source": [
    "There are 580830 instances with no merchant information. Since we are ranking the merchants, any transaction without any merchant information is not useful for our final ranking system. If we do not have information about that merchant, then that merchant is likely to not be our client. Therefore, we are removing those instances. \n",
    "\n",
    "In addition, there are many instances with no fraud probability values. Since we train specific machine learning model for the fraud features, we don't need to impute the missing values for fraud features for now."
   ]
  },
  {
   "cell_type": "code",
   "execution_count": 12,
   "metadata": {},
   "outputs": [],
   "source": [
    "filtered = data.filter(col('merchant_name').isNotNull())\n",
    "null_data = data.filter(col('merchant_name').isNull())"
   ]
  },
  {
   "cell_type": "code",
   "execution_count": 13,
   "metadata": {},
   "outputs": [
    {
     "name": "stderr",
     "output_type": "stream",
     "text": [
      "[Stage 61:====================================>                     (5 + 3) / 8]\r"
     ]
    },
    {
     "name": "stdout",
     "output_type": "stream",
     "text": [
      "+--------------------------------------+\n",
      "|# of merchants without any information|\n",
      "+--------------------------------------+\n",
      "|                                   396|\n",
      "+--------------------------------------+\n",
      "\n"
     ]
    },
    {
     "name": "stderr",
     "output_type": "stream",
     "text": [
      "                                                                                \r"
     ]
    }
   ],
   "source": [
    "null_data.agg(*[countDistinct(col('merchant_abn')).alias('# of merchants without any information')]).show()"
   ]
  },
  {
   "cell_type": "code",
   "execution_count": 14,
   "metadata": {},
   "outputs": [
    {
     "name": "stderr",
     "output_type": "stream",
     "text": [
      "[Stage 78:=========================================>               (8 + 3) / 11]\r"
     ]
    },
    {
     "name": "stdout",
     "output_type": "stream",
     "text": [
      "+-------------------------------+\n",
      "|# of merchants with information|\n",
      "+-------------------------------+\n",
      "|                           4026|\n",
      "+-------------------------------+\n",
      "\n"
     ]
    },
    {
     "name": "stderr",
     "output_type": "stream",
     "text": [
      "                                                                                \r"
     ]
    }
   ],
   "source": [
    "filtered.agg(*[countDistinct(col('merchant_abn')).alias('# of merchants with information')]).show()"
   ]
  },
  {
   "cell_type": "code",
   "execution_count": 15,
   "metadata": {},
   "outputs": [
    {
     "name": "stderr",
     "output_type": "stream",
     "text": [
      "[Stage 92:===============================================>        (29 + 5) / 34]\r"
     ]
    },
    {
     "name": "stdout",
     "output_type": "stream",
     "text": [
      "+-----------+-----+--------+------+------------+--------------+------------+--------+-------------------+-------------+-------------+--------------------+------------------+-------------------+--------------+-------------+-------------+-----------+-----------------+----------+-------------+----+-----+----------+\n",
      "|consumer_id|state|postcode|gender|merchant_abn|order_datetime|dollar_value|order_id|consumer_fraud_prob|merchant_name|merchant_desc|merchant_revenue_lvl|merchant_take_rate|merchant_fraud_prob|popDensity2022|SA2_CODE_2021|SA2_NAME_2021|num_earners|medianAge_earners|sum_income|median_income|year|month|population|\n",
      "+-----------+-----+--------+------+------------+--------------+------------+--------+-------------------+-------------+-------------+--------------------+------------------+-------------------+--------------+-------------+-------------+-----------+-----------------+----------+-------------+----+-----+----------+\n",
      "|          0|    0|       0|     0|           0|             0|           0|       0|           13543038|            0|            0|                   0|                 0|           13610672|             0|            0|            0|          0|                0|         0|            0|   0|    0|         0|\n",
      "+-----------+-----+--------+------+------------+--------------+------------+--------+-------------------+-------------+-------------+--------------------+------------------+-------------------+--------------+-------------+-------------+-----------+-----------------+----------+-------------+----+-----+----------+\n",
      "\n"
     ]
    },
    {
     "name": "stderr",
     "output_type": "stream",
     "text": [
      "                                                                                \r"
     ]
    }
   ],
   "source": [
    "filtered.select([count(when(col(c).isNull(), c)).alias(c) for c in filtered.columns]).show()"
   ]
  },
  {
   "cell_type": "markdown",
   "metadata": {},
   "source": [
    "Now, there is no missing data in the dataset except for fraud probabilities"
   ]
  },
  {
   "cell_type": "markdown",
   "metadata": {},
   "source": [
    "## Invalid records detection"
   ]
  },
  {
   "cell_type": "code",
   "execution_count": 16,
   "metadata": {},
   "outputs": [
    {
     "name": "stderr",
     "output_type": "stream",
     "text": [
      "[Stage 98:>                                                         (0 + 8) / 8]\r"
     ]
    },
    {
     "name": "stdout",
     "output_type": "stream",
     "text": [
      "There are 0 instances with invalid numerical values.\n"
     ]
    },
    {
     "name": "stderr",
     "output_type": "stream",
     "text": [
      "                                                                                \r"
     ]
    }
   ],
   "source": [
    "# filter out transactions with negative value or out of relavant range\n",
    "invalid_count = filtered.filter((col('dollar_value') < 0) |\n",
    "                                (col('consumer_id') < 0) |\n",
    "                                (col('postcode') < 0) |\n",
    "                                (col('merchant_take_rate') < 0) |\n",
    "                                (col('merchant_take_rate') > 100) |\n",
    "                                (col('merchant_fraud_prob') < 0) |\n",
    "                                (col('merchant_fraud_prob') > 100) |  \n",
    "                                (col('consumer_fraud_prob') < 0) | \n",
    "                                (col('consumer_fraud_prob') > 100)\n",
    "                                ).count()\n",
    "print(f'There are {invalid_count} instances with invalid numerical values.')"
   ]
  },
  {
   "cell_type": "code",
   "execution_count": 17,
   "metadata": {},
   "outputs": [
    {
     "name": "stderr",
     "output_type": "stream",
     "text": [
      "                                                                                \r"
     ]
    },
    {
     "name": "stdout",
     "output_type": "stream",
     "text": [
      "There are 0 instances before 2021-02-28 and 1567358 instances after 2022-08-28.\n"
     ]
    },
    {
     "name": "stderr",
     "output_type": "stream",
     "text": [
      "                                                                                \r"
     ]
    },
    {
     "name": "stdout",
     "output_type": "stream",
     "text": [
      "In total, there are 1567358 instances outside our specified range.\n"
     ]
    },
    {
     "name": "stderr",
     "output_type": "stream",
     "text": [
      "[Stage 124:===================================>                     (5 + 3) / 8]\r"
     ]
    },
    {
     "name": "stdout",
     "output_type": "stream",
     "text": [
      "+-----------+-----+--------+------+------------+--------------+------------------+--------------------+-------------------+--------------------+-------------+--------------------+------------------+-------------------+--------------+-------------+--------------------+-----------+-----------------+-----------+-------------+----+-----+----------+\n",
      "|consumer_id|state|postcode|gender|merchant_abn|order_datetime|      dollar_value|            order_id|consumer_fraud_prob|       merchant_name|merchant_desc|merchant_revenue_lvl|merchant_take_rate|merchant_fraud_prob|popDensity2022|SA2_CODE_2021|       SA2_NAME_2021|num_earners|medianAge_earners| sum_income|median_income|year|month|population|\n",
      "+-----------+-----+--------+------+------------+--------------+------------------+--------------------+-------------------+--------------------+-------------+--------------------+------------------+-------------------+--------------+-------------+--------------------+-----------+-----------------+-----------+-------------+----+-----+----------+\n",
      "|    1000031|  NSW|    2177|Female| 49891706470|    2022-10-07|29.909506933618744|d90fee6a-06e8-4b1...|               null|Non Vestibulum In...|         tent|                   a|               5.8|               null|        3299.9|    127021509|Bonnyrigg Heights...|       8023|             39.0|4.3178733E8|      49045.0|2022|   10|     17122|\n",
      "|    1000031|  NSW|    2177|Female| 51550230865|    2022-10-06|178.82266335089085|17bbde9a-2d00-495...|               null|        Mauris Corp.|        watch|                   b|              4.32|               null|        3299.9|    127021509|Bonnyrigg Heights...|       8023|             39.0|4.3178733E8|      49045.0|2022|   10|     17122|\n",
      "|    1000031|  NSW|    2177|Female| 33076003501|    2022-10-07| 584.3741672745319|9b2bcee6-e911-43b...|               null|    Sem Eget Limited|     florists|                   c|              1.47|               null|        3299.9|    127021509|Bonnyrigg Heights...|       8023|             39.0|4.3178733E8|      49045.0|2022|   10|     17122|\n",
      "|    1000031|  NSW|    2177|Female| 13565102775|    2022-10-08|100.57361758873202|c56554a0-48dc-43e...|               null|       Malesuada LLP|         gift|                   c|              2.31|               null|        3299.9|    127021509|Bonnyrigg Heights...|       8023|             39.0|4.3178733E8|      49045.0|2022|   10|     17122|\n",
      "|    1000031|  NSW|    2177|Female| 87719724258|    2022-09-03|189.85832506594937|833f7c6d-228b-484...|               null|Suspendisse Eleif...|        watch|                   a|              6.28|               null|        3299.9|    127021509|Bonnyrigg Heights...|       8023|             39.0|4.3178733E8|      49045.0|2022|    9|     17122|\n",
      "+-----------+-----+--------+------+------------+--------------+------------------+--------------------+-------------------+--------------------+-------------+--------------------+------------------+-------------------+--------------+-------------+--------------------+-----------+-----------------+-----------+-------------+----+-----+----------+\n",
      "only showing top 5 rows\n",
      "\n"
     ]
    },
    {
     "name": "stderr",
     "output_type": "stream",
     "text": [
      "                                                                                \r"
     ]
    }
   ],
   "source": [
    "# check whether the transactions are contained within the predefined timeframe\n",
    "BEGIN_DATE = \"2021-02-28\"\n",
    "END_DATE = \"2022-08-28\"\n",
    "out_range = filtered.filter(~(col('order_datetime').between(BEGIN_DATE, END_DATE)))\n",
    "before_range = filtered.filter((col('order_datetime') < BEGIN_DATE))\n",
    "after_range = filtered.filter((col('order_datetime') > END_DATE))\n",
    "print(f'There are {before_range.count()} instances before 2021-02-28 and {after_range.count()} instances after 2022-08-28.')\n",
    "print(f'In total, there are {out_range.count()} instances outside our specified range.')\n",
    "\n",
    "out_range.show(5)"
   ]
  },
  {
   "cell_type": "markdown",
   "metadata": {},
   "source": [
    "There are 1567358 instances that are outside our datetime range. All of the instances outside the range are dated after 2022-08-28. Although it is outside our specified range, we are retaining these instances."
   ]
  },
  {
   "cell_type": "code",
   "execution_count": 18,
   "metadata": {},
   "outputs": [
    {
     "name": "stderr",
     "output_type": "stream",
     "text": [
      "23/10/20 13:26:42 WARN package: Truncated the string representation of a plan since it was too large. This behavior can be adjusted by setting 'spark.sql.debug.maxToStringFields'.\n",
      "[Stage 132:=================================>                      (9 + 6) / 15]\r"
     ]
    },
    {
     "name": "stdout",
     "output_type": "stream",
     "text": [
      "+-------+--------------------+------------------+------------------+-----------------+------------------+--------------------+------------------+------------------+\n",
      "|summary|        dollar_value|    popDensity2022|        population|      num_earners| medianAge_earners|          sum_income|     median_income|merchant_take_rate|\n",
      "+-------+--------------------+------------------+------------------+-----------------+------------------+--------------------+------------------+------------------+\n",
      "|  count|            13614675|          13614675|          13614675|         13614675|          13614675|            13614675|          13614675|          13614675|\n",
      "|   mean|  158.43608405018054|1073.8380993153958|10455.684719539762|6782.159867202118|44.933916233769814| 5.083780887499887E8| 51109.26665649382| 4.588886960094146|\n",
      "| stddev|   461.4935000146336|2135.3645470581823| 6433.840502722946|5168.659116963277| 4.972648523635417|5.2382917373695606E8|11524.264350327174|1.7384891948563357|\n",
      "|    min|9.756658099412162E-8|               0.0|                 0|                3|              23.0|             41157.0|            8169.0|               0.1|\n",
      "|    max|  105193.88578925544|           33456.2|             29624|            28452|              66.0|         3.5121825E9|          147857.0|               7.0|\n",
      "+-------+--------------------+------------------+------------------+-----------------+------------------+--------------------+------------------+------------------+\n",
      "\n"
     ]
    },
    {
     "name": "stderr",
     "output_type": "stream",
     "text": [
      "                                                                                \r"
     ]
    }
   ],
   "source": [
    "# get descriptive statistics for numerical features\n",
    "numerical_columns = ['dollar_value', 'popDensity2022', 'population', \n",
    "                     'num_earners', 'medianAge_earners', 'sum_income', \n",
    "                     'median_income', 'merchant_take_rate']\n",
    "filtered.describe(numerical_columns).show()"
   ]
  },
  {
   "cell_type": "markdown",
   "metadata": {},
   "source": [
    "For dollar values, we have very small values that don't make sense. Since any transaction amount can't be less than a cent, we are putting the minimum threshold of 0.01 on dollar values. In the distribution of these suspicious transactions, however, may be hidden patterns about some merchants. For example, some merchants may be creating these transactions with small values to artificially raise the performance measures of the business. Therefore, we need to consider them separately."
   ]
  },
  {
   "cell_type": "code",
   "execution_count": 19,
   "metadata": {},
   "outputs": [
    {
     "name": "stderr",
     "output_type": "stream",
     "text": [
      "                                                                                \r"
     ]
    },
    {
     "name": "stdout",
     "output_type": "stream",
     "text": [
      "There are 1014 instances with very small dollar values.\n"
     ]
    },
    {
     "name": "stderr",
     "output_type": "stream",
     "text": [
      "                                                                                \r"
     ]
    },
    {
     "name": "stdout",
     "output_type": "stream",
     "text": [
      "+-------------------------------------------+\n",
      "|# of merchants with suspicious transactions|\n",
      "+-------------------------------------------+\n",
      "|                                        177|\n",
      "+-------------------------------------------+\n",
      "\n"
     ]
    }
   ],
   "source": [
    "# print out number of merchants that are making transactions with revenue less than a cent\n",
    "small_values = filtered.filter(col('dollar_value') < 0.01)\n",
    "print(f'There are {small_values.count()} instances with very small dollar values.')\n",
    "small_values.agg(countDistinct(col('merchant_abn')).alias('# of merchants with suspicious transactions')).show()"
   ]
  },
  {
   "cell_type": "code",
   "execution_count": 20,
   "metadata": {},
   "outputs": [
    {
     "name": "stdout",
     "output_type": "stream",
     "text": [
      "+------------+-----------------------------+\n",
      "|merchant_abn|num_small_valued_transactions|\n",
      "+------------+-----------------------------+\n",
      "| 63290521567|                           77|\n",
      "| 46804135891|                           72|\n",
      "| 45629217853|                           68|\n",
      "| 80324045558|                           53|\n",
      "| 20985347699|                           51|\n",
      "| 19933438190|                           50|\n",
      "| 91923722701|                           50|\n",
      "| 17324645993|                           46|\n",
      "| 80682333501|                           29|\n",
      "| 70038202360|                           19|\n",
      "+------------+-----------------------------+\n",
      "only showing top 10 rows\n",
      "\n"
     ]
    }
   ],
   "source": [
    "# print out hows many small transactions those merchants are making\n",
    "small_merchants = small_values.groupBy('merchant_abn') \\\n",
    "    .agg(count('merchant_abn').alias('num_small_valued_transactions'))\n",
    "small_merchants.sort(col('num_small_valued_transactions').desc()).show(10)"
   ]
  },
  {
   "cell_type": "markdown",
   "metadata": {},
   "source": [
    "We have found out that these merchants have a lot of transactions with unusually small dollar values. Compared to the number of transactions that we have across the timeframe, the number of transactions with small values are very small."
   ]
  },
  {
   "cell_type": "code",
   "execution_count": 21,
   "metadata": {},
   "outputs": [
    {
     "data": {
      "image/png": "[encoded data removed]",
      "text/plain": [
       "<Figure size 700x400 with 1 Axes>"
      ]
     },
     "metadata": {},
     "output_type": "display_data"
    }
   ],
   "source": [
    "small_values = small_values.withColumn(\"year_month\", date_format(small_values[\"order_datetime\"], \"yyyy-MM\"))\n",
    "\n",
    "# Group by the 'year_month' column and count the occurrences in each group\n",
    "small_dates = small_values.groupBy(\"year_month\").agg(count(\"*\").alias(\"count\")).sort(col('year_month')).toPandas()\n",
    "\n",
    "fig = plt.figure(figsize = (7, 4))\n",
    "plt.bar(small_dates['year_month'], small_dates['count'], color ='maroon',\n",
    "        width = 0.4)\n",
    "plt.xticks(rotation=45)\n",
    "plt.xlabel(\"Months\")\n",
    "plt.ylabel(\"# of suspicious transactions\")\n",
    "plt.title(\"Distribution of suspicious transactions over time\")\n",
    "plt.savefig('../plots/dist_small_values.png', bbox_inches='tight')\n",
    "plt.show()"
   ]
  },
  {
   "cell_type": "code",
   "execution_count": 22,
   "metadata": {},
   "outputs": [
    {
     "name": "stderr",
     "output_type": "stream",
     "text": [
      "                                                                                \r"
     ]
    },
    {
     "data": {
      "image/png": "[encoded data removed]",
      "text/plain": [
       "<Figure size 700x400 with 1 Axes>"
      ]
     },
     "metadata": {},
     "output_type": "display_data"
    }
   ],
   "source": [
    "monthly_grouped = filtered.withColumn(\"year_month\", date_format(small_values[\"order_datetime\"], \"yyyy-MM\"))\n",
    "monthly_data = monthly_grouped.groupBy(\"year_month\").agg(count(\"*\").alias(\"count\")).sort(col('year_month')).toPandas()\n",
    "fig = plt.figure(figsize = (7, 4))\n",
    "plt.bar(monthly_data['year_month'], monthly_data['count'], color ='maroon',\n",
    "        width = 0.4)\n",
    "plt.xticks(rotation=45)\n",
    "plt.xlabel(\"Months\")\n",
    "plt.ylabel(\"Total number of transactions\")\n",
    "plt.title(\"Distribution of number of transactions over time\")\n",
    "plt.savefig('../plots/dist_total_transactions.png', bbox_inches='tight')\n",
    "plt.show()"
   ]
  },
  {
   "cell_type": "markdown",
   "metadata": {},
   "source": [
    "The distribution of suspicious transactions follow that of all transactions. Since there is no special trend, we conclude that the suspicious transactions probably emerged from human errors. Thus, we are removing all transactions with dollar_value less than 0.01."
   ]
  },
  {
   "cell_type": "code",
   "execution_count": 23,
   "metadata": {},
   "outputs": [
    {
     "name": "stderr",
     "output_type": "stream",
     "text": [
      "[Stage 215:==================================================>     (9 + 1) / 10]\r"
     ]
    },
    {
     "name": "stdout",
     "output_type": "stream",
     "text": [
      "We have removed 1014 instances and we are left with 13613661 instances.\n"
     ]
    },
    {
     "name": "stderr",
     "output_type": "stream",
     "text": [
      "                                                                                \r"
     ]
    }
   ],
   "source": [
    "filtered = filtered.filter(col('dollar_value') >= 0.01)\n",
    "print(f'We have removed {small_values.count()} instances and we are left with {filtered.count()} instances.')"
   ]
  },
  {
   "cell_type": "code",
   "execution_count": 24,
   "metadata": {},
   "outputs": [
    {
     "name": "stderr",
     "output_type": "stream",
     "text": [
      "                                                                                \r"
     ]
    }
   ],
   "source": [
    "filtered \\\n",
    "    .coalesce(1) \\\n",
    "    .write \\\n",
    "    .mode('overwrite') \\\n",
    "    .parquet(\"../data/raw/transactions_clean\")"
   ]
  }
 ],
 "metadata": {
  "kernelspec": {
   "display_name": "Python 3 (ipykernel)",
   "language": "python",
   "name": "python3"
  },
  "language_info": {
   "codemirror_mode": {
    "name": "ipython",
    "version": 3
   },
   "file_extension": ".py",
   "mimetype": "text/x-python",
   "name": "python",
   "nbconvert_exporter": "python",
   "pygments_lexer": "ipython3",
   "version": "3.11.4"
  }
 },
 "nbformat": 4,
 "nbformat_minor": 4
}
