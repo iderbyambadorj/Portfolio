{
 "cells": [
  {
   "cell_type": "markdown",
   "metadata": {},
   "source": [
    "# Implementation of Fraud Detection model"
   ]
  },
  {
   "cell_type": "markdown",
   "metadata": {},
   "source": [
    "The aim of this notebook is to implement fraud detection model using random forest classifier, hence detect any possible fraudulent transactions in the entire dataset."
   ]
  },
  {
   "cell_type": "markdown",
   "metadata": {},
   "source": [
    "This is going to be done in the following steps:\n",
    "\n",
    "1. Read in and prepare the data\n",
    "\n",
    "2. Tune the hyperparameters of the random forest classifiers\n",
    "\n",
    "3. Train and test the validity of the models\n",
    "\n",
    "4. Use those models to make predictions on the entire transaction datasets (whether or not the transaction is fradulent)\n",
    "\n",
    "5. Calculate *reliability* of each merchant, and their consumer base"
   ]
  },
  {
   "cell_type": "code",
   "execution_count": 1,
   "metadata": {},
   "outputs": [],
   "source": [
    "import pandas as pd\n",
    "import numpy as np\n",
    "from sklearn.preprocessing import OneHotEncoder, StandardScaler\n",
    "from sklearn.pipeline import Pipeline\n",
    "from sklearn.ensemble import RandomForestClassifier\n",
    "from sklearn.model_selection import cross_val_score, GridSearchCV\n",
    "from sklearn.model_selection import train_test_split\n",
    "from sklearn.metrics import ConfusionMatrixDisplay, classification_report\n",
    "from scipy.sparse import hstack\n",
    "import plotly.graph_objects as go\n",
    "import matplotlib.pyplot as plt\n",
    "\n",
    "FRAUD_THRESHOLD = 50\n",
    "TUNE_PARAMETERS = True\n",
    "categorical_features = ['order_datetime', 'state', 'gender', 'merchant_revenue_lvl']"
   ]
  },
  {
   "cell_type": "markdown",
   "metadata": {},
   "source": [
    "### Set up functions for the model"
   ]
  },
  {
   "cell_type": "code",
   "execution_count": 2,
   "metadata": {},
   "outputs": [],
   "source": [
    "def encode_data(data):\n",
    "    \"\"\"\n",
    "    This function encodes all categorical features and returns the concatenated dataframe.\n",
    "    Arguments:\n",
    "    data: filtered, transformed and encoded dataset in the form of pd dataframe.\n",
    "    \"\"\"\n",
    "    y = data['is_fraud']\n",
    "    data = data.drop(['is_fraud'], axis=1)\n",
    "    \n",
    "    categorical_cols = data.select_dtypes(include=['object']).columns.tolist()\n",
    "    numerical_cols = data.select_dtypes(exclude=['object']).columns.tolist()\n",
    "    \n",
    "    encoder = OneHotEncoder(handle_unknown='ignore', sparse_output=True, min_frequency=2, drop='first')\n",
    "    encoded_categorical = encoder.fit_transform(data[categorical_cols])\n",
    "    \n",
    "    # Keep the numerical features\n",
    "    numerical_data = data[numerical_cols].values\n",
    "\n",
    "    # Initialize and fit the StandardScaler on the training data for the numerical features\n",
    "    scaler = StandardScaler()\n",
    "    scaler.fit(numerical_data)\n",
    "\n",
    "    # Transform the numerical features for both training and test datasets\n",
    "    scaled_numerical = scaler.transform(numerical_data)\n",
    "\n",
    "    # Concatenate the encoded categorical features and numerical features for both datasets\n",
    "    X_encoded = hstack([encoded_categorical, scaled_numerical])\n",
    "\n",
    "    return (X_encoded, y)\n"
   ]
  },
  {
   "cell_type": "code",
   "execution_count": 3,
   "metadata": {},
   "outputs": [],
   "source": [
    "def train_rfc(X, y, name, n=100):\n",
    "    \"\"\"\n",
    "    This function trains the Random Forest classifier model on the dataset, \n",
    "    prints out the cross evaluation metrics and prints the classification report. \n",
    "\n",
    "    Arguments:\n",
    "    X, y: filtered, transformed and encoded dataset in the form of pd dataframe.\n",
    "    name: 'consumer' or 'merchant'. A string that helps differentiate between \n",
    "            the two datasets\n",
    "    n: parameter value for n_estimators\n",
    "    \"\"\"\n",
    "    \n",
    "    clf = Pipeline([('rfc', RandomForestClassifier(n_estimators=n))])\n",
    "\n",
    "\n",
    "    # Calculate evaluation metrics for the cross validation\n",
    "    accuracy = np.round(np.mean(cross_val_score(clf, X, y, scoring='accuracy')), 4)\n",
    "    precision = np.round(np.mean(cross_val_score(clf, X, y, scoring='precision_macro')), 4)\n",
    "    recall = np.round(np.mean(cross_val_score(clf, X, y, scoring='recall_macro')), 4)\n",
    "    f1 = np.round(np.mean(cross_val_score(clf, X, y, scoring='f1_macro')), 4)\n",
    "\n",
    "    print(f'Cross validation metrics for {name}')\n",
    "    print(f'avg accuracy: {accuracy}')\n",
    "    print(f'avg precision: {precision}')\n",
    "    print(f'avg recall: {recall}')\n",
    "    print(f'avg f1 score: {f1}')\n",
    "\n",
    "    # Train and test the model for visualization purposes\n",
    "    X_train, X_test, y_train, y_test = train_test_split(X, y, test_size=0.4, random_state=42)\n",
    "\n",
    "\n",
    "    clf = Pipeline([('rfc', RandomForestClassifier(n_estimators=n))])\n",
    "    clf.fit(X_train, y_train)\n",
    "    y_pred = clf.predict(X_test)\n",
    "\n",
    "    print(classification_report(y_test, y_pred))"
   ]
  },
  {
   "cell_type": "code",
   "execution_count": 4,
   "metadata": {},
   "outputs": [],
   "source": [
    "def preprocess_test(train_data, test_data):\n",
    "    \"\"\"\n",
    "    This function performs encoding and standardizing for the test data\n",
    "    \"\"\"\n",
    "    \n",
    "    categorical_cols = train_data.select_dtypes(include=['object']).columns.tolist()\n",
    "    numerical_cols = train_data.select_dtypes(exclude=['object']).columns.tolist()\n",
    "    \n",
    "    encoder = OneHotEncoder(handle_unknown='ignore', sparse_output=True, min_frequency=2, drop='first')\n",
    "    encoder.fit(train_data[categorical_cols])\n",
    "    # Transform the categorical features in both the training and test datasets\n",
    "    encoded_categorical_train = encoder.transform(train_data[categorical_cols])\n",
    "    encoded_categorical_test = encoder.transform(test_data[categorical_cols])\n",
    "    \n",
    "    # Keep the numerical features\n",
    "    numerical_train = train_data[numerical_cols].values\n",
    "    numerical_test = test_data[numerical_cols].values\n",
    "\n",
    "    # Initialize and fit the StandardScaler on the training data for the numerical features\n",
    "    scaler = StandardScaler()\n",
    "    scaler.fit(numerical_train)\n",
    "\n",
    "    # Transform the numerical features for both training and test datasets\n",
    "    scaled_numerical_train = scaler.transform(numerical_train)\n",
    "    scaled_numerical_test = scaler.transform(numerical_test)\n",
    "\n",
    "    # Concatenate the encoded categorical features and numerical features for both datasets\n",
    "    X_train_encoded = hstack([encoded_categorical_train, scaled_numerical_train])\n",
    "    X_test_encoded = hstack([encoded_categorical_test, scaled_numerical_test])\n",
    "\n",
    "    return (X_train_encoded, X_test_encoded)"
   ]
  },
  {
   "cell_type": "code",
   "execution_count": 5,
   "metadata": {},
   "outputs": [],
   "source": [
    "def predict_rfc(X_train, y_train, X_test, name, n=100):\n",
    "    \"\"\"\n",
    "    This function trains Random Forest Classifier and returns the predicted labels\n",
    "    for the test data.\n",
    "    Arguments:\n",
    "    X_train, y_train: filtered, transformed and encoded dataset in the form \n",
    "            of pd dataframe.\n",
    "    X_test: filtered, transformed and encoded test dataset in the form of pd\n",
    "            dataframe\n",
    "    name: 'consumer' or 'merchant'. A string that helps differentiate between \n",
    "            the two datasets\n",
    "    n: parameter value for n_estimators\n",
    "    \"\"\"\n",
    "\n",
    "    clf = Pipeline([('rfc', RandomForestClassifier(n_estimators=n))])\n",
    "\n",
    "    clf.fit(X_train, y_train)\n",
    "    y_pred = clf.predict(X_test)\n",
    "\n",
    "    col_name = name + '_is_fraud'\n",
    "    y_pred = pd.DataFrame(y_pred, columns=[col_name])\n",
    "    return y_pred"
   ]
  },
  {
   "cell_type": "markdown",
   "metadata": {},
   "source": [
    "## 1. Prepare datasets"
   ]
  },
  {
   "cell_type": "markdown",
   "metadata": {},
   "source": [
    "### Read in the data"
   ]
  },
  {
   "cell_type": "code",
   "execution_count": 6,
   "metadata": {},
   "outputs": [
    {
     "name": "stdout",
     "output_type": "stream",
     "text": [
      "(75272, 15)\n"
     ]
    }
   ],
   "source": [
    "data = pd.read_parquet('../data/raw/fraud_data')\n",
    "print(data.shape)"
   ]
  },
  {
   "cell_type": "code",
   "execution_count": 7,
   "metadata": {},
   "outputs": [],
   "source": [
    "consumer_data = data[data['consumer_fraud_prob'].notnull()]\n",
    "merchant_data = data[data['merchant_fraud_prob'].notnull()]"
   ]
  },
  {
   "cell_type": "markdown",
   "metadata": {},
   "source": [
    "### Apply Tranformations\n",
    "1. Create a feature called is_fraud that equals True when the fraud probability is greater than the threshold (50%).\n",
    "2. Take natural logarithm of the feature dollar_value to account for skewness in the distribution."
   ]
  },
  {
   "cell_type": "code",
   "execution_count": 8,
   "metadata": {},
   "outputs": [
    {
     "name": "stderr",
     "output_type": "stream",
     "text": [
      "/var/folders/np/m1q4q1w54q59sj70tvylvg5m0000gn/T/ipykernel_2959/3195162662.py:2: SettingWithCopyWarning: \n",
      "A value is trying to be set on a copy of a slice from a DataFrame.\n",
      "Try using .loc[row_indexer,col_indexer] = value instead\n",
      "\n",
      "See the caveats in the documentation: https://pandas.pydata.org/pandas-docs/stable/user_guide/indexing.html#returning-a-view-versus-a-copy\n",
      "  consumer_data['is_fraud'] = consumer_data['consumer_fraud_prob'] \\\n",
      "/var/folders/np/m1q4q1w54q59sj70tvylvg5m0000gn/T/ipykernel_2959/3195162662.py:4: SettingWithCopyWarning: \n",
      "A value is trying to be set on a copy of a slice from a DataFrame.\n",
      "Try using .loc[row_indexer,col_indexer] = value instead\n",
      "\n",
      "See the caveats in the documentation: https://pandas.pydata.org/pandas-docs/stable/user_guide/indexing.html#returning-a-view-versus-a-copy\n",
      "  merchant_data['is_fraud'] = merchant_data['merchant_fraud_prob'] \\\n",
      "/var/folders/np/m1q4q1w54q59sj70tvylvg5m0000gn/T/ipykernel_2959/3195162662.py:7: SettingWithCopyWarning: \n",
      "A value is trying to be set on a copy of a slice from a DataFrame\n",
      "\n",
      "See the caveats in the documentation: https://pandas.pydata.org/pandas-docs/stable/user_guide/indexing.html#returning-a-view-versus-a-copy\n",
      "  consumer_data.drop(['consumer_fraud_prob', 'merchant_fraud_prob', 'year', 'month'], axis=1, inplace=True)\n",
      "/var/folders/np/m1q4q1w54q59sj70tvylvg5m0000gn/T/ipykernel_2959/3195162662.py:8: SettingWithCopyWarning: \n",
      "A value is trying to be set on a copy of a slice from a DataFrame\n",
      "\n",
      "See the caveats in the documentation: https://pandas.pydata.org/pandas-docs/stable/user_guide/indexing.html#returning-a-view-versus-a-copy\n",
      "  merchant_data.drop(['consumer_fraud_prob', 'merchant_fraud_prob', 'year', 'month'], axis=1, inplace=True)\n",
      "/var/folders/np/m1q4q1w54q59sj70tvylvg5m0000gn/T/ipykernel_2959/3195162662.py:11: SettingWithCopyWarning: \n",
      "A value is trying to be set on a copy of a slice from a DataFrame.\n",
      "Try using .loc[row_indexer,col_indexer] = value instead\n",
      "\n",
      "See the caveats in the documentation: https://pandas.pydata.org/pandas-docs/stable/user_guide/indexing.html#returning-a-view-versus-a-copy\n",
      "  consumer_data['dollar_value'] = consumer_data['dollar_value'].apply(lambda x: np.log(x))\n",
      "/var/folders/np/m1q4q1w54q59sj70tvylvg5m0000gn/T/ipykernel_2959/3195162662.py:12: SettingWithCopyWarning: \n",
      "A value is trying to be set on a copy of a slice from a DataFrame.\n",
      "Try using .loc[row_indexer,col_indexer] = value instead\n",
      "\n",
      "See the caveats in the documentation: https://pandas.pydata.org/pandas-docs/stable/user_guide/indexing.html#returning-a-view-versus-a-copy\n",
      "  merchant_data['dollar_value'] = merchant_data['dollar_value'].apply(lambda x: np.log(x))\n"
     ]
    }
   ],
   "source": [
    "# Add a label is_fraud using the threshold value set above\n",
    "consumer_data['is_fraud'] = consumer_data['consumer_fraud_prob'] \\\n",
    "    .apply(lambda x: True if float(x) >= FRAUD_THRESHOLD else False)\n",
    "merchant_data['is_fraud'] = merchant_data['merchant_fraud_prob'] \\\n",
    "    .apply(lambda x: True if float(x) >= FRAUD_THRESHOLD else False)\n",
    "\n",
    "consumer_data.drop(['consumer_fraud_prob', 'merchant_fraud_prob', 'year', 'month'], axis=1, inplace=True)\n",
    "merchant_data.drop(['consumer_fraud_prob', 'merchant_fraud_prob', 'year', 'month'], axis=1, inplace=True)\n",
    "\n",
    "# Take log(dollar_value)\n",
    "consumer_data['dollar_value'] = consumer_data['dollar_value'].apply(lambda x: np.log(x))\n",
    "merchant_data['dollar_value'] = merchant_data['dollar_value'].apply(lambda x: np.log(x))"
   ]
  },
  {
   "cell_type": "code",
   "execution_count": 9,
   "metadata": {},
   "outputs": [
    {
     "name": "stdout",
     "output_type": "stream",
     "text": [
      "(71633, 12)\n"
     ]
    },
    {
     "data": {
      "text/plain": [
       "Index(['state', 'gender', 'order_datetime', 'dollar_value',\n",
       "       'merchant_revenue_lvl', 'merchant_take_rate', 'popDensity2022',\n",
       "       'num_earners', 'medianAge_earners', 'median_income', 'population',\n",
       "       'is_fraud'],\n",
       "      dtype='object')"
      ]
     },
     "execution_count": 9,
     "metadata": {},
     "output_type": "execute_result"
    }
   ],
   "source": [
    "# features used to train consumer fraud detection model\n",
    "print(consumer_data.shape)\n",
    "consumer_data.columns"
   ]
  },
  {
   "cell_type": "code",
   "execution_count": 10,
   "metadata": {},
   "outputs": [
    {
     "name": "stdout",
     "output_type": "stream",
     "text": [
      "(4003, 12)\n"
     ]
    },
    {
     "data": {
      "text/plain": [
       "Index(['state', 'gender', 'order_datetime', 'dollar_value',\n",
       "       'merchant_revenue_lvl', 'merchant_take_rate', 'popDensity2022',\n",
       "       'num_earners', 'medianAge_earners', 'median_income', 'population',\n",
       "       'is_fraud'],\n",
       "      dtype='object')"
      ]
     },
     "execution_count": 10,
     "metadata": {},
     "output_type": "execute_result"
    }
   ],
   "source": [
    "# features used to train merchant fraud detection model (same as above)\n",
    "print(merchant_data.shape)\n",
    "merchant_data.columns"
   ]
  },
  {
   "cell_type": "markdown",
   "metadata": {},
   "source": [
    "### Encode the training data"
   ]
  },
  {
   "cell_type": "code",
   "execution_count": 11,
   "metadata": {},
   "outputs": [
    {
     "name": "stdout",
     "output_type": "stream",
     "text": [
      "(71633, 384)\n",
      "(4003, 66)\n"
     ]
    }
   ],
   "source": [
    "consumer_encoded, consumer_y = encode_data(consumer_data)\n",
    "merchant_encoded, merchant_y = encode_data(merchant_data)\n",
    "print(consumer_encoded.shape)\n",
    "print(merchant_encoded.shape)"
   ]
  },
  {
   "cell_type": "markdown",
   "metadata": {},
   "source": [
    "## 2. Tuning the hyperparameters"
   ]
  },
  {
   "cell_type": "code",
   "execution_count": 14,
   "metadata": {},
   "outputs": [
    {
     "name": "stdout",
     "output_type": "stream",
     "text": [
      "Fitting 4 folds for each of 5 candidates, totalling 20 fits\n"
     ]
    },
    {
     "name": "stdout",
     "output_type": "stream",
     "text": [
      "Best Parameter for consumer dataset: {'rfc__n_estimators': 250}\n",
      "Fitting 4 folds for each of 5 candidates, totalling 20 fits\n",
      "Best Parameter for merchant dataset: {'rfc__n_estimators': 150}\n"
     ]
    }
   ],
   "source": [
    "rfc_pipeline = Pipeline([('rfc', RandomForestClassifier())])\n",
    "rfc_param_grid = {'rfc__n_estimators': [50, 100, 150, 200, 250]}\n",
    "\n",
    "X_consumer = consumer_encoded\n",
    "y_consumer = consumer_y\n",
    "\n",
    "X_merchant = merchant_encoded\n",
    "y_merchant = merchant_y\n",
    "\n",
    "if TUNE_PARAMETERS:\n",
    "    # Tuning for consumer dataset\n",
    "    gs = GridSearchCV(rfc_pipeline,\n",
    "                  param_grid=rfc_param_grid,\n",
    "                  scoring='precision',\n",
    "                  cv=4,\n",
    "                  n_jobs=-1,\n",
    "                  verbose=1)\n",
    "    gs.fit(X_consumer, y_consumer)\n",
    "    best_params = gs.best_params_\n",
    "    print('Best Parameter for consumer dataset:', best_params)\n",
    "\n",
    "    # Tuning for merchant dataset\n",
    "    gs = GridSearchCV(rfc_pipeline,\n",
    "                  param_grid=rfc_param_grid,\n",
    "                  scoring='precision',\n",
    "                  cv=4,\n",
    "                  n_jobs=-1,\n",
    "                  verbose=1)\n",
    "    gs.fit(X_merchant, y_merchant)\n",
    "    best_params = gs.best_params_\n",
    "    print('Best Parameter for merchant dataset:', best_params)"
   ]
  },
  {
   "cell_type": "markdown",
   "metadata": {},
   "source": [
    "## 3. Train and test the Random Forest Classifier Model"
   ]
  },
  {
   "cell_type": "code",
   "execution_count": 12,
   "metadata": {},
   "outputs": [
    {
     "name": "stdout",
     "output_type": "stream",
     "text": [
      "Cross validation metrics for consumer\n",
      "avg accuracy: 0.9866\n",
      "avg precision: 0.843\n",
      "avg recall: 0.5976\n",
      "avg f1 score: 0.6457\n",
      "              precision    recall  f1-score   support\n",
      "\n",
      "       False       0.99      1.00      0.99     28218\n",
      "        True       0.73      0.25      0.38       436\n",
      "\n",
      "    accuracy                           0.99     28654\n",
      "   macro avg       0.86      0.63      0.69     28654\n",
      "weighted avg       0.98      0.99      0.98     28654\n",
      "\n"
     ]
    },
    {
     "data": {
      "image/png": "[encoded data removed]",
      "text/plain": [
       "<Figure size 640x480 with 2 Axes>"
      ]
     },
     "metadata": {},
     "output_type": "display_data"
    }
   ],
   "source": [
    "train_rfc(consumer_encoded, consumer_y, 'consumer', n=250)"
   ]
  },
  {
   "cell_type": "code",
   "execution_count": 13,
   "metadata": {},
   "outputs": [
    {
     "name": "stdout",
     "output_type": "stream",
     "text": [
      "Cross validation metrics for merchant\n",
      "avg accuracy: 0.9915\n",
      "avg precision: 0.9744\n",
      "avg recall: 0.7909\n",
      "avg f1 score: 0.8577\n",
      "              precision    recall  f1-score   support\n",
      "\n",
      "       False       0.99      1.00      1.00      1578\n",
      "        True       0.80      0.50      0.62        24\n",
      "\n",
      "    accuracy                           0.99      1602\n",
      "   macro avg       0.90      0.75      0.81      1602\n",
      "weighted avg       0.99      0.99      0.99      1602\n",
      "\n"
     ]
    },
    {
     "data": {
      "image/png": "[encoded data removed]",
      "text/plain": [
       "<Figure size 640x480 with 2 Axes>"
      ]
     },
     "metadata": {},
     "output_type": "display_data"
    }
   ],
   "source": [
    "train_rfc(merchant_encoded, merchant_y, 'merchant', n=150)"
   ]
  },
  {
   "cell_type": "markdown",
   "metadata": {},
   "source": [
    "Since we don't want to miss out on non-fraudulent transactions by labelling them incorrectly, we are maximizing the precision. "
   ]
  },
  {
   "cell_type": "markdown",
   "metadata": {},
   "source": [
    "## 4. Make prediction on the whole transaction dataset"
   ]
  },
  {
   "cell_type": "code",
   "execution_count": 14,
   "metadata": {},
   "outputs": [],
   "source": [
    "full_data = pd.read_parquet('../data/raw/transactions_clean')\n",
    "# Keep the order_id separate as we need this to join it back to the\n",
    "# transactions dataset\n",
    "full_data_key = full_data['order_id']\n",
    "\n",
    "# Make sure that the columns match between train and test data\n",
    "X_test = full_data.drop(['merchant_abn', 'order_id', 'consumer_id', 'postcode', \n",
    "                         'sum_income', 'merchant_name', 'merchant_desc', \n",
    "                         'consumer_fraud_prob', 'merchant_fraud_prob', 'year', \n",
    "                         'month'], axis=1)"
   ]
  },
  {
   "cell_type": "code",
   "execution_count": 15,
   "metadata": {},
   "outputs": [],
   "source": [
    "X_test['dollar_value'] = X_test['dollar_value'].apply(lambda x: np.log(x))"
   ]
  },
  {
   "cell_type": "markdown",
   "metadata": {},
   "source": [
    "### Train and predict the consumer fraud data"
   ]
  },
  {
   "cell_type": "code",
   "execution_count": 16,
   "metadata": {},
   "outputs": [
    {
     "name": "stderr",
     "output_type": "stream",
     "text": [
      "/opt/homebrew/lib/python3.11/site-packages/sklearn/preprocessing/_encoders.py:227: UserWarning: Found unknown categories in columns [2] during transform. These unknown categories will be encoded as all zeros\n",
      "  warnings.warn(\n"
     ]
    }
   ],
   "source": [
    "# Preprocess the consumer dataset\n",
    "X_train_c = consumer_data.drop(['is_fraud'], axis=1)\n",
    "y_train_c = consumer_data['is_fraud']\n",
    "X_train_encoded_c, X_test_encoded_c = preprocess_test(X_train_c, X_test)"
   ]
  },
  {
   "cell_type": "code",
   "execution_count": 17,
   "metadata": {},
   "outputs": [
    {
     "name": "stdout",
     "output_type": "stream",
     "text": [
      "3209 instances labelled as suspicious according to the consumer fraud model.\n",
      "13610452 instances labelled as not suspicious according to the consumer fraud model.\n",
      "Proportion of fraudulent data: 0.02%\n"
     ]
    }
   ],
   "source": [
    "# Predict the labels for consumer data\n",
    "y_pred_c = predict_rfc(X_train_encoded_c, y_train_c, X_test_encoded_c, 'consumer', n=250)\n",
    "\n",
    "sus_count_c = (y_pred_c['consumer_is_fraud'] == True).sum()\n",
    "print(f'{sus_count_c} instances labelled as suspicious according to the consumer fraud model.')\n",
    "print(f'{y_pred_c.shape[0]-sus_count_c} instances labelled as not suspicious according to the consumer fraud model.')\n",
    "print(f'Proportion of fraudulent data: {np.round(100*sus_count_c/(y_pred_c.shape[0]), 2)}%')\n"
   ]
  },
  {
   "cell_type": "markdown",
   "metadata": {},
   "source": [
    "### Train and predict the merchant fraud data"
   ]
  },
  {
   "cell_type": "code",
   "execution_count": 18,
   "metadata": {},
   "outputs": [
    {
     "name": "stderr",
     "output_type": "stream",
     "text": [
      "/opt/homebrew/lib/python3.11/site-packages/sklearn/preprocessing/_encoders.py:227: UserWarning: Found unknown categories in columns [2] during transform. These unknown categories will be encoded as all zeros\n",
      "  warnings.warn(\n"
     ]
    }
   ],
   "source": [
    "# Preprocess the merchant dataset\n",
    "X_train_m = merchant_data.drop(['is_fraud'], axis=1)\n",
    "y_train_m = merchant_data['is_fraud']\n",
    "X_train_encoded_m, X_test_encoded_m = preprocess_test(X_train_m, X_test)"
   ]
  },
  {
   "cell_type": "code",
   "execution_count": 19,
   "metadata": {},
   "outputs": [
    {
     "name": "stdout",
     "output_type": "stream",
     "text": [
      "510611 instances labelled as suspicious according to the consumer fraud model.\n",
      "13103050 instances labelled as not suspicious according to the consumer fraud model.\n",
      "Proportion of fraudulent data: 3.75%\n"
     ]
    }
   ],
   "source": [
    "# Predict the labels for the merchant data\n",
    "y_pred_m = predict_rfc(X_train_encoded_m, y_train_m, X_test_encoded_m, 'merchant', n=150)\n",
    "\n",
    "sus_count_m = (y_pred_m['merchant_is_fraud'] == True).sum()\n",
    "print(f'{sus_count_m} instances labelled as suspicious according to the consumer fraud model.')\n",
    "print(f'{y_pred_m.shape[0]-sus_count_m} instances labelled as not suspicious according to the consumer fraud model.')\n",
    "print(f'Proportion of fraudulent data: {np.round(100*sus_count_m/(y_pred_m.shape[0]), 2)}%')\n"
   ]
  },
  {
   "cell_type": "markdown",
   "metadata": {},
   "source": [
    "### Join the label with transactions dataset"
   ]
  },
  {
   "cell_type": "code",
   "execution_count": 20,
   "metadata": {},
   "outputs": [
    {
     "name": "stdout",
     "output_type": "stream",
     "text": [
      "(13613661, 3)\n"
     ]
    },
    {
     "data": {
      "text/html": [
       "<div>\n",
       "<style scoped>\n",
       "    .dataframe tbody tr th:only-of-type {\n",
       "        vertical-align: middle;\n",
       "    }\n",
       "\n",
       "    .dataframe tbody tr th {\n",
       "        vertical-align: top;\n",
       "    }\n",
       "\n",
       "    .dataframe thead th {\n",
       "        text-align: right;\n",
       "    }\n",
       "</style>\n",
       "<table border=\"1\" class=\"dataframe\">\n",
       "  <thead>\n",
       "    <tr style=\"text-align: right;\">\n",
       "      <th></th>\n",
       "      <th>order_id</th>\n",
       "      <th>consumer_is_fraud</th>\n",
       "      <th>merchant_is_fraud</th>\n",
       "    </tr>\n",
       "  </thead>\n",
       "  <tbody>\n",
       "    <tr>\n",
       "      <th>0</th>\n",
       "      <td>50ad85ec-9f43-4dee-b429-8a2f82fdc27f</td>\n",
       "      <td>False</td>\n",
       "      <td>False</td>\n",
       "    </tr>\n",
       "    <tr>\n",
       "      <th>1</th>\n",
       "      <td>d90fee6a-06e8-4b1a-8259-e756a04eb21c</td>\n",
       "      <td>False</td>\n",
       "      <td>False</td>\n",
       "    </tr>\n",
       "    <tr>\n",
       "      <th>2</th>\n",
       "      <td>9623bf34-90e1-41c6-a679-33102ef4a18c</td>\n",
       "      <td>False</td>\n",
       "      <td>False</td>\n",
       "    </tr>\n",
       "    <tr>\n",
       "      <th>3</th>\n",
       "      <td>765be87d-700f-43f3-8962-37e6f9a17558</td>\n",
       "      <td>False</td>\n",
       "      <td>False</td>\n",
       "    </tr>\n",
       "    <tr>\n",
       "      <th>4</th>\n",
       "      <td>715a2510-5798-4c35-bcac-4fe84fcfdd45</td>\n",
       "      <td>False</td>\n",
       "      <td>False</td>\n",
       "    </tr>\n",
       "    <tr>\n",
       "      <th>5</th>\n",
       "      <td>cc9e0af8-6745-4738-ad7d-e27fb7d5fcf5</td>\n",
       "      <td>False</td>\n",
       "      <td>False</td>\n",
       "    </tr>\n",
       "    <tr>\n",
       "      <th>6</th>\n",
       "      <td>e3b5b3c0-0507-4066-97c7-f8c1dd1c0151</td>\n",
       "      <td>False</td>\n",
       "      <td>False</td>\n",
       "    </tr>\n",
       "    <tr>\n",
       "      <th>7</th>\n",
       "      <td>d88ac9b7-d151-4082-bf2a-b14266f3ddb1</td>\n",
       "      <td>False</td>\n",
       "      <td>False</td>\n",
       "    </tr>\n",
       "    <tr>\n",
       "      <th>8</th>\n",
       "      <td>d45fb69d-0190-48b5-9682-3b9bf190845d</td>\n",
       "      <td>False</td>\n",
       "      <td>False</td>\n",
       "    </tr>\n",
       "    <tr>\n",
       "      <th>9</th>\n",
       "      <td>348c6175-63e4-4a91-8f41-2fc1e3210f4f</td>\n",
       "      <td>False</td>\n",
       "      <td>False</td>\n",
       "    </tr>\n",
       "  </tbody>\n",
       "</table>\n",
       "</div>"
      ],
      "text/plain": [
       "                               order_id  consumer_is_fraud  merchant_is_fraud\n",
       "0  50ad85ec-9f43-4dee-b429-8a2f82fdc27f              False              False\n",
       "1  d90fee6a-06e8-4b1a-8259-e756a04eb21c              False              False\n",
       "2  9623bf34-90e1-41c6-a679-33102ef4a18c              False              False\n",
       "3  765be87d-700f-43f3-8962-37e6f9a17558              False              False\n",
       "4  715a2510-5798-4c35-bcac-4fe84fcfdd45              False              False\n",
       "5  cc9e0af8-6745-4738-ad7d-e27fb7d5fcf5              False              False\n",
       "6  e3b5b3c0-0507-4066-97c7-f8c1dd1c0151              False              False\n",
       "7  d88ac9b7-d151-4082-bf2a-b14266f3ddb1              False              False\n",
       "8  d45fb69d-0190-48b5-9682-3b9bf190845d              False              False\n",
       "9  348c6175-63e4-4a91-8f41-2fc1e3210f4f              False              False"
      ]
     },
     "execution_count": 20,
     "metadata": {},
     "output_type": "execute_result"
    }
   ],
   "source": [
    "result_with_key = pd.concat([full_data_key, y_pred_c, y_pred_m], \n",
    "                            axis=1, ignore_index=True)\n",
    "result_with_key.columns= ['order_id', 'consumer_is_fraud', 'merchant_is_fraud']\n",
    "print(result_with_key.shape)\n",
    "result_with_key.head(10)"
   ]
  },
  {
   "cell_type": "code",
   "execution_count": 21,
   "metadata": {},
   "outputs": [],
   "source": [
    "result_with_key.to_parquet('../data/raw/transactions_fraud')"
   ]
  },
  {
   "cell_type": "code",
   "execution_count": 22,
   "metadata": {},
   "outputs": [],
   "source": [
    "transactions = pd.read_parquet('../data/raw/transactions_clean/')\n",
    "transactions = pd.merge(transactions, result_with_key, on='order_id')"
   ]
  },
  {
   "cell_type": "markdown",
   "metadata": {},
   "source": [
    "## 5. Calculate reliability scores for each merchant and their consumer base\n",
    "For each merchant, merchant reliability and consumer reliability (reliability of its consumer base) will be computed and added as new features."
   ]
  },
  {
   "cell_type": "markdown",
   "metadata": {},
   "source": [
    "Definitions:\n",
    "\n",
    "- Reliability of the merchant = 1 - (number of suspicious transaction by the merchant) / (total number of transaction made by the merchant)\n",
    "\n",
    "- Reliability of consumer base = 1 - (number of suspicious transaction by the consumer base) / (total number of transaction made by the consumer base)"
   ]
  },
  {
   "cell_type": "code",
   "execution_count": 23,
   "metadata": {},
   "outputs": [],
   "source": [
    "column_mapper = {'consumer_id':'total_num_consumer', \n",
    "                 'order_id':'total_num_trans',\n",
    "                 'dollar_value': 'total_revenue', \n",
    "                 'consumer_is_fraud': 'consumer_fraud_count', \n",
    "                 'merchant_is_fraud': 'merchant_fraud_count'}\n",
    "agg_merchants = transactions \\\n",
    "    .groupby(['merchant_abn', 'merchant_name', 'merchant_desc', 'merchant_take_rate']) \\\n",
    "    .agg({'consumer_id': 'nunique', 'order_id': 'count', 'dollar_value':'sum', \n",
    "          'consumer_is_fraud': 'sum', 'merchant_is_fraud': 'sum'}) \\\n",
    "    .rename(columns=column_mapper) \\\n",
    "    .reset_index()\n"
   ]
  },
  {
   "cell_type": "code",
   "execution_count": 24,
   "metadata": {},
   "outputs": [],
   "source": [
    "agg_merchants['consumer_reliability'] = 1- agg_merchants['consumer_fraud_count']/agg_merchants['total_num_trans']\n",
    "agg_merchants['merchant_reliability'] = 1- agg_merchants['merchant_fraud_count']/agg_merchants['total_num_trans']\n",
    "\n",
    "agg_merchants.drop(['consumer_fraud_count', 'merchant_fraud_count'], axis=1, inplace=True)"
   ]
  },
  {
   "cell_type": "code",
   "execution_count": 25,
   "metadata": {},
   "outputs": [
    {
     "data": {
      "text/html": [
       "<div>\n",
       "<style scoped>\n",
       "    .dataframe tbody tr th:only-of-type {\n",
       "        vertical-align: middle;\n",
       "    }\n",
       "\n",
       "    .dataframe tbody tr th {\n",
       "        vertical-align: top;\n",
       "    }\n",
       "\n",
       "    .dataframe thead th {\n",
       "        text-align: right;\n",
       "    }\n",
       "</style>\n",
       "<table border=\"1\" class=\"dataframe\">\n",
       "  <thead>\n",
       "    <tr style=\"text-align: right;\">\n",
       "      <th></th>\n",
       "      <th>merchant_abn</th>\n",
       "      <th>merchant_name</th>\n",
       "      <th>merchant_desc</th>\n",
       "      <th>merchant_take_rate</th>\n",
       "      <th>total_num_consumer</th>\n",
       "      <th>total_num_trans</th>\n",
       "      <th>total_revenue</th>\n",
       "      <th>consumer_reliability</th>\n",
       "      <th>merchant_reliability</th>\n",
       "    </tr>\n",
       "  </thead>\n",
       "  <tbody>\n",
       "    <tr>\n",
       "      <th>0</th>\n",
       "      <td>10023283211</td>\n",
       "      <td>Felis Limited</td>\n",
       "      <td>furniture</td>\n",
       "      <td>0.18</td>\n",
       "      <td>3032</td>\n",
       "      <td>3261</td>\n",
       "      <td>703277.711451</td>\n",
       "      <td>0.999693</td>\n",
       "      <td>0.000000</td>\n",
       "    </tr>\n",
       "    <tr>\n",
       "      <th>1</th>\n",
       "      <td>10142254217</td>\n",
       "      <td>Arcu Ac Orci Corporation</td>\n",
       "      <td>cable</td>\n",
       "      <td>4.22</td>\n",
       "      <td>2849</td>\n",
       "      <td>3036</td>\n",
       "      <td>118356.146073</td>\n",
       "      <td>1.000000</td>\n",
       "      <td>0.979908</td>\n",
       "    </tr>\n",
       "    <tr>\n",
       "      <th>2</th>\n",
       "      <td>10165489824</td>\n",
       "      <td>Nunc Sed Company</td>\n",
       "      <td>jewelry</td>\n",
       "      <td>4.40</td>\n",
       "      <td>5</td>\n",
       "      <td>5</td>\n",
       "      <td>56180.473857</td>\n",
       "      <td>0.800000</td>\n",
       "      <td>1.000000</td>\n",
       "    </tr>\n",
       "    <tr>\n",
       "      <th>3</th>\n",
       "      <td>10187291046</td>\n",
       "      <td>Ultricies Dignissim Lacus Foundation</td>\n",
       "      <td>watch</td>\n",
       "      <td>3.29</td>\n",
       "      <td>335</td>\n",
       "      <td>336</td>\n",
       "      <td>39693.730387</td>\n",
       "      <td>1.000000</td>\n",
       "      <td>0.970238</td>\n",
       "    </tr>\n",
       "    <tr>\n",
       "      <th>4</th>\n",
       "      <td>10192359162</td>\n",
       "      <td>Enim Condimentum PC</td>\n",
       "      <td>music</td>\n",
       "      <td>6.33</td>\n",
       "      <td>383</td>\n",
       "      <td>385</td>\n",
       "      <td>177980.505456</td>\n",
       "      <td>1.000000</td>\n",
       "      <td>0.979221</td>\n",
       "    </tr>\n",
       "  </tbody>\n",
       "</table>\n",
       "</div>"
      ],
      "text/plain": [
       "   merchant_abn                         merchant_name merchant_desc  \\\n",
       "0   10023283211                         Felis Limited     furniture   \n",
       "1   10142254217              Arcu Ac Orci Corporation         cable   \n",
       "2   10165489824                      Nunc Sed Company       jewelry   \n",
       "3   10187291046  Ultricies Dignissim Lacus Foundation         watch   \n",
       "4   10192359162                   Enim Condimentum PC         music   \n",
       "\n",
       "   merchant_take_rate  total_num_consumer  total_num_trans  total_revenue  \\\n",
       "0                0.18                3032             3261  703277.711451   \n",
       "1                4.22                2849             3036  118356.146073   \n",
       "2                4.40                   5                5   56180.473857   \n",
       "3                3.29                 335              336   39693.730387   \n",
       "4                6.33                 383              385  177980.505456   \n",
       "\n",
       "   consumer_reliability  merchant_reliability  \n",
       "0              0.999693              0.000000  \n",
       "1              1.000000              0.979908  \n",
       "2              0.800000              1.000000  \n",
       "3              1.000000              0.970238  \n",
       "4              1.000000              0.979221  "
      ]
     },
     "execution_count": 25,
     "metadata": {},
     "output_type": "execute_result"
    }
   ],
   "source": [
    "agg_merchants.head()"
   ]
  },
  {
   "cell_type": "code",
   "execution_count": 26,
   "metadata": {},
   "outputs": [],
   "source": [
    "agg_merchants.to_csv('../data/curated/agg_merchants.csv', index=False)"
   ]
  },
  {
   "cell_type": "markdown",
   "metadata": {},
   "source": [
    "### Side note: Visualizations on performance scores"
   ]
  },
  {
   "cell_type": "code",
   "execution_count": 27,
   "metadata": {},
   "outputs": [
    {
     "data": {
      "application/vnd.plotly.v1+json": {
       "config": {
        "plotlyServerURL": "https://plot.ly"
       },
       "data": [
        {
         "fill": "toself",
         "name": "Consumer Fraud Detection Performance",
         "r": [
          0.9896,
          0.9452,
          0.6564,
          0.7322
         ],
         "theta": [
          "accuracy",
          "precision",
          "recall",
          "f1-score"
         ],
         "type": "scatterpolar"
        },
        {
         "fill": "toself",
         "name": "Merchant Fraud Detection Performance",
         "r": [
          0.9913,
          0.9716,
          0.7971,
          0.8279
         ],
         "theta": [
          "accuracy",
          "precision",
          "recall",
          "f1-score"
         ],
         "type": "scatterpolar"
        }
       ],
       "layout": {
        "polar": {
         "radialaxis": {
          "range": [
           0,
           1
          ],
          "visible": true
         }
        },
        "showlegend": true,
        "template": {
         "data": {
          "bar": [
           {
            "error_x": {
             "color": "#2a3f5f"
            },
            "error_y": {
             "color": "#2a3f5f"
            },
            "marker": {
             "line": {
              "color": "#E5ECF6",
              "width": 0.5
             },
             "pattern": {
              "fillmode": "overlay",
              "size": 10,
              "solidity": 0.2
             }
            },
            "type": "bar"
           }
          ],
          "barpolar": [
           {
            "marker": {
             "line": {
              "color": "#E5ECF6",
              "width": 0.5
             },
             "pattern": {
              "fillmode": "overlay",
              "size": 10,
              "solidity": 0.2
             }
            },
            "type": "barpolar"
           }
          ],
          "carpet": [
           {
            "aaxis": {
             "endlinecolor": "#2a3f5f",
             "gridcolor": "white",
             "linecolor": "white",
             "minorgridcolor": "white",
             "startlinecolor": "#2a3f5f"
            },
            "baxis": {
             "endlinecolor": "#2a3f5f",
             "gridcolor": "white",
             "linecolor": "white",
             "minorgridcolor": "white",
             "startlinecolor": "#2a3f5f"
            },
            "type": "carpet"
           }
          ],
          "choropleth": [
           {
            "colorbar": {
             "outlinewidth": 0,
             "ticks": ""
            },
            "type": "choropleth"
           }
          ],
          "contour": [
           {
            "colorbar": {
             "outlinewidth": 0,
             "ticks": ""
            },
            "colorscale": [
             [
              0,
              "#0d0887"
             ],
             [
              0.1111111111111111,
              "#46039f"
             ],
             [
              0.2222222222222222,
              "#7201a8"
             ],
             [
              0.3333333333333333,
              "#9c179e"
             ],
             [
              0.4444444444444444,
              "#bd3786"
             ],
             [
              0.5555555555555556,
              "#d8576b"
             ],
             [
              0.6666666666666666,
              "#ed7953"
             ],
             [
              0.7777777777777778,
              "#fb9f3a"
             ],
             [
              0.8888888888888888,
              "#fdca26"
             ],
             [
              1,
              "#f0f921"
             ]
            ],
            "type": "contour"
           }
          ],
          "contourcarpet": [
           {
            "colorbar": {
             "outlinewidth": 0,
             "ticks": ""
            },
            "type": "contourcarpet"
           }
          ],
          "heatmap": [
           {
            "colorbar": {
             "outlinewidth": 0,
             "ticks": ""
            },
            "colorscale": [
             [
              0,
              "#0d0887"
             ],
             [
              0.1111111111111111,
              "#46039f"
             ],
             [
              0.2222222222222222,
              "#7201a8"
             ],
             [
              0.3333333333333333,
              "#9c179e"
             ],
             [
              0.4444444444444444,
              "#bd3786"
             ],
             [
              0.5555555555555556,
              "#d8576b"
             ],
             [
              0.6666666666666666,
              "#ed7953"
             ],
             [
              0.7777777777777778,
              "#fb9f3a"
             ],
             [
              0.8888888888888888,
              "#fdca26"
             ],
             [
              1,
              "#f0f921"
             ]
            ],
            "type": "heatmap"
           }
          ],
          "heatmapgl": [
           {
            "colorbar": {
             "outlinewidth": 0,
             "ticks": ""
            },
            "colorscale": [
             [
              0,
              "#0d0887"
             ],
             [
              0.1111111111111111,
              "#46039f"
             ],
             [
              0.2222222222222222,
              "#7201a8"
             ],
             [
              0.3333333333333333,
              "#9c179e"
             ],
             [
              0.4444444444444444,
              "#bd3786"
             ],
             [
              0.5555555555555556,
              "#d8576b"
             ],
             [
              0.6666666666666666,
              "#ed7953"
             ],
             [
              0.7777777777777778,
              "#fb9f3a"
             ],
             [
              0.8888888888888888,
              "#fdca26"
             ],
             [
              1,
              "#f0f921"
             ]
            ],
            "type": "heatmapgl"
           }
          ],
          "histogram": [
           {
            "marker": {
             "pattern": {
              "fillmode": "overlay",
              "size": 10,
              "solidity": 0.2
             }
            },
            "type": "histogram"
           }
          ],
          "histogram2d": [
           {
            "colorbar": {
             "outlinewidth": 0,
             "ticks": ""
            },
            "colorscale": [
             [
              0,
              "#0d0887"
             ],
             [
              0.1111111111111111,
              "#46039f"
             ],
             [
              0.2222222222222222,
              "#7201a8"
             ],
             [
              0.3333333333333333,
              "#9c179e"
             ],
             [
              0.4444444444444444,
              "#bd3786"
             ],
             [
              0.5555555555555556,
              "#d8576b"
             ],
             [
              0.6666666666666666,
              "#ed7953"
             ],
             [
              0.7777777777777778,
              "#fb9f3a"
             ],
             [
              0.8888888888888888,
              "#fdca26"
             ],
             [
              1,
              "#f0f921"
             ]
            ],
            "type": "histogram2d"
           }
          ],
          "histogram2dcontour": [
           {
            "colorbar": {
             "outlinewidth": 0,
             "ticks": ""
            },
            "colorscale": [
             [
              0,
              "#0d0887"
             ],
             [
              0.1111111111111111,
              "#46039f"
             ],
             [
              0.2222222222222222,
              "#7201a8"
             ],
             [
              0.3333333333333333,
              "#9c179e"
             ],
             [
              0.4444444444444444,
              "#bd3786"
             ],
             [
              0.5555555555555556,
              "#d8576b"
             ],
             [
              0.6666666666666666,
              "#ed7953"
             ],
             [
              0.7777777777777778,
              "#fb9f3a"
             ],
             [
              0.8888888888888888,
              "#fdca26"
             ],
             [
              1,
              "#f0f921"
             ]
            ],
            "type": "histogram2dcontour"
           }
          ],
          "mesh3d": [
           {
            "colorbar": {
             "outlinewidth": 0,
             "ticks": ""
            },
            "type": "mesh3d"
           }
          ],
          "parcoords": [
           {
            "line": {
             "colorbar": {
              "outlinewidth": 0,
              "ticks": ""
             }
            },
            "type": "parcoords"
           }
          ],
          "pie": [
           {
            "automargin": true,
            "type": "pie"
           }
          ],
          "scatter": [
           {
            "fillpattern": {
             "fillmode": "overlay",
             "size": 10,
             "solidity": 0.2
            },
            "type": "scatter"
           }
          ],
          "scatter3d": [
           {
            "line": {
             "colorbar": {
              "outlinewidth": 0,
              "ticks": ""
             }
            },
            "marker": {
             "colorbar": {
              "outlinewidth": 0,
              "ticks": ""
             }
            },
            "type": "scatter3d"
           }
          ],
          "scattercarpet": [
           {
            "marker": {
             "colorbar": {
              "outlinewidth": 0,
              "ticks": ""
             }
            },
            "type": "scattercarpet"
           }
          ],
          "scattergeo": [
           {
            "marker": {
             "colorbar": {
              "outlinewidth": 0,
              "ticks": ""
             }
            },
            "type": "scattergeo"
           }
          ],
          "scattergl": [
           {
            "marker": {
             "colorbar": {
              "outlinewidth": 0,
              "ticks": ""
             }
            },
            "type": "scattergl"
           }
          ],
          "scattermapbox": [
           {
            "marker": {
             "colorbar": {
              "outlinewidth": 0,
              "ticks": ""
             }
            },
            "type": "scattermapbox"
           }
          ],
          "scatterpolar": [
           {
            "marker": {
             "colorbar": {
              "outlinewidth": 0,
              "ticks": ""
             }
            },
            "type": "scatterpolar"
           }
          ],
          "scatterpolargl": [
           {
            "marker": {
             "colorbar": {
              "outlinewidth": 0,
              "ticks": ""
             }
            },
            "type": "scatterpolargl"
           }
          ],
          "scatterternary": [
           {
            "marker": {
             "colorbar": {
              "outlinewidth": 0,
              "ticks": ""
             }
            },
            "type": "scatterternary"
           }
          ],
          "surface": [
           {
            "colorbar": {
             "outlinewidth": 0,
             "ticks": ""
            },
            "colorscale": [
             [
              0,
              "#0d0887"
             ],
             [
              0.1111111111111111,
              "#46039f"
             ],
             [
              0.2222222222222222,
              "#7201a8"
             ],
             [
              0.3333333333333333,
              "#9c179e"
             ],
             [
              0.4444444444444444,
              "#bd3786"
             ],
             [
              0.5555555555555556,
              "#d8576b"
             ],
             [
              0.6666666666666666,
              "#ed7953"
             ],
             [
              0.7777777777777778,
              "#fb9f3a"
             ],
             [
              0.8888888888888888,
              "#fdca26"
             ],
             [
              1,
              "#f0f921"
             ]
            ],
            "type": "surface"
           }
          ],
          "table": [
           {
            "cells": {
             "fill": {
              "color": "#EBF0F8"
             },
             "line": {
              "color": "white"
             }
            },
            "header": {
             "fill": {
              "color": "#C8D4E3"
             },
             "line": {
              "color": "white"
             }
            },
            "type": "table"
           }
          ]
         },
         "layout": {
          "annotationdefaults": {
           "arrowcolor": "#2a3f5f",
           "arrowhead": 0,
           "arrowwidth": 1
          },
          "autotypenumbers": "strict",
          "coloraxis": {
           "colorbar": {
            "outlinewidth": 0,
            "ticks": ""
           }
          },
          "colorscale": {
           "diverging": [
            [
             0,
             "#8e0152"
            ],
            [
             0.1,
             "#c51b7d"
            ],
            [
             0.2,
             "#de77ae"
            ],
            [
             0.3,
             "#f1b6da"
            ],
            [
             0.4,
             "#fde0ef"
            ],
            [
             0.5,
             "#f7f7f7"
            ],
            [
             0.6,
             "#e6f5d0"
            ],
            [
             0.7,
             "#b8e186"
            ],
            [
             0.8,
             "#7fbc41"
            ],
            [
             0.9,
             "#4d9221"
            ],
            [
             1,
             "#276419"
            ]
           ],
           "sequential": [
            [
             0,
             "#0d0887"
            ],
            [
             0.1111111111111111,
             "#46039f"
            ],
            [
             0.2222222222222222,
             "#7201a8"
            ],
            [
             0.3333333333333333,
             "#9c179e"
            ],
            [
             0.4444444444444444,
             "#bd3786"
            ],
            [
             0.5555555555555556,
             "#d8576b"
            ],
            [
             0.6666666666666666,
             "#ed7953"
            ],
            [
             0.7777777777777778,
             "#fb9f3a"
            ],
            [
             0.8888888888888888,
             "#fdca26"
            ],
            [
             1,
             "#f0f921"
            ]
           ],
           "sequentialminus": [
            [
             0,
             "#0d0887"
            ],
            [
             0.1111111111111111,
             "#46039f"
            ],
            [
             0.2222222222222222,
             "#7201a8"
            ],
            [
             0.3333333333333333,
             "#9c179e"
            ],
            [
             0.4444444444444444,
             "#bd3786"
            ],
            [
             0.5555555555555556,
             "#d8576b"
            ],
            [
             0.6666666666666666,
             "#ed7953"
            ],
            [
             0.7777777777777778,
             "#fb9f3a"
            ],
            [
             0.8888888888888888,
             "#fdca26"
            ],
            [
             1,
             "#f0f921"
            ]
           ]
          },
          "colorway": [
           "#636efa",
           "#EF553B",
           "#00cc96",
           "#ab63fa",
           "#FFA15A",
           "#19d3f3",
           "#FF6692",
           "#B6E880",
           "#FF97FF",
           "#FECB52"
          ],
          "font": {
           "color": "#2a3f5f"
          },
          "geo": {
           "bgcolor": "white",
           "lakecolor": "white",
           "landcolor": "#E5ECF6",
           "showlakes": true,
           "showland": true,
           "subunitcolor": "white"
          },
          "hoverlabel": {
           "align": "left"
          },
          "hovermode": "closest",
          "mapbox": {
           "style": "light"
          },
          "paper_bgcolor": "white",
          "plot_bgcolor": "#E5ECF6",
          "polar": {
           "angularaxis": {
            "gridcolor": "white",
            "linecolor": "white",
            "ticks": ""
           },
           "bgcolor": "#E5ECF6",
           "radialaxis": {
            "gridcolor": "white",
            "linecolor": "white",
            "ticks": ""
           }
          },
          "scene": {
           "xaxis": {
            "backgroundcolor": "#E5ECF6",
            "gridcolor": "white",
            "gridwidth": 2,
            "linecolor": "white",
            "showbackground": true,
            "ticks": "",
            "zerolinecolor": "white"
           },
           "yaxis": {
            "backgroundcolor": "#E5ECF6",
            "gridcolor": "white",
            "gridwidth": 2,
            "linecolor": "white",
            "showbackground": true,
            "ticks": "",
            "zerolinecolor": "white"
           },
           "zaxis": {
            "backgroundcolor": "#E5ECF6",
            "gridcolor": "white",
            "gridwidth": 2,
            "linecolor": "white",
            "showbackground": true,
            "ticks": "",
            "zerolinecolor": "white"
           }
          },
          "shapedefaults": {
           "line": {
            "color": "#2a3f5f"
           }
          },
          "ternary": {
           "aaxis": {
            "gridcolor": "white",
            "linecolor": "white",
            "ticks": ""
           },
           "baxis": {
            "gridcolor": "white",
            "linecolor": "white",
            "ticks": ""
           },
           "bgcolor": "#E5ECF6",
           "caxis": {
            "gridcolor": "white",
            "linecolor": "white",
            "ticks": ""
           }
          },
          "title": {
           "x": 0.05
          },
          "xaxis": {
           "automargin": true,
           "gridcolor": "white",
           "linecolor": "white",
           "ticks": "",
           "title": {
            "standoff": 15
           },
           "zerolinecolor": "white",
           "zerolinewidth": 2
          },
          "yaxis": {
           "automargin": true,
           "gridcolor": "white",
           "linecolor": "white",
           "ticks": "",
           "title": {
            "standoff": 15
           },
           "zerolinecolor": "white",
           "zerolinewidth": 2
          }
         }
        }
       }
      }
     },
     "metadata": {},
     "output_type": "display_data"
    }
   ],
   "source": [
    "# Create an interactive spider plot for the performance of two models\n",
    "\n",
    "categories = ['accuracy', 'precision', 'recall', 'f1-score']\n",
    "\n",
    "fig = go.Figure()\n",
    "# Create the plot for consumer fraud model\n",
    "fig.add_trace(go.Scatterpolar(\n",
    "      r=[0.9896, 0.9452, 0.6564, 0.7322],\n",
    "      theta=categories,\n",
    "      fill='toself',\n",
    "      name='Consumer Fraud Detection Performance'\n",
    "))\n",
    "# Create the plot for merchant fraud model\n",
    "fig.add_trace(go.Scatterpolar(\n",
    "      r=[0.9913, 0.9716, 0.7971, 0.8279],\n",
    "      theta=categories,\n",
    "      fill='toself',\n",
    "      name='Merchant Fraud Detection Performance'\n",
    "))\n",
    "\n",
    "fig.update_layout(\n",
    "  polar=dict(\n",
    "    radialaxis=dict(\n",
    "      visible=True,\n",
    "      range=[0, 1]\n",
    "    )),\n",
    "  showlegend=True\n",
    ")\n",
    "\n",
    "fig.show()"
   ]
  },
  {
   "cell_type": "code",
   "execution_count": 28,
   "metadata": {},
   "outputs": [
    {
     "data": {
      "image/png": "[encoded data removed]",
      "text/plain": [
       "<Figure size 640x480 with 1 Axes>"
      ]
     },
     "metadata": {},
     "output_type": "display_data"
    }
   ],
   "source": [
    "# Sample data\n",
    "models = ['Consumer', 'Merchant']\n",
    "metrics = ['Accuracy', 'Precision', 'Recall', 'F1 Score']\n",
    "scores_model_a = [0.9896, 0.9452, 0.6564, 0.7322]\n",
    "scores_model_b = [0.9913, 0.9716, 0.7971, 0.8279]\n",
    "\n",
    "# Set the width of the bars\n",
    "bar_width = 0.35\n",
    "\n",
    "# Define the positions of the bars on the x-axis\n",
    "x = range(len(metrics))\n",
    "\n",
    "# Create subplots\n",
    "fig, ax = plt.subplots()\n",
    "\n",
    "# Create bar plots for the two models\n",
    "bar1 = ax.bar(x, scores_model_a, width=bar_width, label='Consumer', color='mediumturquoise')\n",
    "bar2 = ax.bar([i + bar_width for i in x], scores_model_b, width=bar_width, label='Merchant', color='tomato')\n",
    "\n",
    "# Set the x-axis labels\n",
    "ax.set_xticks([i + bar_width / 2 for i in x])\n",
    "ax.set_xticklabels(metrics)\n",
    "\n",
    "# Set labels and title\n",
    "ax.set_xlabel('Metrics')\n",
    "ax.set_ylabel('Scores')\n",
    "ax.set_title('Fraud Detection Model Performance Comparison')\n",
    "\n",
    "# Add numbers (labels) above the bars\n",
    "for i, bar in enumerate(bar1):\n",
    "    ax.text(bar.get_x() + bar.get_width() / 2, bar.get_height() + 0.01, f'{scores_model_a[i]:.2f}', ha='center', va='bottom')\n",
    "for i, bar in enumerate(bar2):\n",
    "    ax.text(bar.get_x() + bar.get_width() / 2, bar.get_height() + 0.01, f'{scores_model_b[i]:.2f}', ha='center', va='bottom')\n",
    "\n",
    "ax.legend()\n",
    "\n",
    "# Show and save the plot\n",
    "plt.savefig('../plots/fraud_models_performance.png', bbox_inches='tight')\n",
    "plt.show()"
   ]
  }
 ],
 "metadata": {
  "kernelspec": {
   "display_name": "Python 3 (ipykernel)",
   "language": "python",
   "name": "python3"
  },
  "language_info": {
   "codemirror_mode": {
    "name": "ipython",
    "version": 3
   },
   "file_extension": ".py",
   "mimetype": "text/x-python",
   "name": "python",
   "nbconvert_exporter": "python",
   "pygments_lexer": "ipython3",
   "version": "3.11.4"
  }
 },
 "nbformat": 4,
 "nbformat_minor": 4
}
