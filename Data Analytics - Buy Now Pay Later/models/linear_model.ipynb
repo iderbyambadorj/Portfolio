{
 "cells": [
  {
   "cell_type": "markdown",
   "metadata": {},
   "source": [
    "# Implementation of Forecast model"
   ]
  },
  {
   "cell_type": "markdown",
   "metadata": {},
   "source": [
    "The aim of this notebook is to implement forecast model using linear regression, hence prediciting the number of consumers, total revenue, and number of transactions in 2022 based on 2021-2022 data."
   ]
  },
  {
   "cell_type": "markdown",
   "metadata": {},
   "source": [
    "Three separate models will be trained to predict each of number of consumers,  total revenue, and number of transactions, and those implementions will be shown in sequential order as follows."
   ]
  },
  {
   "cell_type": "code",
   "execution_count": 1,
   "metadata": {},
   "outputs": [],
   "source": [
    "import pandas as pd\n",
    "from statsmodels.formula.api import ols\n",
    "from sklearn.metrics import *\n",
    "from sklearn.model_selection import *\n",
    "from sklearn.linear_model import *\n"
   ]
  },
  {
   "cell_type": "markdown",
   "metadata": {},
   "source": [
    "### Read in Data"
   ]
  },
  {
   "cell_type": "code",
   "execution_count": 2,
   "metadata": {},
   "outputs": [],
   "source": [
    "train_data = pd.read_parquet('../data/curated/train_data/')\n",
    "test_data = pd.read_parquet('../data/curated/test_data/')\n",
    "train_data.drop(['merchant_take_rate', 'year'], axis=1, inplace = True)\n",
    "test_data.drop(['merchant_take_rate', 'year'], axis=1, inplace = True)"
   ]
  },
  {
   "cell_type": "code",
   "execution_count": 3,
   "metadata": {},
   "outputs": [],
   "source": [
    "# Remove NA values from the data\n",
    "train_data = train_data.dropna(axis=0)\n",
    "test_data = test_data.dropna(axis=0)"
   ]
  },
  {
   "cell_type": "code",
   "execution_count": 4,
   "metadata": {},
   "outputs": [],
   "source": [
    "train_data = train_data.set_index('merchant_abn')\n",
    "test_data = test_data.set_index('merchant_abn')"
   ]
  },
  {
   "cell_type": "code",
   "execution_count": 5,
   "metadata": {},
   "outputs": [
    {
     "data": {
      "text/html": [
       "<div>\n",
       "<style scoped>\n",
       "    .dataframe tbody tr th:only-of-type {\n",
       "        vertical-align: middle;\n",
       "    }\n",
       "\n",
       "    .dataframe tbody tr th {\n",
       "        vertical-align: top;\n",
       "    }\n",
       "\n",
       "    .dataframe thead th {\n",
       "        text-align: right;\n",
       "    }\n",
       "</style>\n",
       "<table border=\"1\" class=\"dataframe\">\n",
       "  <thead>\n",
       "    <tr style=\"text-align: right;\">\n",
       "      <th></th>\n",
       "      <th>total_num_consumer</th>\n",
       "      <th>total_num_trans</th>\n",
       "      <th>total_revenue</th>\n",
       "      <th>zone_mean_population</th>\n",
       "      <th>zone_avg_num_earners</th>\n",
       "      <th>zone_avg_age</th>\n",
       "      <th>zone_avg_total_income</th>\n",
       "      <th>zone_avg_income</th>\n",
       "      <th>avg_monthly_post</th>\n",
       "      <th>next_total_num_consumer</th>\n",
       "      <th>...</th>\n",
       "      <th>category_shoe</th>\n",
       "      <th>category_stationery</th>\n",
       "      <th>category_telecom</th>\n",
       "      <th>category_tent</th>\n",
       "      <th>category_watch</th>\n",
       "      <th>merchant_revenue_lvl_a</th>\n",
       "      <th>merchant_revenue_lvl_b</th>\n",
       "      <th>merchant_revenue_lvl_c</th>\n",
       "      <th>merchant_revenue_lvl_d</th>\n",
       "      <th>merchant_revenue_lvl_e</th>\n",
       "    </tr>\n",
       "    <tr>\n",
       "      <th>merchant_abn</th>\n",
       "      <th></th>\n",
       "      <th></th>\n",
       "      <th></th>\n",
       "      <th></th>\n",
       "      <th></th>\n",
       "      <th></th>\n",
       "      <th></th>\n",
       "      <th></th>\n",
       "      <th></th>\n",
       "      <th></th>\n",
       "      <th></th>\n",
       "      <th></th>\n",
       "      <th></th>\n",
       "      <th></th>\n",
       "      <th></th>\n",
       "      <th></th>\n",
       "      <th></th>\n",
       "      <th></th>\n",
       "      <th></th>\n",
       "      <th></th>\n",
       "      <th></th>\n",
       "    </tr>\n",
       "  </thead>\n",
       "  <tbody>\n",
       "    <tr>\n",
       "      <th>38700038932</th>\n",
       "      <td>4106</td>\n",
       "      <td>4134</td>\n",
       "      <td>5535580.95</td>\n",
       "      <td>10385.0</td>\n",
       "      <td>6818.0</td>\n",
       "      <td>44.910</td>\n",
       "      <td>2.938164e+08</td>\n",
       "      <td>51213.090</td>\n",
       "      <td>298.538462</td>\n",
       "      <td>4365.0</td>\n",
       "      <td>...</td>\n",
       "      <td>0</td>\n",
       "      <td>0</td>\n",
       "      <td>0</td>\n",
       "      <td>1</td>\n",
       "      <td>0</td>\n",
       "      <td>1</td>\n",
       "      <td>0</td>\n",
       "      <td>0</td>\n",
       "      <td>0</td>\n",
       "      <td>0</td>\n",
       "    </tr>\n",
       "    <tr>\n",
       "      <th>41956465747</th>\n",
       "      <td>153</td>\n",
       "      <td>153</td>\n",
       "      <td>36275.63</td>\n",
       "      <td>10348.5</td>\n",
       "      <td>6838.5</td>\n",
       "      <td>44.570</td>\n",
       "      <td>3.194060e+08</td>\n",
       "      <td>50381.900</td>\n",
       "      <td>12.750000</td>\n",
       "      <td>177.0</td>\n",
       "      <td>...</td>\n",
       "      <td>0</td>\n",
       "      <td>0</td>\n",
       "      <td>0</td>\n",
       "      <td>0</td>\n",
       "      <td>0</td>\n",
       "      <td>0</td>\n",
       "      <td>1</td>\n",
       "      <td>0</td>\n",
       "      <td>0</td>\n",
       "      <td>0</td>\n",
       "    </tr>\n",
       "    <tr>\n",
       "      <th>48214071373</th>\n",
       "      <td>289</td>\n",
       "      <td>289</td>\n",
       "      <td>86416.64</td>\n",
       "      <td>9877.5</td>\n",
       "      <td>6317.0</td>\n",
       "      <td>44.960</td>\n",
       "      <td>2.510173e+08</td>\n",
       "      <td>49916.165</td>\n",
       "      <td>24.000000</td>\n",
       "      <td>345.0</td>\n",
       "      <td>...</td>\n",
       "      <td>0</td>\n",
       "      <td>0</td>\n",
       "      <td>0</td>\n",
       "      <td>0</td>\n",
       "      <td>0</td>\n",
       "      <td>0</td>\n",
       "      <td>1</td>\n",
       "      <td>0</td>\n",
       "      <td>0</td>\n",
       "      <td>0</td>\n",
       "    </tr>\n",
       "    <tr>\n",
       "      <th>92202115241</th>\n",
       "      <td>78</td>\n",
       "      <td>78</td>\n",
       "      <td>24513.30</td>\n",
       "      <td>9523.0</td>\n",
       "      <td>6186.0</td>\n",
       "      <td>46.300</td>\n",
       "      <td>2.828092e+08</td>\n",
       "      <td>49269.645</td>\n",
       "      <td>6.500000</td>\n",
       "      <td>65.0</td>\n",
       "      <td>...</td>\n",
       "      <td>0</td>\n",
       "      <td>0</td>\n",
       "      <td>0</td>\n",
       "      <td>0</td>\n",
       "      <td>0</td>\n",
       "      <td>1</td>\n",
       "      <td>0</td>\n",
       "      <td>0</td>\n",
       "      <td>0</td>\n",
       "      <td>0</td>\n",
       "    </tr>\n",
       "    <tr>\n",
       "      <th>15700338102</th>\n",
       "      <td>117</td>\n",
       "      <td>117</td>\n",
       "      <td>18938.77</td>\n",
       "      <td>11181.5</td>\n",
       "      <td>6518.0</td>\n",
       "      <td>45.205</td>\n",
       "      <td>2.671535e+08</td>\n",
       "      <td>50454.770</td>\n",
       "      <td>9.750000</td>\n",
       "      <td>136.0</td>\n",
       "      <td>...</td>\n",
       "      <td>0</td>\n",
       "      <td>0</td>\n",
       "      <td>0</td>\n",
       "      <td>0</td>\n",
       "      <td>0</td>\n",
       "      <td>1</td>\n",
       "      <td>0</td>\n",
       "      <td>0</td>\n",
       "      <td>0</td>\n",
       "      <td>0</td>\n",
       "    </tr>\n",
       "  </tbody>\n",
       "</table>\n",
       "<p>5 rows × 41 columns</p>\n",
       "</div>"
      ],
      "text/plain": [
       "              total_num_consumer  total_num_trans  total_revenue  \\\n",
       "merchant_abn                                                       \n",
       "38700038932                 4106             4134     5535580.95   \n",
       "41956465747                  153              153       36275.63   \n",
       "48214071373                  289              289       86416.64   \n",
       "92202115241                   78               78       24513.30   \n",
       "15700338102                  117              117       18938.77   \n",
       "\n",
       "              zone_mean_population  zone_avg_num_earners  zone_avg_age  \\\n",
       "merchant_abn                                                             \n",
       "38700038932                10385.0                6818.0        44.910   \n",
       "41956465747                10348.5                6838.5        44.570   \n",
       "48214071373                 9877.5                6317.0        44.960   \n",
       "92202115241                 9523.0                6186.0        46.300   \n",
       "15700338102                11181.5                6518.0        45.205   \n",
       "\n",
       "              zone_avg_total_income  zone_avg_income  avg_monthly_post  \\\n",
       "merchant_abn                                                             \n",
       "38700038932            2.938164e+08        51213.090        298.538462   \n",
       "41956465747            3.194060e+08        50381.900         12.750000   \n",
       "48214071373            2.510173e+08        49916.165         24.000000   \n",
       "92202115241            2.828092e+08        49269.645          6.500000   \n",
       "15700338102            2.671535e+08        50454.770          9.750000   \n",
       "\n",
       "              next_total_num_consumer  ...  category_shoe  \\\n",
       "merchant_abn                           ...                  \n",
       "38700038932                    4365.0  ...              0   \n",
       "41956465747                     177.0  ...              0   \n",
       "48214071373                     345.0  ...              0   \n",
       "92202115241                      65.0  ...              0   \n",
       "15700338102                     136.0  ...              0   \n",
       "\n",
       "              category_stationery  category_telecom  category_tent  \\\n",
       "merchant_abn                                                         \n",
       "38700038932                     0                 0              1   \n",
       "41956465747                     0                 0              0   \n",
       "48214071373                     0                 0              0   \n",
       "92202115241                     0                 0              0   \n",
       "15700338102                     0                 0              0   \n",
       "\n",
       "              category_watch  merchant_revenue_lvl_a  merchant_revenue_lvl_b  \\\n",
       "merchant_abn                                                                   \n",
       "38700038932                0                       1                       0   \n",
       "41956465747                0                       0                       1   \n",
       "48214071373                0                       0                       1   \n",
       "92202115241                0                       1                       0   \n",
       "15700338102                0                       1                       0   \n",
       "\n",
       "              merchant_revenue_lvl_c  merchant_revenue_lvl_d  \\\n",
       "merchant_abn                                                   \n",
       "38700038932                        0                       0   \n",
       "41956465747                        0                       0   \n",
       "48214071373                        0                       0   \n",
       "92202115241                        0                       0   \n",
       "15700338102                        0                       0   \n",
       "\n",
       "              merchant_revenue_lvl_e  \n",
       "merchant_abn                          \n",
       "38700038932                        0  \n",
       "41956465747                        0  \n",
       "48214071373                        0  \n",
       "92202115241                        0  \n",
       "15700338102                        0  \n",
       "\n",
       "[5 rows x 41 columns]"
      ]
     },
     "execution_count": 5,
     "metadata": {},
     "output_type": "execute_result"
    }
   ],
   "source": [
    "categorical_features = ['category', 'merchant_revenue_lvl']\n",
    "train_data = pd.get_dummies(train_data, columns=categorical_features)\n",
    "test_data = pd.get_dummies(test_data, columns=categorical_features)\n",
    "\n",
    "train_data.head()"
   ]
  },
  {
   "cell_type": "markdown",
   "metadata": {},
   "source": [
    "## 1. Predicting Total Number of Consumers "
   ]
  },
  {
   "cell_type": "code",
   "execution_count": 6,
   "metadata": {},
   "outputs": [],
   "source": [
    "# Separate the target variables\n",
    "labels = ['next_total_num_consumer', 'next_total_revenue', 'next_total_num_trans']\n",
    "features = [i for i in train_data.columns if i not in labels]\n",
    "X = train_data[features]\n",
    "y = train_data['next_total_num_consumer']\n",
    "test = test_data[features]"
   ]
  },
  {
   "cell_type": "code",
   "execution_count": 7,
   "metadata": {},
   "outputs": [
    {
     "name": "stdout",
     "output_type": "stream",
     "text": [
      "               feature       coef\n",
      "18   category_florists -12.051717\n",
      "19  category_furniture -10.677050\n",
      "14      category_cable  -8.201633\n",
      "15   category_computer  -5.441599\n",
      "26      category_music  -4.139070\n",
      "                   feature      coef\n",
      "25          category_motor  9.598678\n",
      "11  category_artist supply  6.588512\n",
      "21           category_gift  4.370475\n",
      "22         category_health  3.831363\n",
      "37  merchant_revenue_lvl_e  3.321446\n"
     ]
    }
   ],
   "source": [
    "# Display the coefficients for the linear regression\n",
    "X_train, X_test, y_train, y_test = train_test_split(X, y, test_size=0.1, random_state=42)\n",
    "lr = LinearRegression()\n",
    "fitted_model = lr.fit(X_train, y_train)\n",
    "coef = pd.DataFrame({\"feature\":features, \"coef\": lr.coef_})\n",
    "# Top 5 features with smallest coefficient (negative)\n",
    "print(coef.sort_values(by='coef', ascending=True).head(5))\n",
    "# Top 5 features with largest coefficient (positive)\n",
    "print(coef.sort_values(by='coef', ascending=False).head(5))"
   ]
  },
  {
   "cell_type": "code",
   "execution_count": 8,
   "metadata": {},
   "outputs": [],
   "source": [
    "y_pred = fitted_model.predict(X_test)\n",
    "result = pd.DataFrame({'predicted_total_num_consumer': y_pred, 'true_total_num_consumer': y_test})"
   ]
  },
  {
   "cell_type": "code",
   "execution_count": 9,
   "metadata": {},
   "outputs": [
    {
     "name": "stdout",
     "output_type": "stream",
     "text": [
      "R-squared score is 0.9999120885519618\n",
      "Mean Absolute Error is 32.18840727924995\n"
     ]
    }
   ],
   "source": [
    "# Evaluate the performance of the linear model\n",
    "r_2 = r2_score(y_test, y_pred)\n",
    "mae = mean_absolute_error(y_test, y_pred)\n",
    "print(f'R-squared score is {r_2}')\n",
    "print(f'Mean Absolute Error is {mae}')"
   ]
  },
  {
   "cell_type": "code",
   "execution_count": 10,
   "metadata": {},
   "outputs": [],
   "source": [
    "# Predict the label for the test data\n",
    "num_of_con = fitted_model.predict(test)\n",
    "test_data['predicted_total_number_consumers'] = num_of_con.round(0)"
   ]
  },
  {
   "cell_type": "markdown",
   "metadata": {},
   "source": [
    "## 2. Predicting Revenue "
   ]
  },
  {
   "cell_type": "code",
   "execution_count": 11,
   "metadata": {},
   "outputs": [],
   "source": [
    "# Separate the target variables\n",
    "labels = ['next_total_num_consumer', 'next_total_revenue', 'next_total_num_trans']\n",
    "features = [i for i in train_data.columns if i not in labels]\n",
    "X = train_data[features]\n",
    "y = train_data['next_total_revenue']\n",
    "test = test_data[features]"
   ]
  },
  {
   "cell_type": "code",
   "execution_count": 12,
   "metadata": {},
   "outputs": [
    {
     "name": "stdout",
     "output_type": "stream",
     "text": [
      "                   feature          coef\n",
      "10            category_art -13136.843378\n",
      "9         category_antique -10815.290888\n",
      "24        category_jewelry  -6570.702391\n",
      "36  merchant_revenue_lvl_d  -4372.816948\n",
      "20         category_garden  -3718.242775\n",
      "                   feature         coef\n",
      "12        category_bicycle  4457.244937\n",
      "16        category_digital  4450.149232\n",
      "37  merchant_revenue_lvl_e  3968.280168\n",
      "21           category_gift  3939.095610\n",
      "27      category_opticians  3812.676896\n"
     ]
    }
   ],
   "source": [
    "X_train, X_test, y_train, y_test = train_test_split(X, y, test_size=0.2, random_state=42)\n",
    "lr = LinearRegression()\n",
    "fitted_model = lr.fit(X_train, y_train)\n",
    "coef = pd.DataFrame({\"feature\":features, \"coef\": lr.coef_})\n",
    "# Top 5 features with smallest coefficient (negative)\n",
    "print(coef.sort_values(by='coef', ascending=True).head(5))\n",
    "# Top 5 features with largest coefficient (positive)\n",
    "print(coef.sort_values(by='coef', ascending=False).head(5))"
   ]
  },
  {
   "cell_type": "code",
   "execution_count": 13,
   "metadata": {},
   "outputs": [],
   "source": [
    "y_pred = fitted_model.predict(X_test)\n",
    "result = pd.DataFrame({'predicted_revenue': y_pred, 'true_revenue': y_test})"
   ]
  },
  {
   "cell_type": "code",
   "execution_count": 14,
   "metadata": {},
   "outputs": [
    {
     "name": "stdout",
     "output_type": "stream",
     "text": [
      "R-squared score is 0.9974573377314002\n",
      "Mean Absolute Error is 16196.60115858211\n"
     ]
    }
   ],
   "source": [
    "# Evaluate the performance of the linear model\n",
    "r_2 = r2_score(y_test, y_pred)\n",
    "mae = mean_absolute_error(y_test, y_pred)\n",
    "print(f'R-squared score is {r_2}')\n",
    "print(f'Mean Absolute Error is {mae}')"
   ]
  },
  {
   "cell_type": "code",
   "execution_count": 15,
   "metadata": {},
   "outputs": [],
   "source": [
    "# Predict the label for the test data\n",
    "revenue = fitted_model.predict(test)\n",
    "test_data['predicted_revenue'] = revenue"
   ]
  },
  {
   "cell_type": "markdown",
   "metadata": {},
   "source": [
    "## 3. Predicitng Total Number of Transactions"
   ]
  },
  {
   "cell_type": "code",
   "execution_count": 16,
   "metadata": {},
   "outputs": [],
   "source": [
    "# Separate the target variable\n",
    "labels = ['next_total_num_consumer', 'next_total_revenue', 'next_total_num_trans']\n",
    "features = [i for i in train_data.columns if i not in labels]\n",
    "X = train_data[features]\n",
    "y = train_data['next_total_num_trans']\n",
    "test = test_data[features]"
   ]
  },
  {
   "cell_type": "code",
   "execution_count": 17,
   "metadata": {},
   "outputs": [
    {
     "name": "stdout",
     "output_type": "stream",
     "text": [
      "               feature       coef\n",
      "18   category_florists -14.293507\n",
      "14      category_cable -13.562761\n",
      "15   category_computer  -5.894622\n",
      "26      category_music  -5.255395\n",
      "19  category_furniture  -3.976033\n",
      "                   feature      coef\n",
      "11  category_artist supply  8.331837\n",
      "27      category_opticians  6.354866\n",
      "28           category_shoe  5.910555\n",
      "25          category_motor  5.775343\n",
      "20         category_garden  4.466838\n"
     ]
    }
   ],
   "source": [
    "# Display the coefficients for the linear regression\n",
    "X_train, X_test, y_train, y_test = train_test_split(X, y, test_size=0.2, random_state=42)\n",
    "lr = LinearRegression()\n",
    "fitted_model = lr.fit(X_train, y_train)\n",
    "coef = pd.DataFrame({\"feature\":features, \"coef\": lr.coef_})\n",
    "# Top 5 features with smallest coefficient (negative)\n",
    "print(coef.sort_values(by='coef', ascending=True).head(5))\n",
    "# Top 5 features with largest coefficient (positive)\n",
    "print(coef.sort_values(by='coef', ascending=False).head(5))"
   ]
  },
  {
   "cell_type": "code",
   "execution_count": 18,
   "metadata": {},
   "outputs": [],
   "source": [
    "y_pred = fitted_model.predict(X_test)\n",
    "result = pd.DataFrame({'predicted_total_num_trans': y_pred.round(0), 'true_total_num_trans': y_test})"
   ]
  },
  {
   "cell_type": "code",
   "execution_count": 19,
   "metadata": {},
   "outputs": [
    {
     "name": "stdout",
     "output_type": "stream",
     "text": [
      "R-squared score is 0.9999514705369851\n",
      "Mean Absolute Error is 35.76329679664923\n"
     ]
    }
   ],
   "source": [
    "# Evaluate the performance of the linear model\n",
    "r_2 = r2_score(y_test, y_pred)\n",
    "mae = mean_absolute_error(y_test, y_pred)\n",
    "print(f'R-squared score is {r_2}')\n",
    "print(f'Mean Absolute Error is {mae}')"
   ]
  },
  {
   "cell_type": "code",
   "execution_count": 20,
   "metadata": {},
   "outputs": [],
   "source": [
    "# Predict the label for the test data\n",
    "num_transactions = fitted_model.predict(test)\n",
    "test_data['predicted_total_number_transactions'] = num_transactions.round(0)"
   ]
  },
  {
   "cell_type": "code",
   "execution_count": 21,
   "metadata": {},
   "outputs": [],
   "source": [
    "predicted_data = test_data.filter(like='predicted', axis=1)"
   ]
  },
  {
   "cell_type": "code",
   "execution_count": 22,
   "metadata": {},
   "outputs": [
    {
     "data": {
      "text/html": [
       "<div>\n",
       "<style scoped>\n",
       "    .dataframe tbody tr th:only-of-type {\n",
       "        vertical-align: middle;\n",
       "    }\n",
       "\n",
       "    .dataframe tbody tr th {\n",
       "        vertical-align: top;\n",
       "    }\n",
       "\n",
       "    .dataframe thead th {\n",
       "        text-align: right;\n",
       "    }\n",
       "</style>\n",
       "<table border=\"1\" class=\"dataframe\">\n",
       "  <thead>\n",
       "    <tr style=\"text-align: right;\">\n",
       "      <th></th>\n",
       "      <th>predicted_total_number_consumers</th>\n",
       "      <th>predicted_revenue</th>\n",
       "      <th>predicted_total_number_transactions</th>\n",
       "    </tr>\n",
       "    <tr>\n",
       "      <th>merchant_abn</th>\n",
       "      <th></th>\n",
       "      <th></th>\n",
       "      <th></th>\n",
       "    </tr>\n",
       "  </thead>\n",
       "  <tbody>\n",
       "    <tr>\n",
       "      <th>10142254217</th>\n",
       "      <td>1909.0</td>\n",
       "      <td>69346.445477</td>\n",
       "      <td>1901.0</td>\n",
       "    </tr>\n",
       "    <tr>\n",
       "      <th>10430380319</th>\n",
       "      <td>111.0</td>\n",
       "      <td>34926.546770</td>\n",
       "      <td>109.0</td>\n",
       "    </tr>\n",
       "    <tr>\n",
       "      <th>10463252268</th>\n",
       "      <td>50.0</td>\n",
       "      <td>27034.483863</td>\n",
       "      <td>50.0</td>\n",
       "    </tr>\n",
       "    <tr>\n",
       "      <th>10487253336</th>\n",
       "      <td>1587.0</td>\n",
       "      <td>728885.195019</td>\n",
       "      <td>1597.0</td>\n",
       "    </tr>\n",
       "    <tr>\n",
       "      <th>10553813474</th>\n",
       "      <td>512.0</td>\n",
       "      <td>148145.360857</td>\n",
       "      <td>516.0</td>\n",
       "    </tr>\n",
       "  </tbody>\n",
       "</table>\n",
       "</div>"
      ],
      "text/plain": [
       "              predicted_total_number_consumers  predicted_revenue  \\\n",
       "merchant_abn                                                        \n",
       "10142254217                             1909.0       69346.445477   \n",
       "10430380319                              111.0       34926.546770   \n",
       "10463252268                               50.0       27034.483863   \n",
       "10487253336                             1587.0      728885.195019   \n",
       "10553813474                              512.0      148145.360857   \n",
       "\n",
       "              predicted_total_number_transactions  \n",
       "merchant_abn                                       \n",
       "10142254217                                1901.0  \n",
       "10430380319                                 109.0  \n",
       "10463252268                                  50.0  \n",
       "10487253336                                1597.0  \n",
       "10553813474                                 516.0  "
      ]
     },
     "execution_count": 22,
     "metadata": {},
     "output_type": "execute_result"
    }
   ],
   "source": [
    "predicted_data.head()"
   ]
  },
  {
   "cell_type": "code",
   "execution_count": 23,
   "metadata": {},
   "outputs": [
    {
     "data": {
      "text/plain": [
       "predicted_total_number_consumers       4018\n",
       "predicted_revenue                      4018\n",
       "predicted_total_number_transactions    4018\n",
       "dtype: int64"
      ]
     },
     "execution_count": 23,
     "metadata": {},
     "output_type": "execute_result"
    }
   ],
   "source": [
    "predicted_data.count()"
   ]
  },
  {
   "cell_type": "code",
   "execution_count": 24,
   "metadata": {},
   "outputs": [],
   "source": [
    "predicted_data.to_csv('../data/curated/LM_prediction.csv')"
   ]
  }
 ],
 "metadata": {
  "kernelspec": {
   "display_name": "Python 3",
   "language": "python",
   "name": "python3"
  },
  "language_info": {
   "codemirror_mode": {
    "name": "ipython",
    "version": 3
   },
   "file_extension": ".py",
   "mimetype": "text/x-python",
   "name": "python",
   "nbconvert_exporter": "python",
   "pygments_lexer": "ipython3",
   "version": "3.11.4"
  },
  "orig_nbformat": 4
 },
 "nbformat": 4,
 "nbformat_minor": 2
}
