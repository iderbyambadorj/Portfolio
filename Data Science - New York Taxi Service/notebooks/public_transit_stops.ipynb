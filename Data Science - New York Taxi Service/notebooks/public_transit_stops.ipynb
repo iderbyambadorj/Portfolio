{
 "cells": [
  {
   "cell_type": "code",
   "execution_count": 1,
   "metadata": {},
   "outputs": [
    {
     "name": "stderr",
     "output_type": "stream",
     "text": [
      "/opt/homebrew/lib/python3.11/site-packages/geopandas/_compat.py:124: UserWarning: The Shapely GEOS version (3.11.1-CAPI-1.17.1) is incompatible with the GEOS version PyGEOS was compiled with (3.10.4-CAPI-1.16.2). Conversions between both will be slow.\n",
      "  warnings.warn(\n",
      "/var/folders/np/m1q4q1w54q59sj70tvylvg5m0000gn/T/ipykernel_3980/1428030430.py:1: DeprecationWarning: Shapely 2.0 is installed, but because PyGEOS is also installed, GeoPandas still uses PyGEOS by default. However, starting with version 0.14, the default will switch to Shapely. To force to use Shapely 2.0 now, you can either uninstall PyGEOS or set the environment variable USE_PYGEOS=0. You can do this before starting the Python process, or in your code before importing geopandas:\n",
      "\n",
      "import os\n",
      "os.environ['USE_PYGEOS'] = '0'\n",
      "import geopandas\n",
      "\n",
      "In the next release, GeoPandas will switch to using Shapely by default, even if PyGEOS is installed. If you only have PyGEOS installed to get speed-ups, this switch should be smooth. However, if you are using PyGEOS directly (calling PyGEOS functions on geometries from GeoPandas), this will then stop working and you are encouraged to migrate from PyGEOS to Shapely 2.0 (https://shapely.readthedocs.io/en/latest/migration_pygeos.html).\n",
      "  import geopandas as gpd\n"
     ]
    }
   ],
   "source": [
    "import geopandas as gpd\n",
    "import pandas as pd\n",
    "from shapely.geometry import Point"
   ]
  },
  {
   "cell_type": "markdown",
   "metadata": {},
   "source": [
    "## Aggregation"
   ]
  },
  {
   "cell_type": "code",
   "execution_count": 2,
   "metadata": {},
   "outputs": [
    {
     "name": "stdout",
     "output_type": "stream",
     "text": [
      "bk_bus\n",
      "(4619, 2)\n",
      "bus_company\n",
      "(3540, 2)\n",
      "bx_bus\n",
      "(1885, 2)\n",
      "LIRR\n",
      "(127, 2)\n",
      "metro_north\n",
      "(114, 2)\n",
      "mn_bus\n",
      "(1810, 2)\n",
      "nyc_subway\n",
      "(1497, 2)\n",
      "qn_bus\n",
      "(2094, 2)\n",
      "si_bus\n",
      "(1952, 2)\n",
      "(17638, 2)\n",
      "(16455, 2)\n"
     ]
    }
   ],
   "source": [
    "public_transit = ['bk_bus', 'bus_company', 'bx_bus', 'LIRR', 'metro_north',\n",
    "                    'mn_bus', 'nyc_subway', 'qn_bus', 'si_bus']\n",
    "\n",
    "first = True\n",
    "for transit in public_transit:\n",
    "\n",
    "    stop = pd.read_csv(\"../data/landing/public_transit_data/\"+transit+\"/stops.txt\")\n",
    "    stop['geometry'] = stop.apply(lambda row: Point(row['stop_lon'], row['stop_lat']), axis=1)\n",
    "    # stops = stops.drop(columns=['stop_name', 'stop_desc', 'zone_id', 'stop_url', 'location_type', 'parent_station'])\n",
    "    stop = stop[['stop_id', 'geometry']]\n",
    "    print(transit)\n",
    "    print(stop.shape)\n",
    "    # stop = stop.drop_duplicates(subset=['geometry'])\n",
    "    if first:\n",
    "        stops = stop\n",
    "        first = False\n",
    "    else:\n",
    "        stops = pd.concat([stops, stop])\n",
    "    # print(stop.shape)\n",
    "print(stops.shape)\n",
    "stops = stops.drop_duplicates(subset=['geometry'])\n",
    "print(stops.shape)"
   ]
  },
  {
   "cell_type": "markdown",
   "metadata": {},
   "source": [
    "Note: We removed 1183 instances as they were duplicates."
   ]
  },
  {
   "cell_type": "code",
   "execution_count": 3,
   "metadata": {},
   "outputs": [],
   "source": [
    "bus_stops = gpd.GeoDataFrame(stops, geometry='geometry')\n",
    "\n",
    "sf = gpd.read_file(\"../data/landing/taxi_zones/taxi_zones.shp\")\n",
    "sf['geometry'] = sf['geometry'].to_crs(\"+proj=longlat +ellps=WGS84 +datum=WGS84 +no_defs\")"
   ]
  },
  {
   "cell_type": "code",
   "execution_count": 4,
   "metadata": {},
   "outputs": [
    {
     "name": "stderr",
     "output_type": "stream",
     "text": [
      "/Users/idere_/Library/Python/3.11/lib/python/site-packages/IPython/core/interactiveshell.py:3400: FutureWarning: The `op` parameter is deprecated and will be removed in a future release. Please use the `predicate` parameter instead.\n",
      "  if await self.run_code(code, result, async_=asy):\n",
      "/var/folders/np/m1q4q1w54q59sj70tvylvg5m0000gn/T/ipykernel_3980/1245944608.py:2: UserWarning: CRS mismatch between the CRS of left geometries and the CRS of right geometries.\n",
      "Use `to_crs()` to reproject one of the input geometries to match the CRS of the other.\n",
      "\n",
      "Left CRS: +proj=longlat +ellps=WGS84 +datum=WGS84 +no_defs + ...\n",
      "Right CRS: None\n",
      "\n",
      "  result = gpd.sjoin(sf, bus_stops, how='left', op='contains')\n"
     ]
    }
   ],
   "source": [
    "# Join the public transport data to zone dataset using sjoin\n",
    "result = gpd.sjoin(sf, bus_stops, how='left', op='contains')\n",
    "grouped = result.groupby('LocationID')['stop_id'].count().reset_index()\n",
    "grouped.rename(columns={'stop_id': 'num_stops'}, inplace=True)\n",
    "final = sf.drop('OBJECTID', axis=1).merge(grouped, left_on='LocationID', right_on='LocationID')"
   ]
  },
  {
   "cell_type": "code",
   "execution_count": 5,
   "metadata": {},
   "outputs": [],
   "source": [
    "# Output the cleaned public transport dataset\n",
    "final.to_csv(\"../data/raw/public_transport.csv\", index=False)"
   ]
  }
 ],
 "metadata": {
  "kernelspec": {
   "display_name": "Python 3",
   "language": "python",
   "name": "python3"
  },
  "language_info": {
   "codemirror_mode": {
    "name": "ipython",
    "version": 3
   },
   "file_extension": ".py",
   "mimetype": "text/x-python",
   "name": "python",
   "nbconvert_exporter": "python",
   "pygments_lexer": "ipython3",
   "version": "3.11.4"
  },
  "orig_nbformat": 4
 },
 "nbformat": 4,
 "nbformat_minor": 2
}
